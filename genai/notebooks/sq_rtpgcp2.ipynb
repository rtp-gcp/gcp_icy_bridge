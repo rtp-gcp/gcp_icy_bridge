{
 "cells": [
  {
   "cell_type": "code",
   "execution_count": 73,
   "metadata": {},
   "outputs": [],
   "source": [
    "# Import the os package, used to set env variables and check paths\n",
    "import os\n",
    "# import the dotenv package for client keys in .env file\n",
    "from dotenv import load_dotenv\n",
    "# for random UUID keys\n",
    "# https://docs.python.org/3/library/uuid.html\n",
    "import uuid\n",
    "# Import square \n",
    "from square.client import Client\n",
    "# for pretty print\n",
    "import pprint\n",
    "# for datetime stamp\n",
    "import datetime"
   ]
  },
  {
   "cell_type": "code",
   "execution_count": 37,
   "metadata": {},
   "outputs": [
    {
     "data": {
      "text/plain": [
       "True"
      ]
     },
     "execution_count": 37,
     "metadata": {},
     "output_type": "execute_result"
    }
   ],
   "source": [
    "# Get the current working directory\n",
    "cwd = os.getcwd()\n",
    "\n",
    "# Construct the .env file path\n",
    "env_path = os.path.join(cwd, '.env')\n",
    "\n",
    "# Load the .env file\n",
    "load_dotenv(dotenv_path=env_path)"
   ]
  },
  {
   "cell_type": "code",
   "execution_count": 38,
   "metadata": {},
   "outputs": [],
   "source": [
    "%%bash\n",
    "#echo \"SQUARE_ACCESS_TOKEN: ${SQUARE_ACCESS_TOKEN}\"\n",
    "#echo \"SQUARE_APP_ID: ${SQUARE_APP_ID}\"\n",
    "#git clone https://github.com/square/square-python-sdk.git\n",
    "#cd square-python-sdk\n",
    "#pip install .\n"
   ]
  },
  {
   "cell_type": "markdown",
   "metadata": {},
   "source": [
    "@hidden_cell"
   ]
  },
  {
   "cell_type": "code",
   "execution_count": 39,
   "metadata": {},
   "outputs": [],
   "source": [
    "# init the square API\n",
    "# using generic os environment this fails.\n",
    "# However, when using the dotenv package it works\n",
    "sq_client = Client(\n",
    "    access_token=os.environ['SQUARE_ACCESS_TOKEN'],\n",
    "    environment='production'  \n",
    ")\n"
   ]
  },
  {
   "cell_type": "markdown",
   "metadata": {},
   "source": [
    "# Create a new item and associate with a new image"
   ]
  },
  {
   "cell_type": "markdown",
   "metadata": {},
   "source": [
    "## step 1 create a catalog item and add to library\n",
    "\n",
    "Everytime this is called, it creates a new one in the library.\n",
    "\n",
    "Use `delete_catalog_object()` to delete them based upon obj_id"
   ]
  },
  {
   "cell_type": "code",
   "execution_count": 54,
   "metadata": {},
   "outputs": [
    {
     "name": "stdout",
     "output_type": "stream",
     "text": [
      "{'catalog_object': {'type': 'ITEM', 'id': 'FX3EJWXWG54ANMM32CNQDT3O', 'updated_at': '2023-09-30T14:14:08.045Z', 'created_at': '2023-09-30T14:14:08.045Z', 'version': 1696083248045, 'is_deleted': False, 'present_at_all_locations': True, 'item_data': {'name': 'Dr Doom Doll', 'description': 'something we want vertex ai to generate', 'abbreviation': 'DRDOLL', 'is_taxable': True, 'variations': [{'type': 'ITEM_VARIATION', 'id': 'MWN7S42X45UBZPPVPFWJ4PYJ', 'updated_at': '2023-09-30T14:14:08.045Z', 'created_at': '2023-09-30T14:14:08.045Z', 'version': 1696083248045, 'is_deleted': False, 'present_at_all_locations': True, 'item_variation_data': {'item_id': 'FX3EJWXWG54ANMM32CNQDT3O', 'name': '6 inch poseable figure', 'ordinal': 0, 'pricing_type': 'FIXED_PRICING', 'price_money': {'amount': 350, 'currency': 'USD'}, 'sellable': True, 'stockable': True}}], 'product_type': 'REGULAR', 'description_html': '<p>something we want vertex ai to generate</p>', 'description_plaintext': 'something we want vertex ai to generate', 'is_archived': False}}, 'id_mappings': [{'client_object_id': '#thisvaries1', 'object_id': 'FX3EJWXWG54ANMM32CNQDT3O'}, {'client_object_id': '#thisvaries2', 'object_id': 'MWN7S42X45UBZPPVPFWJ4PYJ'}]}\n"
     ]
    }
   ],
   "source": [
    "# create a key\n",
    "uniq_uuid = uuid.uuid4()\n",
    "#print(\"uniq_uuid: \", uniq_uuid)\n",
    "\n",
    "# Specify the info we want to vary\n",
    "#name=\"Nick Fury Doll\"\n",
    "#abbreviation = \"NFDOLL\"\n",
    "#description = \"something we want vertex ai to generate\"\n",
    "#variation_name = \"6 inch poseable figure\"\n",
    "#amount = 375\n",
    "\n",
    "\n",
    "# Specify the info we want to vary\n",
    "name=\"Dr Doom Doll\"\n",
    "abbreviation = \"DRDOLL\"\n",
    "description = \"something we want vertex ai to generate\"\n",
    "variation_name = \"6 inch poseable figure\"\n",
    "amount = 350\n",
    "\n",
    "\n",
    "result = sq_client.catalog.upsert_catalog_object(\n",
    "  body = {\n",
    "    \"idempotency_key\": str(uniq_uuid),\n",
    "    \"object\": {\n",
    "      \"type\": \"ITEM\",\n",
    "      \"id\": \"#thisvaries1\",\n",
    "      \"item_data\": {\n",
    "        \"name\": name,\n",
    "        \"description\": description,\n",
    "        \"abbreviation\": abbreviation,\n",
    "        \"variations\": [\n",
    "          {\n",
    "            \"type\": \"ITEM_VARIATION\",\n",
    "            \"id\": \"#thisvaries2\",\n",
    "            \"item_variation_data\": {\n",
    "              \"item_id\": \"#thisvaries1\",\n",
    "              \"name\": variation_name,\n",
    "              \"pricing_type\": \"FIXED_PRICING\",\n",
    "              \"price_money\": {\n",
    "                \"amount\": amount,\n",
    "                \"currency\": \"USD\"\n",
    "              }\n",
    "            }\n",
    "          },\n",
    "        ]\n",
    "      }\n",
    "    }\n",
    "  }\n",
    ")\n",
    "\n",
    "if result.is_success():\n",
    "  print(result.body)\n",
    "elif result.is_error():\n",
    "  print(result.errors)"
   ]
  },
  {
   "cell_type": "code",
   "execution_count": 55,
   "metadata": {},
   "outputs": [
    {
     "name": "stdout",
     "output_type": "stream",
     "text": [
      "FX3EJWXWG54ANMM32CNQDT3O\n"
     ]
    }
   ],
   "source": [
    "# print and save the object id\n",
    "pp = pprint.PrettyPrinter(indent=4)\n",
    "#pp.pprint(result.body)\n",
    "\n",
    "# Save the id\n",
    "cat_obj_item_id = result.body['catalog_object']['id']\n",
    "print(cat_obj_item_id)"
   ]
  },
  {
   "cell_type": "markdown",
   "metadata": {},
   "source": [
    "## Step 2 upload an image an associate with the catalog item\n"
   ]
  },
  {
   "cell_type": "code",
   "execution_count": 56,
   "metadata": {},
   "outputs": [
    {
     "name": "stdout",
     "output_type": "stream",
     "text": [
      "{'image': {'type': 'IMAGE', 'id': 'XHO4G4GX6WF7R4KLESOMXZFA', 'updated_at': '2023-09-30T14:06:57.44Z', 'created_at': '2023-09-30T14:06:57.44Z', 'version': 1696082817440, 'is_deleted': False, 'present_at_all_locations': True, 'image_data': {'name': 'Nick Furty Doll Image', 'url': 'https://items-images-production.s3.us-west-2.amazonaws.com/files/0a980973e5af640e65bc451ff2f4c565a2819d9e/original.jpeg', 'caption': 'Nick Fury Doll'}}}\n"
     ]
    }
   ],
   "source": [
    "# create a key\n",
    "uniq_uuid = uuid.uuid4()\n",
    "#print(\"uniq_uuid: \", uniq_uuid)\n",
    "\n",
    "\n",
    "# NICK Fury\n",
    "#file_to_upload_path = \"./sample_imgs/nickfury.jpeg\" # Modify this to point to your desired file.\n",
    "#name = \"Nick Fury Image\"\n",
    "#caption = \"Nick Fury Doll\"\n",
    "\n",
    "# DR DOOM\n",
    "file_to_upload_path = \"./sample_imgs/drdoom.jpeg\" # Modify this to point to your desired file.\n",
    "name = \"Dr Doom Doll Image\"\n",
    "caption = \"Dr Doom Doll\"\n",
    "\n",
    "f_stream = open(file_to_upload_path, \"rb\")\n",
    "\n",
    "\n",
    "\n",
    "result = sq_client.catalog.create_catalog_image(\n",
    "  request = {\n",
    "    \"idempotency_key\": str(uniq_uuid),\n",
    "     \"object_id\": cat_obj_item_id,\n",
    "    \"image\": {\n",
    "      \"type\": \"IMAGE\",\n",
    "      \"id\": \"#image_id\",\n",
    "      \"image_data\": {\n",
    "        \"name\": name,\n",
    "        \"caption\": caption\n",
    "      }\n",
    "    }\n",
    "  },\n",
    "  image_file = f_stream\n",
    ")\n",
    "\n",
    "if result.is_success():\n",
    "  print(result.body)\n",
    "elif result.is_error():\n",
    "  print(result.errors)"
   ]
  },
  {
   "cell_type": "markdown",
   "metadata": {},
   "source": [
    "# verify the catalog has the item we added"
   ]
  },
  {
   "cell_type": "markdown",
   "metadata": {},
   "source": [
    "## Query all items and look through results manually"
   ]
  },
  {
   "cell_type": "code",
   "execution_count": 57,
   "metadata": {},
   "outputs": [
    {
     "name": "stdout",
     "output_type": "stream",
     "text": [
      "{'objects': [{'type': 'CUSTOM_ATTRIBUTE_DEFINITION', 'id': 'TN6I6F7QXTEKDRT4M5F6JA7J', 'updated_at': '2023-09-17T16:01:13.582Z', 'created_at': '2023-09-17T16:01:13.582Z', 'version': 1694966473582, 'is_deleted': False, 'present_at_all_locations': True, 'custom_attribute_definition_data': {'type': 'BOOLEAN', 'name': 'Is Alcoholic', 'description': 'Enabling this toggle on an item indicates that it contains alcohol.', 'source_application': {'application_id': 'sq0idp-w46nJ_NCNDMSOywaCY0mwA', 'name': 'Square Online Store'}, 'allowed_object_types': ['ITEM'], 'seller_visibility': 'SELLER_VISIBILITY_HIDDEN', 'app_visibility': 'APP_VISIBILITY_HIDDEN', 'key': 'is_alcoholic'}}, {'type': 'CUSTOM_ATTRIBUTE_DEFINITION', 'id': 'KKJDEQ5ET5QY232B3XO4GRR2', 'updated_at': '2023-09-17T16:01:13.869Z', 'created_at': '2023-09-17T16:01:13.869Z', 'version': 1694966473869, 'is_deleted': False, 'present_at_all_locations': True, 'custom_attribute_definition_data': {'type': 'STRING', 'name': 'Ecom Storefront Classic Site ID', 'description': 'Ecommerce bridge target storefront classic site ID. Used to create site-item associations after copying items.', 'source_application': {'application_id': 'sq0idp-w46nJ_NCNDMSOywaCY0mwA', 'name': 'Square Online Store'}, 'allowed_object_types': ['ITEM'], 'seller_visibility': 'SELLER_VISIBILITY_HIDDEN', 'app_visibility': 'APP_VISIBILITY_HIDDEN', 'string_config': {'enforce_uniqueness': False}, 'key': 'ecom_target_classic_site_id'}}, {'type': 'CUSTOM_ATTRIBUTE_DEFINITION', 'id': 'KPGOH5WLGQLBDU47VCJ7XEOU', 'updated_at': '2023-09-24T16:34:32.969Z', 'created_at': '2023-09-24T16:34:32.969Z', 'version': 1695573272969, 'is_deleted': False, 'present_at_all_locations': True, 'custom_attribute_definition_data': {'type': 'STRING', 'name': 'Photo Studio iOS App Tracking Version', 'source_application': {'application_id': 'sq0idp-VOWwTrettrWJDLFqPV9iSw', 'name': 'Photo Studio'}, 'allowed_object_types': ['ITEM'], 'seller_visibility': 'SELLER_VISIBILITY_HIDDEN', 'app_visibility': 'APP_VISIBILITY_READ_WRITE_VALUES', 'string_config': {'enforce_uniqueness': False}, 'key': 'photo_studio_tracking_version'}}, {'type': 'CATEGORY', 'id': 'VOLOYDZFVDL74PKXDOIEDPER', 'updated_at': '2023-09-24T16:43:43.271Z', 'created_at': '2023-09-24T16:43:43.271Z', 'version': 1695573823271, 'is_deleted': False, 'catalog_v1_ids': [{'catalog_v1_id': '4TONVQY3ZPH26DDK44B5YK6Q', 'location_id': 'LZBNSDTSHAMM8'}], 'present_at_all_locations': True, 'category_data': {'name': 'Marvel Comics', 'ordinal': 0, 'is_top_level': True}}, {'type': 'CATEGORY', 'id': 'TEXJTOFE4YPPL5DJZY57ZABJ', 'updated_at': '2023-09-24T16:43:43.271Z', 'created_at': '2023-09-24T16:43:43.271Z', 'version': 1695573823271, 'is_deleted': False, 'catalog_v1_ids': [{'catalog_v1_id': 'SBEQDXX35GUPDIM7YIW57JF7', 'location_id': 'LZBNSDTSHAMM8'}], 'present_at_all_locations': True, 'category_data': {'name': 'Lord Of The Rings', 'ordinal': 0, 'is_top_level': True}}, {'type': 'QUICK_AMOUNTS_SETTINGS', 'id': 'DVJRT4SSQY76BVX752OJSCML', 'updated_at': '2023-09-24T18:35:54.413Z', 'created_at': '2023-09-24T18:35:54.413Z', 'version': 1695580554413, 'is_deleted': False, 'present_at_all_locations': False, 'present_at_location_ids': ['LZBNSDTSHAMM8'], 'quick_amounts_settings_data': {'option': 'DISABLED', 'eligible_for_auto_amounts': False}}, {'type': 'ITEM', 'id': '44K7RNU7YHIXMYOV5X5TD2ZY', 'updated_at': '2023-09-30T14:13:54.347Z', 'created_at': '2023-09-30T14:13:03.577Z', 'version': 1696083234347, 'is_deleted': False, 'present_at_all_locations': True, 'item_data': {'name': 'Nick Fury Doll', 'description': 'something we want vertex ai to generate', 'abbreviation': 'NFDOLL', 'is_taxable': True, 'variations': [{'type': 'ITEM_VARIATION', 'id': 'JEHCG5FLFQZ5KIP5JOGMGPXT', 'updated_at': '2023-09-30T14:13:03.577Z', 'created_at': '2023-09-30T14:13:03.577Z', 'version': 1696083183577, 'is_deleted': False, 'present_at_all_locations': True, 'item_variation_data': {'item_id': '44K7RNU7YHIXMYOV5X5TD2ZY', 'name': '6 inch poseable figure', 'ordinal': 0, 'pricing_type': 'FIXED_PRICING', 'price_money': {'amount': 375, 'currency': 'USD'}, 'sellable': True, 'stockable': True}}], 'product_type': 'REGULAR', 'ecom_uri': 'https://rtp-gcp-usergroup.square.site/product/nick-fury-doll/23', 'ecom_image_uris': ['https://rtp-gcp-usergroup.square.site/uploads/1/4/7/0/147028449/s933423469753632432_p23_i1_w1200.jpeg'], 'ecom_available': True, 'ecom_visibility': 'VISIBLE', 'image_ids': ['GIRR6YIEOZOMOALZWFVM3GJB'], 'description_html': '<p>something we want vertex ai to generate</p>', 'description_plaintext': 'something we want vertex ai to generate', 'is_archived': False}}, {'type': 'ITEM', 'id': 'FX3EJWXWG54ANMM32CNQDT3O', 'updated_at': '2023-09-30T14:14:25.046Z', 'created_at': '2023-09-30T14:14:08.045Z', 'version': 1696083265046, 'is_deleted': False, 'present_at_all_locations': True, 'item_data': {'name': 'Dr Doom Doll', 'description': 'something we want vertex ai to generate', 'abbreviation': 'DRDOLL', 'is_taxable': True, 'variations': [{'type': 'ITEM_VARIATION', 'id': 'MWN7S42X45UBZPPVPFWJ4PYJ', 'updated_at': '2023-09-30T14:14:08.045Z', 'created_at': '2023-09-30T14:14:08.045Z', 'version': 1696083248045, 'is_deleted': False, 'present_at_all_locations': True, 'item_variation_data': {'item_id': 'FX3EJWXWG54ANMM32CNQDT3O', 'name': '6 inch poseable figure', 'ordinal': 0, 'pricing_type': 'FIXED_PRICING', 'price_money': {'amount': 350, 'currency': 'USD'}, 'sellable': True, 'stockable': True}}], 'product_type': 'REGULAR', 'image_ids': ['XHO4G4GX6WF7R4KLESOMXZFA'], 'description_html': '<p>something we want vertex ai to generate</p>', 'description_plaintext': 'something we want vertex ai to generate', 'is_archived': False}}]}\n"
     ]
    }
   ],
   "source": [
    "result = sq_client.catalog.list_catalog()\n",
    "\n",
    "if result.is_success():\n",
    "  print(result.body)\n",
    "elif result.is_error():\n",
    "  print(result.errors)\n",
    "\n"
   ]
  },
  {
   "cell_type": "code",
   "execution_count": 58,
   "metadata": {},
   "outputs": [
    {
     "name": "stdout",
     "output_type": "stream",
     "text": [
      "{   'objects': [   {   'created_at': '2023-09-17T16:01:13.582Z',\n",
      "                       'custom_attribute_definition_data': {   'allowed_object_types': [   'ITEM'],\n",
      "                                                               'app_visibility': 'APP_VISIBILITY_HIDDEN',\n",
      "                                                               'description': 'Enabling '\n",
      "                                                                              'this '\n",
      "                                                                              'toggle '\n",
      "                                                                              'on '\n",
      "                                                                              'an '\n",
      "                                                                              'item '\n",
      "                                                                              'indicates '\n",
      "                                                                              'that '\n",
      "                                                                              'it '\n",
      "                                                                              'contains '\n",
      "                                                                              'alcohol.',\n",
      "                                                               'key': 'is_alcoholic',\n",
      "                                                               'name': 'Is '\n",
      "                                                                       'Alcoholic',\n",
      "                                                               'seller_visibility': 'SELLER_VISIBILITY_HIDDEN',\n",
      "                                                               'source_application': {   'application_id': 'sq0idp-w46nJ_NCNDMSOywaCY0mwA',\n",
      "                                                                                         'name': 'Square '\n",
      "                                                                                                 'Online '\n",
      "                                                                                                 'Store'},\n",
      "                                                               'type': 'BOOLEAN'},\n",
      "                       'id': 'TN6I6F7QXTEKDRT4M5F6JA7J',\n",
      "                       'is_deleted': False,\n",
      "                       'present_at_all_locations': True,\n",
      "                       'type': 'CUSTOM_ATTRIBUTE_DEFINITION',\n",
      "                       'updated_at': '2023-09-17T16:01:13.582Z',\n",
      "                       'version': 1694966473582},\n",
      "                   {   'created_at': '2023-09-17T16:01:13.869Z',\n",
      "                       'custom_attribute_definition_data': {   'allowed_object_types': [   'ITEM'],\n",
      "                                                               'app_visibility': 'APP_VISIBILITY_HIDDEN',\n",
      "                                                               'description': 'Ecommerce '\n",
      "                                                                              'bridge '\n",
      "                                                                              'target '\n",
      "                                                                              'storefront '\n",
      "                                                                              'classic '\n",
      "                                                                              'site '\n",
      "                                                                              'ID. '\n",
      "                                                                              'Used '\n",
      "                                                                              'to '\n",
      "                                                                              'create '\n",
      "                                                                              'site-item '\n",
      "                                                                              'associations '\n",
      "                                                                              'after '\n",
      "                                                                              'copying '\n",
      "                                                                              'items.',\n",
      "                                                               'key': 'ecom_target_classic_site_id',\n",
      "                                                               'name': 'Ecom '\n",
      "                                                                       'Storefront '\n",
      "                                                                       'Classic '\n",
      "                                                                       'Site '\n",
      "                                                                       'ID',\n",
      "                                                               'seller_visibility': 'SELLER_VISIBILITY_HIDDEN',\n",
      "                                                               'source_application': {   'application_id': 'sq0idp-w46nJ_NCNDMSOywaCY0mwA',\n",
      "                                                                                         'name': 'Square '\n",
      "                                                                                                 'Online '\n",
      "                                                                                                 'Store'},\n",
      "                                                               'string_config': {   'enforce_uniqueness': False},\n",
      "                                                               'type': 'STRING'},\n",
      "                       'id': 'KKJDEQ5ET5QY232B3XO4GRR2',\n",
      "                       'is_deleted': False,\n",
      "                       'present_at_all_locations': True,\n",
      "                       'type': 'CUSTOM_ATTRIBUTE_DEFINITION',\n",
      "                       'updated_at': '2023-09-17T16:01:13.869Z',\n",
      "                       'version': 1694966473869},\n",
      "                   {   'created_at': '2023-09-24T16:34:32.969Z',\n",
      "                       'custom_attribute_definition_data': {   'allowed_object_types': [   'ITEM'],\n",
      "                                                               'app_visibility': 'APP_VISIBILITY_READ_WRITE_VALUES',\n",
      "                                                               'key': 'photo_studio_tracking_version',\n",
      "                                                               'name': 'Photo '\n",
      "                                                                       'Studio '\n",
      "                                                                       'iOS '\n",
      "                                                                       'App '\n",
      "                                                                       'Tracking '\n",
      "                                                                       'Version',\n",
      "                                                               'seller_visibility': 'SELLER_VISIBILITY_HIDDEN',\n",
      "                                                               'source_application': {   'application_id': 'sq0idp-VOWwTrettrWJDLFqPV9iSw',\n",
      "                                                                                         'name': 'Photo '\n",
      "                                                                                                 'Studio'},\n",
      "                                                               'string_config': {   'enforce_uniqueness': False},\n",
      "                                                               'type': 'STRING'},\n",
      "                       'id': 'KPGOH5WLGQLBDU47VCJ7XEOU',\n",
      "                       'is_deleted': False,\n",
      "                       'present_at_all_locations': True,\n",
      "                       'type': 'CUSTOM_ATTRIBUTE_DEFINITION',\n",
      "                       'updated_at': '2023-09-24T16:34:32.969Z',\n",
      "                       'version': 1695573272969},\n",
      "                   {   'catalog_v1_ids': [   {   'catalog_v1_id': '4TONVQY3ZPH26DDK44B5YK6Q',\n",
      "                                                 'location_id': 'LZBNSDTSHAMM8'}],\n",
      "                       'category_data': {   'is_top_level': True,\n",
      "                                            'name': 'Marvel Comics',\n",
      "                                            'ordinal': 0},\n",
      "                       'created_at': '2023-09-24T16:43:43.271Z',\n",
      "                       'id': 'VOLOYDZFVDL74PKXDOIEDPER',\n",
      "                       'is_deleted': False,\n",
      "                       'present_at_all_locations': True,\n",
      "                       'type': 'CATEGORY',\n",
      "                       'updated_at': '2023-09-24T16:43:43.271Z',\n",
      "                       'version': 1695573823271},\n",
      "                   {   'catalog_v1_ids': [   {   'catalog_v1_id': 'SBEQDXX35GUPDIM7YIW57JF7',\n",
      "                                                 'location_id': 'LZBNSDTSHAMM8'}],\n",
      "                       'category_data': {   'is_top_level': True,\n",
      "                                            'name': 'Lord Of The Rings',\n",
      "                                            'ordinal': 0},\n",
      "                       'created_at': '2023-09-24T16:43:43.271Z',\n",
      "                       'id': 'TEXJTOFE4YPPL5DJZY57ZABJ',\n",
      "                       'is_deleted': False,\n",
      "                       'present_at_all_locations': True,\n",
      "                       'type': 'CATEGORY',\n",
      "                       'updated_at': '2023-09-24T16:43:43.271Z',\n",
      "                       'version': 1695573823271},\n",
      "                   {   'created_at': '2023-09-24T18:35:54.413Z',\n",
      "                       'id': 'DVJRT4SSQY76BVX752OJSCML',\n",
      "                       'is_deleted': False,\n",
      "                       'present_at_all_locations': False,\n",
      "                       'present_at_location_ids': ['LZBNSDTSHAMM8'],\n",
      "                       'quick_amounts_settings_data': {   'eligible_for_auto_amounts': False,\n",
      "                                                          'option': 'DISABLED'},\n",
      "                       'type': 'QUICK_AMOUNTS_SETTINGS',\n",
      "                       'updated_at': '2023-09-24T18:35:54.413Z',\n",
      "                       'version': 1695580554413},\n",
      "                   {   'created_at': '2023-09-30T14:13:03.577Z',\n",
      "                       'id': '44K7RNU7YHIXMYOV5X5TD2ZY',\n",
      "                       'is_deleted': False,\n",
      "                       'item_data': {   'abbreviation': 'NFDOLL',\n",
      "                                        'description': 'something we want '\n",
      "                                                       'vertex ai to generate',\n",
      "                                        'description_html': '<p>something we '\n",
      "                                                            'want vertex ai to '\n",
      "                                                            'generate</p>',\n",
      "                                        'description_plaintext': 'something we '\n",
      "                                                                 'want vertex '\n",
      "                                                                 'ai to '\n",
      "                                                                 'generate',\n",
      "                                        'ecom_available': True,\n",
      "                                        'ecom_image_uris': [   'https://rtp-gcp-usergroup.square.site/uploads/1/4/7/0/147028449/s933423469753632432_p23_i1_w1200.jpeg'],\n",
      "                                        'ecom_uri': 'https://rtp-gcp-usergroup.square.site/product/nick-fury-doll/23',\n",
      "                                        'ecom_visibility': 'VISIBLE',\n",
      "                                        'image_ids': [   'GIRR6YIEOZOMOALZWFVM3GJB'],\n",
      "                                        'is_archived': False,\n",
      "                                        'is_taxable': True,\n",
      "                                        'name': 'Nick Fury Doll',\n",
      "                                        'product_type': 'REGULAR',\n",
      "                                        'variations': [   {   'created_at': '2023-09-30T14:13:03.577Z',\n",
      "                                                              'id': 'JEHCG5FLFQZ5KIP5JOGMGPXT',\n",
      "                                                              'is_deleted': False,\n",
      "                                                              'item_variation_data': {   'item_id': '44K7RNU7YHIXMYOV5X5TD2ZY',\n",
      "                                                                                         'name': '6 '\n",
      "                                                                                                 'inch '\n",
      "                                                                                                 'poseable '\n",
      "                                                                                                 'figure',\n",
      "                                                                                         'ordinal': 0,\n",
      "                                                                                         'price_money': {   'amount': 375,\n",
      "                                                                                                            'currency': 'USD'},\n",
      "                                                                                         'pricing_type': 'FIXED_PRICING',\n",
      "                                                                                         'sellable': True,\n",
      "                                                                                         'stockable': True},\n",
      "                                                              'present_at_all_locations': True,\n",
      "                                                              'type': 'ITEM_VARIATION',\n",
      "                                                              'updated_at': '2023-09-30T14:13:03.577Z',\n",
      "                                                              'version': 1696083183577}]},\n",
      "                       'present_at_all_locations': True,\n",
      "                       'type': 'ITEM',\n",
      "                       'updated_at': '2023-09-30T14:13:54.347Z',\n",
      "                       'version': 1696083234347},\n",
      "                   {   'created_at': '2023-09-30T14:14:08.045Z',\n",
      "                       'id': 'FX3EJWXWG54ANMM32CNQDT3O',\n",
      "                       'is_deleted': False,\n",
      "                       'item_data': {   'abbreviation': 'DRDOLL',\n",
      "                                        'description': 'something we want '\n",
      "                                                       'vertex ai to generate',\n",
      "                                        'description_html': '<p>something we '\n",
      "                                                            'want vertex ai to '\n",
      "                                                            'generate</p>',\n",
      "                                        'description_plaintext': 'something we '\n",
      "                                                                 'want vertex '\n",
      "                                                                 'ai to '\n",
      "                                                                 'generate',\n",
      "                                        'image_ids': [   'XHO4G4GX6WF7R4KLESOMXZFA'],\n",
      "                                        'is_archived': False,\n",
      "                                        'is_taxable': True,\n",
      "                                        'name': 'Dr Doom Doll',\n",
      "                                        'product_type': 'REGULAR',\n",
      "                                        'variations': [   {   'created_at': '2023-09-30T14:14:08.045Z',\n",
      "                                                              'id': 'MWN7S42X45UBZPPVPFWJ4PYJ',\n",
      "                                                              'is_deleted': False,\n",
      "                                                              'item_variation_data': {   'item_id': 'FX3EJWXWG54ANMM32CNQDT3O',\n",
      "                                                                                         'name': '6 '\n",
      "                                                                                                 'inch '\n",
      "                                                                                                 'poseable '\n",
      "                                                                                                 'figure',\n",
      "                                                                                         'ordinal': 0,\n",
      "                                                                                         'price_money': {   'amount': 350,\n",
      "                                                                                                            'currency': 'USD'},\n",
      "                                                                                         'pricing_type': 'FIXED_PRICING',\n",
      "                                                                                         'sellable': True,\n",
      "                                                                                         'stockable': True},\n",
      "                                                              'present_at_all_locations': True,\n",
      "                                                              'type': 'ITEM_VARIATION',\n",
      "                                                              'updated_at': '2023-09-30T14:14:08.045Z',\n",
      "                                                              'version': 1696083248045}]},\n",
      "                       'present_at_all_locations': True,\n",
      "                       'type': 'ITEM',\n",
      "                       'updated_at': '2023-09-30T14:14:25.046Z',\n",
      "                       'version': 1696083265046}]}\n"
     ]
    }
   ],
   "source": [
    "pp.pprint(result.body)"
   ]
  },
  {
   "cell_type": "markdown",
   "metadata": {},
   "source": [
    "\n",
    "## Query API, finds an object based upon characteristics\n",
    "\n",
    "If you know the object ID, Retrieve Catalog Obj API in next section\n",
    "\n",
    "### Query for a specific item by attribute (name)"
   ]
  },
  {
   "cell_type": "code",
   "execution_count": 46,
   "metadata": {},
   "outputs": [
    {
     "name": "stdout",
     "output_type": "stream",
     "text": [
      "{'objects': [{'type': 'ITEM', 'id': '44K7RNU7YHIXMYOV5X5TD2ZY', 'updated_at': '2023-09-30T14:13:14.962Z', 'created_at': '2023-09-30T14:13:03.577Z', 'version': 1696083194962, 'is_deleted': False, 'present_at_all_locations': True, 'item_data': {'name': 'Nick Fury Doll', 'description': 'something we want vertex ai to generate', 'abbreviation': 'NFDOLL', 'is_taxable': True, 'variations': [{'type': 'ITEM_VARIATION', 'id': 'JEHCG5FLFQZ5KIP5JOGMGPXT', 'updated_at': '2023-09-30T14:13:03.577Z', 'created_at': '2023-09-30T14:13:03.577Z', 'version': 1696083183577, 'is_deleted': False, 'present_at_all_locations': True, 'item_variation_data': {'item_id': '44K7RNU7YHIXMYOV5X5TD2ZY', 'name': '6 inch poseable figure', 'ordinal': 0, 'pricing_type': 'FIXED_PRICING', 'price_money': {'amount': 375, 'currency': 'USD'}, 'sellable': True, 'stockable': True}}], 'product_type': 'REGULAR', 'image_ids': ['GIRR6YIEOZOMOALZWFVM3GJB'], 'description_html': '<p>something we want vertex ai to generate</p>', 'description_plaintext': 'something we want vertex ai to generate', 'is_archived': False}}], 'latest_time': '2023-09-30T14:13:14.962Z'}\n"
     ]
    }
   ],
   "source": [
    "result = sq_client.catalog.search_catalog_objects(\n",
    "  body = {\n",
    "    \"query\": {\n",
    "      \"exact_query\": {\n",
    "        \"attribute_name\": \"name\",\n",
    "        \"attribute_value\": \"Nick Fury Doll\"\n",
    "        #\"attribute_value\": \"DR Doom Doll\"\n",
    "      }\n",
    "    }\n",
    "  }\n",
    ")\n",
    "\n",
    "if result.is_success():\n",
    "  print(result.body)\n",
    "elif result.is_error():\n",
    "  print(result.errors)"
   ]
  },
  {
   "cell_type": "code",
   "execution_count": 47,
   "metadata": {},
   "outputs": [
    {
     "name": "stdout",
     "output_type": "stream",
     "text": [
      "{   'latest_time': '2023-09-30T14:13:14.962Z',\n",
      "    'objects': [   {   'created_at': '2023-09-30T14:13:03.577Z',\n",
      "                       'id': '44K7RNU7YHIXMYOV5X5TD2ZY',\n",
      "                       'is_deleted': False,\n",
      "                       'item_data': {   'abbreviation': 'NFDOLL',\n",
      "                                        'description': 'something we want '\n",
      "                                                       'vertex ai to generate',\n",
      "                                        'description_html': '<p>something we '\n",
      "                                                            'want vertex ai to '\n",
      "                                                            'generate</p>',\n",
      "                                        'description_plaintext': 'something we '\n",
      "                                                                 'want vertex '\n",
      "                                                                 'ai to '\n",
      "                                                                 'generate',\n",
      "                                        'image_ids': [   'GIRR6YIEOZOMOALZWFVM3GJB'],\n",
      "                                        'is_archived': False,\n",
      "                                        'is_taxable': True,\n",
      "                                        'name': 'Nick Fury Doll',\n",
      "                                        'product_type': 'REGULAR',\n",
      "                                        'variations': [   {   'created_at': '2023-09-30T14:13:03.577Z',\n",
      "                                                              'id': 'JEHCG5FLFQZ5KIP5JOGMGPXT',\n",
      "                                                              'is_deleted': False,\n",
      "                                                              'item_variation_data': {   'item_id': '44K7RNU7YHIXMYOV5X5TD2ZY',\n",
      "                                                                                         'name': '6 '\n",
      "                                                                                                 'inch '\n",
      "                                                                                                 'poseable '\n",
      "                                                                                                 'figure',\n",
      "                                                                                         'ordinal': 0,\n",
      "                                                                                         'price_money': {   'amount': 375,\n",
      "                                                                                                            'currency': 'USD'},\n",
      "                                                                                         'pricing_type': 'FIXED_PRICING',\n",
      "                                                                                         'sellable': True,\n",
      "                                                                                         'stockable': True},\n",
      "                                                              'present_at_all_locations': True,\n",
      "                                                              'type': 'ITEM_VARIATION',\n",
      "                                                              'updated_at': '2023-09-30T14:13:03.577Z',\n",
      "                                                              'version': 1696083183577}]},\n",
      "                       'present_at_all_locations': True,\n",
      "                       'type': 'ITEM',\n",
      "                       'updated_at': '2023-09-30T14:13:14.962Z',\n",
      "                       'version': 1696083194962}]}\n"
     ]
    }
   ],
   "source": [
    "pp.pprint(result.body)"
   ]
  },
  {
   "cell_type": "markdown",
   "metadata": {},
   "source": [
    "## Query for a specific item by attribute (abbreviation)"
   ]
  },
  {
   "cell_type": "code",
   "execution_count": 48,
   "metadata": {},
   "outputs": [
    {
     "name": "stdout",
     "output_type": "stream",
     "text": [
      "{'objects': [{'type': 'ITEM', 'id': '44K7RNU7YHIXMYOV5X5TD2ZY', 'updated_at': '2023-09-30T14:13:14.962Z', 'created_at': '2023-09-30T14:13:03.577Z', 'version': 1696083194962, 'is_deleted': False, 'present_at_all_locations': True, 'item_data': {'name': 'Nick Fury Doll', 'description': 'something we want vertex ai to generate', 'abbreviation': 'NFDOLL', 'is_taxable': True, 'variations': [{'type': 'ITEM_VARIATION', 'id': 'JEHCG5FLFQZ5KIP5JOGMGPXT', 'updated_at': '2023-09-30T14:13:03.577Z', 'created_at': '2023-09-30T14:13:03.577Z', 'version': 1696083183577, 'is_deleted': False, 'present_at_all_locations': True, 'item_variation_data': {'item_id': '44K7RNU7YHIXMYOV5X5TD2ZY', 'name': '6 inch poseable figure', 'ordinal': 0, 'pricing_type': 'FIXED_PRICING', 'price_money': {'amount': 375, 'currency': 'USD'}, 'sellable': True, 'stockable': True}}], 'product_type': 'REGULAR', 'image_ids': ['GIRR6YIEOZOMOALZWFVM3GJB'], 'description_html': '<p>something we want vertex ai to generate</p>', 'description_plaintext': 'something we want vertex ai to generate', 'is_archived': False}}], 'latest_time': '2023-09-30T14:13:14.962Z'}\n"
     ]
    }
   ],
   "source": [
    "# I could not determine a way to query on the ID\n",
    "# If you used attribute, you can specify the abbreviation but not the ID given after the ID>\n",
    "\n",
    "result = sq_client.catalog.search_catalog_objects(\n",
    "  body = {\n",
    "    \"object_types\": [\n",
    "      \"ITEM\"\n",
    "    ],\n",
    "    \"query\": {\n",
    "      \"exact_query\": {\n",
    "        \"attribute_name\": \"abbreviation\",\n",
    "        \"attribute_value\": \"NFDOLL\"\n",
    "      }\n",
    "    }\n",
    "  }\n",
    ")\n",
    "\n",
    "if result.is_success():\n",
    "  print(result.body)\n",
    "elif result.is_error():\n",
    "  print(result.errors)"
   ]
  },
  {
   "cell_type": "code",
   "execution_count": 49,
   "metadata": {},
   "outputs": [
    {
     "name": "stdout",
     "output_type": "stream",
     "text": [
      "{   'latest_time': '2023-09-30T14:13:14.962Z',\n",
      "    'objects': [   {   'created_at': '2023-09-30T14:13:03.577Z',\n",
      "                       'id': '44K7RNU7YHIXMYOV5X5TD2ZY',\n",
      "                       'is_deleted': False,\n",
      "                       'item_data': {   'abbreviation': 'NFDOLL',\n",
      "                                        'description': 'something we want '\n",
      "                                                       'vertex ai to generate',\n",
      "                                        'description_html': '<p>something we '\n",
      "                                                            'want vertex ai to '\n",
      "                                                            'generate</p>',\n",
      "                                        'description_plaintext': 'something we '\n",
      "                                                                 'want vertex '\n",
      "                                                                 'ai to '\n",
      "                                                                 'generate',\n",
      "                                        'image_ids': [   'GIRR6YIEOZOMOALZWFVM3GJB'],\n",
      "                                        'is_archived': False,\n",
      "                                        'is_taxable': True,\n",
      "                                        'name': 'Nick Fury Doll',\n",
      "                                        'product_type': 'REGULAR',\n",
      "                                        'variations': [   {   'created_at': '2023-09-30T14:13:03.577Z',\n",
      "                                                              'id': 'JEHCG5FLFQZ5KIP5JOGMGPXT',\n",
      "                                                              'is_deleted': False,\n",
      "                                                              'item_variation_data': {   'item_id': '44K7RNU7YHIXMYOV5X5TD2ZY',\n",
      "                                                                                         'name': '6 '\n",
      "                                                                                                 'inch '\n",
      "                                                                                                 'poseable '\n",
      "                                                                                                 'figure',\n",
      "                                                                                         'ordinal': 0,\n",
      "                                                                                         'price_money': {   'amount': 375,\n",
      "                                                                                                            'currency': 'USD'},\n",
      "                                                                                         'pricing_type': 'FIXED_PRICING',\n",
      "                                                                                         'sellable': True,\n",
      "                                                                                         'stockable': True},\n",
      "                                                              'present_at_all_locations': True,\n",
      "                                                              'type': 'ITEM_VARIATION',\n",
      "                                                              'updated_at': '2023-09-30T14:13:03.577Z',\n",
      "                                                              'version': 1696083183577}]},\n",
      "                       'present_at_all_locations': True,\n",
      "                       'type': 'ITEM',\n",
      "                       'updated_at': '2023-09-30T14:13:14.962Z',\n",
      "                       'version': 1696083194962}]}\n"
     ]
    }
   ],
   "source": [
    "pp.pprint(result.body)"
   ]
  },
  {
   "cell_type": "markdown",
   "metadata": {},
   "source": [
    "## To read info about a particular item use \"Retrieve Catalog Object\""
   ]
  },
  {
   "cell_type": "code",
   "execution_count": 50,
   "metadata": {},
   "outputs": [],
   "source": [
    "# IDS                             Name               ABBR             Description                                  NOTES\n",
    "# 44K7RNU7YHIXMYOV5X5TD2ZY        Nick Fury Doll     NFDOLL           something about Nick Fury from vertex ai\n",
    "# FX3EJWXWG54ANMM32CNQDT3O        Dr Doom Doll       DRDOLL           something we want vertext ai to generate\n"
   ]
  },
  {
   "cell_type": "code",
   "execution_count": 59,
   "metadata": {},
   "outputs": [
    {
     "name": "stdout",
     "output_type": "stream",
     "text": [
      "{'object': {'type': 'ITEM', 'id': 'FX3EJWXWG54ANMM32CNQDT3O', 'updated_at': '2023-09-30T14:14:50.836Z', 'created_at': '2023-09-30T14:14:08.045Z', 'version': 1696083290836, 'is_deleted': False, 'present_at_all_locations': True, 'item_data': {'name': 'Dr Doom Doll', 'description': 'something we want vertex ai to generate', 'abbreviation': 'DRDOLL', 'is_taxable': True, 'variations': [{'type': 'ITEM_VARIATION', 'id': 'MWN7S42X45UBZPPVPFWJ4PYJ', 'updated_at': '2023-09-30T14:14:08.045Z', 'created_at': '2023-09-30T14:14:08.045Z', 'version': 1696083248045, 'is_deleted': False, 'present_at_all_locations': True, 'item_variation_data': {'item_id': 'FX3EJWXWG54ANMM32CNQDT3O', 'name': '6 inch poseable figure', 'ordinal': 0, 'pricing_type': 'FIXED_PRICING', 'price_money': {'amount': 350, 'currency': 'USD'}, 'sellable': True, 'stockable': True}}], 'product_type': 'REGULAR', 'ecom_uri': 'https://rtp-gcp-usergroup.square.site/product/dr-doom-doll/24', 'ecom_image_uris': ['https://rtp-gcp-usergroup.square.site/uploads/1/4/7/0/147028449/s933423469753632432_p24_i1_w970.jpeg'], 'ecom_available': True, 'ecom_visibility': 'VISIBLE', 'image_ids': ['XHO4G4GX6WF7R4KLESOMXZFA'], 'description_html': '<p>something we want vertex ai to generate</p>', 'description_plaintext': 'something we want vertex ai to generate', 'is_archived': False}}}\n"
     ]
    }
   ],
   "source": [
    "# nick fury\n",
    "object_id = 'FX3EJWXWG54ANMM32CNQDT3O'\n",
    "# dr doom\n",
    "#object_id = 'LUK7YOSRO4J6BV5SYVAU5X2P'\n",
    "# overwirte for second dr doom doll added during demo\n",
    "\n",
    "result = sq_client.catalog.retrieve_catalog_object(\n",
    "  object_id = object_id\n",
    ")\n",
    "\n",
    "if result.is_success():\n",
    "  print(result.body)\n",
    "elif result.is_error():\n",
    "  print(result.errors)"
   ]
  },
  {
   "cell_type": "code",
   "execution_count": 60,
   "metadata": {},
   "outputs": [
    {
     "name": "stdout",
     "output_type": "stream",
     "text": [
      "{   'object': {   'created_at': '2023-09-30T14:14:08.045Z',\n",
      "                  'id': 'FX3EJWXWG54ANMM32CNQDT3O',\n",
      "                  'is_deleted': False,\n",
      "                  'item_data': {   'abbreviation': 'DRDOLL',\n",
      "                                   'description': 'something we want vertex ai '\n",
      "                                                  'to generate',\n",
      "                                   'description_html': '<p>something we want '\n",
      "                                                       'vertex ai to '\n",
      "                                                       'generate</p>',\n",
      "                                   'description_plaintext': 'something we want '\n",
      "                                                            'vertex ai to '\n",
      "                                                            'generate',\n",
      "                                   'ecom_available': True,\n",
      "                                   'ecom_image_uris': [   'https://rtp-gcp-usergroup.square.site/uploads/1/4/7/0/147028449/s933423469753632432_p24_i1_w970.jpeg'],\n",
      "                                   'ecom_uri': 'https://rtp-gcp-usergroup.square.site/product/dr-doom-doll/24',\n",
      "                                   'ecom_visibility': 'VISIBLE',\n",
      "                                   'image_ids': ['XHO4G4GX6WF7R4KLESOMXZFA'],\n",
      "                                   'is_archived': False,\n",
      "                                   'is_taxable': True,\n",
      "                                   'name': 'Dr Doom Doll',\n",
      "                                   'product_type': 'REGULAR',\n",
      "                                   'variations': [   {   'created_at': '2023-09-30T14:14:08.045Z',\n",
      "                                                         'id': 'MWN7S42X45UBZPPVPFWJ4PYJ',\n",
      "                                                         'is_deleted': False,\n",
      "                                                         'item_variation_data': {   'item_id': 'FX3EJWXWG54ANMM32CNQDT3O',\n",
      "                                                                                    'name': '6 '\n",
      "                                                                                            'inch '\n",
      "                                                                                            'poseable '\n",
      "                                                                                            'figure',\n",
      "                                                                                    'ordinal': 0,\n",
      "                                                                                    'price_money': {   'amount': 350,\n",
      "                                                                                                       'currency': 'USD'},\n",
      "                                                                                    'pricing_type': 'FIXED_PRICING',\n",
      "                                                                                    'sellable': True,\n",
      "                                                                                    'stockable': True},\n",
      "                                                         'present_at_all_locations': True,\n",
      "                                                         'type': 'ITEM_VARIATION',\n",
      "                                                         'updated_at': '2023-09-30T14:14:08.045Z',\n",
      "                                                         'version': 1696083248045}]},\n",
      "                  'present_at_all_locations': True,\n",
      "                  'type': 'ITEM',\n",
      "                  'updated_at': '2023-09-30T14:14:50.836Z',\n",
      "                  'version': 1696083290836}}\n"
     ]
    }
   ],
   "source": [
    "pp.pprint(result.body)"
   ]
  },
  {
   "cell_type": "code",
   "execution_count": null,
   "metadata": {},
   "outputs": [],
   "source": []
  },
  {
   "cell_type": "markdown",
   "metadata": {},
   "source": [
    "# update the inventory count (This is a required api usage for the hackathon)\n",
    "\n",
    "This will update the current count.  It is not an adjustment.\n",
    "\n",
    "Example: if you currently have 10 items, you use this call to specify 15 items, afterwards inventory is 15 items.\n",
    "There is another call which is \"inventory adjustment\" that will increase/decrease the inventory account \n",
    "by the specified amount.  For this reason, simply use the api to specify a count."
   ]
  },
  {
   "cell_type": "code",
   "execution_count": 88,
   "metadata": {},
   "outputs": [
    {
     "name": "stdout",
     "output_type": "stream",
     "text": [
      "results:\n",
      "<ApiResponse {\"counts\":[{\"catalog_object_id\":\"MWN7S42X45UBZPPVPFWJ4PYJ\",\"catalog_object_type\":\"ITEM_VARIATION\",\"state\":\"IN_STOCK\",\"location_id\":\"LZBNSDTSHAMM8\",\"quantity\":\"10\",\"calculated_at\":\"2023-09-30T15:12:44.127Z\"}]}>\n",
      "success\n",
      "{'counts': [{'catalog_object_id': 'MWN7S42X45UBZPPVPFWJ4PYJ', 'catalog_object_type': 'ITEM_VARIATION', 'state': 'IN_STOCK', 'location_id': 'LZBNSDTSHAMM8', 'quantity': '10', 'calculated_at': '2023-09-30T15:12:44.127Z'}]}\n"
     ]
    }
   ],
   "source": [
    "# create a key\n",
    "uniq_uuid = uuid.uuid4()\n",
    "#print(\"uniq_uuid: \", uniq_uuid)\n",
    "\n",
    "# constants between inventory updates\n",
    "online_store_loc_id = \"LZBNSDTSHAMM8\"\n",
    "quantity_update_number = \"10\"  # assume we want to specify a particular count, not adj by this amount.\n",
    "\n",
    "# get current timestamp as ISO8601 yyyy-mm-ddThr:min:sec.sssZ\n",
    "current_time = datetime.datetime.now().isoformat(timespec='seconds')\n",
    "current_time = current_time + 'Z'\n",
    "time_of_received_inventory = current_time\n",
    "\n",
    "\n",
    "# Dr doom Inventory\n",
    "variation_id = \"MWN7S42X45UBZPPVPFWJ4PYJ\"\n",
    "\n",
    "result = sq_client.inventory.batch_change_inventory(\n",
    "  body = {\n",
    "    \"idempotency_key\": str(uniq_uuid),\n",
    "    \"changes\": [\n",
    "      {\n",
    "        \"type\": \"PHYSICAL_COUNT\",\n",
    "        \"physical_count\": {\n",
    "          \"catalog_object_id\": variation_id,\n",
    "          \"state\": \"IN_STOCK\",\n",
    "          \"location_id\": online_store_loc_id,\n",
    "          \"quantity\": quantity_update_number,\n",
    "          \"occurred_at\": time_of_received_inventory\n",
    "        }\n",
    "      }\n",
    "    ]\n",
    "  }\n",
    ")\n",
    "\n",
    "# If the existing count is 15, and the update is to have\n",
    "# 15, then the results will be {}.\n",
    "#\n",
    "# If the existing count is 10 and the update is 15,\n",
    "# then the results will have some json\n",
    "\n",
    "print(\"results:\")\n",
    "print(result)\n",
    "if result.is_success():\n",
    "  print(\"success\")\n",
    "  print(result.body)\n",
    "elif result.is_error():\n",
    "  print(\"failure\")\n",
    "  print(result.errors)"
   ]
  },
  {
   "cell_type": "code",
   "execution_count": null,
   "metadata": {},
   "outputs": [],
   "source": []
  },
  {
   "cell_type": "code",
   "execution_count": null,
   "metadata": {},
   "outputs": [],
   "source": []
  },
  {
   "cell_type": "code",
   "execution_count": null,
   "metadata": {},
   "outputs": [],
   "source": []
  },
  {
   "cell_type": "code",
   "execution_count": null,
   "metadata": {},
   "outputs": [],
   "source": []
  },
  {
   "cell_type": "code",
   "execution_count": null,
   "metadata": {},
   "outputs": [],
   "source": []
  },
  {
   "cell_type": "markdown",
   "metadata": {},
   "source": [
    "## Delete a catalog object item\n",
    "\n",
    "`DONT RUN UNLESS YOU WANT TO RECREATE THE ITEM`"
   ]
  },
  {
   "cell_type": "code",
   "execution_count": 19,
   "metadata": {},
   "outputs": [
    {
     "name": "stdout",
     "output_type": "stream",
     "text": [
      "{'deleted_object_ids': ['45KACZNXRA7PM32CAGXGRZA4', 'S5IJI4PUFA5VTB2Y6NDZ6HQV'], 'deleted_at': '2023-09-30T13:12:08.572Z'}\n"
     ]
    }
   ],
   "source": [
    "delete_id = \"S5IJI4PUFA5VTB2Y6NDZ6HQV\"\n",
    "result = sq_client.catalog.delete_catalog_object(\n",
    "  object_id = delete_id\n",
    ")\n",
    "\n",
    "if result.is_success():\n",
    "  print(result.body)\n",
    "elif result.is_error():\n",
    "  print(result.errors)"
   ]
  },
  {
   "cell_type": "code",
   "execution_count": null,
   "metadata": {},
   "outputs": [],
   "source": []
  }
 ],
 "metadata": {
  "kernelspec": {
   "display_name": "myenv",
   "language": "python",
   "name": "python3"
  },
  "language_info": {
   "codemirror_mode": {
    "name": "ipython",
    "version": 3
   },
   "file_extension": ".py",
   "mimetype": "text/x-python",
   "name": "python",
   "nbconvert_exporter": "python",
   "pygments_lexer": "ipython3",
   "version": "3.10.8"
  },
  "orig_nbformat": 4
 },
 "nbformat": 4,
 "nbformat_minor": 2
}
