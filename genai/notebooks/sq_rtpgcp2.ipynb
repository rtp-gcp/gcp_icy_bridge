{
 "cells": [
  {
   "cell_type": "code",
   "execution_count": 1,
   "metadata": {},
   "outputs": [],
   "source": [
    "# Import the os package, used to set env variables and check paths\n",
    "import os\n",
    "# import the dotenv package for client keys in .env file\n",
    "from dotenv import load_dotenv\n",
    "# for random UUID keys\n",
    "# https://docs.python.org/3/library/uuid.html\n",
    "import uuid\n",
    "# Import square \n",
    "from square.client import Client\n",
    "# for pretty print\n",
    "import pprint\n",
    "# for datetime stamp\n",
    "import datetime"
   ]
  },
  {
   "cell_type": "code",
   "execution_count": 2,
   "metadata": {},
   "outputs": [
    {
     "data": {
      "text/plain": [
       "True"
      ]
     },
     "execution_count": 2,
     "metadata": {},
     "output_type": "execute_result"
    }
   ],
   "source": [
    "# Get the current working directory\n",
    "cwd = os.getcwd()\n",
    "\n",
    "# Construct the .env file path\n",
    "env_path = os.path.join(cwd, '.env')\n",
    "\n",
    "# Load the .env file\n",
    "load_dotenv(dotenv_path=env_path)"
   ]
  },
  {
   "cell_type": "code",
   "execution_count": 3,
   "metadata": {},
   "outputs": [],
   "source": [
    "%%bash\n",
    "#echo \"SQUARE_ACCESS_TOKEN: ${SQUARE_ACCESS_TOKEN}\"\n",
    "#echo \"SQUARE_APP_ID: ${SQUARE_APP_ID}\"\n",
    "#git clone https://github.com/square/square-python-sdk.git\n",
    "#cd square-python-sdk\n",
    "#pip install .\n"
   ]
  },
  {
   "cell_type": "markdown",
   "metadata": {},
   "source": [
    "@hidden_cell"
   ]
  },
  {
   "cell_type": "code",
   "execution_count": 4,
   "metadata": {},
   "outputs": [],
   "source": [
    "# init the square API\n",
    "# using generic os environment this fails.\n",
    "# However, when using the dotenv package it works\n",
    "sq_client = Client(\n",
    "    access_token=os.environ['SQUARE_ACCESS_TOKEN'],\n",
    "    environment='production'  \n",
    ")\n",
    "pp = pprint.PrettyPrinter(indent=4)\n"
   ]
  },
  {
   "cell_type": "markdown",
   "metadata": {},
   "source": [
    "# Create a new catalog item and associate with a new image\n",
    "\n",
    "In terms of the Square API\n",
    "\n",
    "* A catalog item example would be *t-shirt*\n",
    "* A catalog item variation would be *size large t-shirt\""
   ]
  },
  {
   "cell_type": "markdown",
   "metadata": {},
   "source": [
    "## step 1 create a catalog item and add to library\n",
    "\n",
    "Everytime this is called, it creates a new one in the library.\n",
    "\n",
    "Use `delete_catalog_object()` to delete them based upon obj_id"
   ]
  },
  {
   "cell_type": "code",
   "execution_count": 197,
   "metadata": {},
   "outputs": [
    {
     "name": "stdout",
     "output_type": "stream",
     "text": [
      "{'catalog_object': {'type': 'ITEM', 'id': '7Z2R6MUWTYFGQ3K5PF7NL2WZ', 'updated_at': '2023-10-01T15:55:20.866Z', 'created_at': '2023-10-01T15:55:20.866Z', 'version': 1696175720866, 'is_deleted': False, 'present_at_all_locations': True, 'item_data': {'name': 'Action Figure', 'description': 'something we want vertex ai to generate', 'abbreviation': 'ACFIGURE', 'is_taxable': True, 'variations': [{'type': 'ITEM_VARIATION', 'id': 'FM7JRSIOFQ3D3BZGKM7BJZQG', 'updated_at': '2023-10-01T15:55:20.866Z', 'created_at': '2023-10-01T15:55:20.866Z', 'version': 1696175720866, 'is_deleted': False, 'present_at_all_locations': True, 'item_variation_data': {'item_id': '7Z2R6MUWTYFGQ3K5PF7NL2WZ', 'name': 'Dr Doom Action Figure', 'ordinal': 0, 'pricing_type': 'FIXED_PRICING', 'price_money': {'amount': 375, 'currency': 'USD'}, 'sellable': True, 'stockable': True}}], 'product_type': 'REGULAR', 'description_html': '<p>something we want vertex ai to generate</p>', 'description_plaintext': 'something we want vertex ai to generate', 'is_archived': False}}, 'id_mappings': [{'client_object_id': '#thisvaries1', 'object_id': '7Z2R6MUWTYFGQ3K5PF7NL2WZ'}, {'client_object_id': '#thisvaries2', 'object_id': 'FM7JRSIOFQ3D3BZGKM7BJZQG'}]}\n"
     ]
    }
   ],
   "source": [
    "# create a key\n",
    "uniq_uuid = uuid.uuid4()\n",
    "# convert to string\n",
    "idempotency_key = str(uniq_uuid)\n",
    "#print(\"uniq_uuid: \", uniq_uuid)\n",
    "#print(\"idempotency_key: \", idempotency_key)\n",
    "\n",
    "# Specify the Catalog Item\n",
    "# NOTE: The first catalog item requires one instance of a variation\n",
    "item_name=\"Action Figure\"\n",
    "item_abbreviation = \"ACFIGURE\"\n",
    "item_description = \"something we want vertex ai to generate\"\n",
    "# item variation data includes\n",
    "# description and price in us cents\n",
    "item_variation_name = \"Dr Doom Action Figure\"\n",
    "item_variation_amount = 375\n",
    "\n",
    "\n",
    "\n",
    "\n",
    "result = sq_client.catalog.upsert_catalog_object(\n",
    "  body = {\n",
    "    \"idempotency_key\": idempotency_key,\n",
    "    \"object\": {\n",
    "      \"type\": \"ITEM\",\n",
    "      \"id\": \"#thisvaries1\",\n",
    "      \"item_data\": {\n",
    "        \"name\": item_name,\n",
    "        \"description\": item_description,\n",
    "        \"abbreviation\": item_abbreviation,\n",
    "        \"variations\": [\n",
    "          {\n",
    "            \"type\": \"ITEM_VARIATION\",\n",
    "            \"id\": \"#thisvaries2\",\n",
    "            \"item_variation_data\": {\n",
    "              \"item_id\": \"#thisvaries1\",\n",
    "              \"name\": item_variation_name,\n",
    "              \"pricing_type\": \"FIXED_PRICING\",\n",
    "              \"price_money\": {\n",
    "                \"amount\": item_variation_amount,\n",
    "                \"currency\": \"USD\"\n",
    "              }\n",
    "            }\n",
    "          },\n",
    "        ]\n",
    "      }\n",
    "    }\n",
    "  }\n",
    ")\n",
    "\n",
    "if result.is_success():\n",
    "  print(result.body)\n",
    "elif result.is_error():\n",
    "  print(result.errors)"
   ]
  },
  {
   "cell_type": "code",
   "execution_count": 198,
   "metadata": {},
   "outputs": [
    {
     "name": "stdout",
     "output_type": "stream",
     "text": [
      "{   'catalog_object': {   'created_at': '2023-10-01T15:55:20.866Z',\n",
      "                          'id': '7Z2R6MUWTYFGQ3K5PF7NL2WZ',\n",
      "                          'is_deleted': False,\n",
      "                          'item_data': {   'abbreviation': 'ACFIGURE',\n",
      "                                           'description': 'something we want '\n",
      "                                                          'vertex ai to '\n",
      "                                                          'generate',\n",
      "                                           'description_html': '<p>something '\n",
      "                                                               'we want vertex '\n",
      "                                                               'ai to '\n",
      "                                                               'generate</p>',\n",
      "                                           'description_plaintext': 'something '\n",
      "                                                                    'we want '\n",
      "                                                                    'vertex ai '\n",
      "                                                                    'to '\n",
      "                                                                    'generate',\n",
      "                                           'is_archived': False,\n",
      "                                           'is_taxable': True,\n",
      "                                           'name': 'Action Figure',\n",
      "                                           'product_type': 'REGULAR',\n",
      "                                           'variations': [   {   'created_at': '2023-10-01T15:55:20.866Z',\n",
      "                                                                 'id': 'FM7JRSIOFQ3D3BZGKM7BJZQG',\n",
      "                                                                 'is_deleted': False,\n",
      "                                                                 'item_variation_data': {   'item_id': '7Z2R6MUWTYFGQ3K5PF7NL2WZ',\n",
      "                                                                                            'name': 'Dr '\n",
      "                                                                                                    'Doom '\n",
      "                                                                                                    'Action '\n",
      "                                                                                                    'Figure',\n",
      "                                                                                            'ordinal': 0,\n",
      "                                                                                            'price_money': {   'amount': 375,\n",
      "                                                                                                               'currency': 'USD'},\n",
      "                                                                                            'pricing_type': 'FIXED_PRICING',\n",
      "                                                                                            'sellable': True,\n",
      "                                                                                            'stockable': True},\n",
      "                                                                 'present_at_all_locations': True,\n",
      "                                                                 'type': 'ITEM_VARIATION',\n",
      "                                                                 'updated_at': '2023-10-01T15:55:20.866Z',\n",
      "                                                                 'version': 1696175720866}]},\n",
      "                          'present_at_all_locations': True,\n",
      "                          'type': 'ITEM',\n",
      "                          'updated_at': '2023-10-01T15:55:20.866Z',\n",
      "                          'version': 1696175720866},\n",
      "    'id_mappings': [   {   'client_object_id': '#thisvaries1',\n",
      "                           'object_id': '7Z2R6MUWTYFGQ3K5PF7NL2WZ'},\n",
      "                       {   'client_object_id': '#thisvaries2',\n",
      "                           'object_id': 'FM7JRSIOFQ3D3BZGKM7BJZQG'}]}\n"
     ]
    }
   ],
   "source": [
    "# print and save the object id\n",
    "pp.pprint(result.body)\n",
    "\n",
    "# Save the id\n",
    "#cat_obj_item_id = result.body['catalog_object']['id']\n",
    "#print(cat_obj_item_id)"
   ]
  },
  {
   "cell_type": "code",
   "execution_count": 199,
   "metadata": {},
   "outputs": [
    {
     "name": "stdout",
     "output_type": "stream",
     "text": [
      "cat_obj_item_id :  7Z2R6MUWTYFGQ3K5PF7NL2WZ\n",
      "cat_obj_item_variation_id:  FM7JRSIOFQ3D3BZGKM7BJZQG\n"
     ]
    }
   ],
   "source": [
    "# print and save the object id\n",
    "#pp.pprint(result.body)\n",
    "\n",
    "#\n",
    "# Save the id's for catalog and variation id\n",
    "#\n",
    "# Note this is the catalog item id.\n",
    "# Later we want to add a picture for the item variation id.\n",
    "cat_obj_item_id = result.body['catalog_object']['id']\n",
    "#print(cat_obj_item_id)\n",
    "\n",
    "cat_obj_item_variations = result.body['catalog_object']['item_data']['variations']\n",
    "#pp.pprint(cat_obj_item_variations)\n",
    "\n",
    "\n",
    "for x in  cat_obj_item_variations:\n",
    "    #pp.pprint(x)\n",
    "    #pp.pprint(x['item_variation_data']['item_id'])\n",
    "    if item_variation_name == x['item_variation_data']['name']:\n",
    "        #pp.pprint(x)\n",
    "        cat_obj_item_variation_id = x['id']\n",
    "        #pp.pprint(cat_obj_item_variation_id)\n",
    "\n",
    "print(\"cat_obj_item_id : \", cat_obj_item_id )\n",
    "print(\"cat_obj_item_variation_id: \", cat_obj_item_variation_id)\n",
    "# Save off this variation id so we can use to update inventory\n",
    "dr_doom_variation_id=cat_obj_item_variation_id\n",
    "\n",
    "\n",
    "# save for later\n",
    "#item_ids = [e[\"item_variations\"][\"item_id\"] for e in cat_obj_item_id]\n"
   ]
  },
  {
   "cell_type": "markdown",
   "metadata": {},
   "source": [
    "## Step 2 upload an image an associate with the catalog item\n",
    "\n",
    "Add an image to the catablog item variation.  In the case of a *large T-Shirt*, this would be an image of a Large T-Shirt."
   ]
  },
  {
   "cell_type": "code",
   "execution_count": 200,
   "metadata": {},
   "outputs": [
    {
     "name": "stdout",
     "output_type": "stream",
     "text": [
      "{'image': {'type': 'IMAGE', 'id': 'XEVPMNJIODMCNALOSSQFOY4Q', 'updated_at': '2023-10-01T15:55:30.698Z', 'created_at': '2023-10-01T15:55:30.698Z', 'version': 1696175730698, 'is_deleted': False, 'present_at_all_locations': True, 'image_data': {'name': 'Dr Doom Doll Image', 'url': 'https://items-images-production.s3.us-west-2.amazonaws.com/files/0a980973e5af640e65bc451ff2f4c565a2819d9e/original.jpeg', 'caption': 'Dr Doom Doll'}}}\n"
     ]
    }
   ],
   "source": [
    "# create a key\n",
    "uniq_uuid = uuid.uuid4()\n",
    "# convert to string\n",
    "idempotency_key = str(uniq_uuid)\n",
    "#print(\"uniq_uuid: \", uniq_uuid)\n",
    "#print(\"idempotency_key: \", idempotency_key)\n",
    "\n",
    "\n",
    "# DR DOOM\n",
    "file_to_upload_path = \"./sample_imgs/drdoom.jpeg\" # Modify this to point to your desired file.\n",
    "image_name = \"Dr Doom Doll Image\"\n",
    "image_caption = \"Dr Doom Doll\"\n",
    "\n",
    "f_stream = open(file_to_upload_path, \"rb\")\n",
    "\n",
    "\n",
    "\n",
    "result = sq_client.catalog.create_catalog_image(\n",
    "  request = {\n",
    "    \"idempotency_key\": idempotency_key,\n",
    "     \"object_id\": cat_obj_item_variation_id,\n",
    "    \"image\": {\n",
    "      \"type\": \"IMAGE\",\n",
    "      \"id\": \"#image_id\",\n",
    "      \"image_data\": {\n",
    "        \"name\": image_name,\n",
    "        \"caption\": image_caption\n",
    "      }\n",
    "    }\n",
    "  },\n",
    "  image_file = f_stream\n",
    ")\n",
    "\n",
    "if result.is_success():\n",
    "  print(result.body)\n",
    "elif result.is_error():\n",
    "  print(result.errors)\n"
   ]
  },
  {
   "cell_type": "markdown",
   "metadata": {},
   "source": [
    "# Create another variation for the same catalog item\n"
   ]
  },
  {
   "cell_type": "code",
   "execution_count": 201,
   "metadata": {},
   "outputs": [
    {
     "name": "stdout",
     "output_type": "stream",
     "text": [
      "{'catalog_object': {'type': 'ITEM_VARIATION', 'id': '2MD7GTL3C6H2KNWUNDJWKRJQ', 'updated_at': '2023-10-01T15:55:35.008Z', 'created_at': '2023-10-01T15:55:35.008Z', 'version': 1696175735008, 'is_deleted': False, 'present_at_all_locations': True, 'item_variation_data': {'item_id': '7Z2R6MUWTYFGQ3K5PF7NL2WZ', 'name': 'Nick Fury Action Figure', 'pricing_type': 'FIXED_PRICING', 'price_money': {'amount': 350, 'currency': 'USD'}, 'sellable': True, 'stockable': True}}, 'id_mappings': [{'client_object_id': '#new', 'object_id': '2MD7GTL3C6H2KNWUNDJWKRJQ'}]}\n"
     ]
    }
   ],
   "source": [
    "# create a key\n",
    "uniq_uuid = uuid.uuid4()\n",
    "# convert to string\n",
    "idempotency_key = str(uniq_uuid)\n",
    "#print(\"uniq_uuid: \", uniq_uuid)\n",
    "#print(\"idempotency_key: \", idempotency_key)\n",
    "\n",
    "# Specify the Catalog Item\n",
    "# NOTE: The first catalog item requires one instance of a variation\n",
    "#item_name=\"Action Figure\"\n",
    "#item_abbreviation = \"ACFIGURE\"\n",
    "#item_description = \"something we want vertex ai to generate\"\n",
    "# item variation data includes\n",
    "# description and price in us cents\n",
    "item_variation_name = \"Nick Fury Action Figure\"\n",
    "item_variation_amount = 350\n",
    "\n",
    "\n",
    "\n",
    "\n",
    "result = sq_client.catalog.upsert_catalog_object(\n",
    "  body = {\n",
    "    \"idempotency_key\": idempotency_key,\n",
    "    \"object\": {\n",
    "      \"type\": \"ITEM_VARIATION\",\n",
    "      \"id\": \"#new\",\n",
    "      \"item_variation_data\": {\n",
    "        \"item_id\": cat_obj_item_id,\n",
    "        \"name\": item_variation_name,\n",
    "        \"pricing_type\": \"FIXED_PRICING\",\n",
    "        \"price_money\": {\n",
    "          \"amount\": item_variation_amount,\n",
    "          \"currency\": \"USD\"\n",
    "        }\n",
    "      }\n",
    "    }\n",
    "  }\n",
    ")\n",
    "\n",
    "if result.is_success():\n",
    "  print(result.body)\n",
    "elif result.is_error():\n",
    "  print(result.errors)\n",
    "\n",
    "\n",
    "\n",
    "\n",
    "\n"
   ]
  },
  {
   "cell_type": "code",
   "execution_count": 202,
   "metadata": {},
   "outputs": [
    {
     "name": "stdout",
     "output_type": "stream",
     "text": [
      "{   'catalog_object': {   'created_at': '2023-10-01T15:55:35.008Z',\n",
      "                          'id': '2MD7GTL3C6H2KNWUNDJWKRJQ',\n",
      "                          'is_deleted': False,\n",
      "                          'item_variation_data': {   'item_id': '7Z2R6MUWTYFGQ3K5PF7NL2WZ',\n",
      "                                                     'name': 'Nick Fury Action '\n",
      "                                                             'Figure',\n",
      "                                                     'price_money': {   'amount': 350,\n",
      "                                                                        'currency': 'USD'},\n",
      "                                                     'pricing_type': 'FIXED_PRICING',\n",
      "                                                     'sellable': True,\n",
      "                                                     'stockable': True},\n",
      "                          'present_at_all_locations': True,\n",
      "                          'type': 'ITEM_VARIATION',\n",
      "                          'updated_at': '2023-10-01T15:55:35.008Z',\n",
      "                          'version': 1696175735008},\n",
      "    'id_mappings': [   {   'client_object_id': '#new',\n",
      "                           'object_id': '2MD7GTL3C6H2KNWUNDJWKRJQ'}]}\n",
      "2MD7GTL3C6H2KNWUNDJWKRJQ\n"
     ]
    }
   ],
   "source": [
    "# print and save the object id\n",
    "pp.pprint(result.body)\n",
    "\n",
    "#\n",
    "# Save the id's for catalog and variation id\n",
    "#\n",
    "# Note this is the catalog item id.\n",
    "# Later we want to add a picture for the item variation id.\n",
    "# NOTE: I was expecting to have to search through the variations\n",
    "# to find the variation id, when you have two items, but it appears you get just the last item\n",
    "# so we don't have to search.  We know where it is.\n",
    "cat_obj_item_variation_id = result.body['catalog_object']['id']\n",
    "\n",
    "print(cat_obj_item_variation_id)\n",
    "\n",
    "# Save off this variation id so we can use to update inventory\n",
    "nick_fury_variation_id=cat_obj_item_variation_id\n",
    "\n"
   ]
  },
  {
   "cell_type": "markdown",
   "metadata": {},
   "source": [
    "# Add an image for the variation"
   ]
  },
  {
   "cell_type": "code",
   "execution_count": 203,
   "metadata": {},
   "outputs": [
    {
     "name": "stdout",
     "output_type": "stream",
     "text": [
      "idempotency_key:  701c9c11-0f65-4e29-8613-9bd2b802a8ab\n",
      "{'image': {'type': 'IMAGE', 'id': '4BZDTISFPGBIVXQQWAWHTDB4', 'updated_at': '2023-10-01T15:55:39.874Z', 'created_at': '2023-10-01T15:55:39.874Z', 'version': 1696175739874, 'is_deleted': False, 'present_at_all_locations': True, 'image_data': {'name': 'Nick Fury Doll Image', 'url': 'https://items-images-production.s3.us-west-2.amazonaws.com/files/2e7be50da564218c0327c39300dfd2198445bd2d/original.jpeg', 'caption': 'Nick Fury Doll'}}}\n"
     ]
    }
   ],
   "source": [
    "# create a key\n",
    "uniq_uuid = uuid.uuid4()\n",
    "# convert to string\n",
    "idempotency_key = str(uniq_uuid)\n",
    "#print(\"uniq_uuid: \", uniq_uuid)\n",
    "print(\"idempotency_key: \", idempotency_key)\n",
    "\n",
    "\n",
    "# Nick Fury\n",
    "file_to_upload_path = \"./sample_imgs/nickfury.jpeg\" # Modify this to point to your desired file.\n",
    "image_name = \"Nick Fury Doll Image\"\n",
    "image_caption = \"Nick Fury Doll\"\n",
    "\n",
    "f_stream = open(file_to_upload_path, \"rb\")\n",
    "\n",
    "result = sq_client.catalog.create_catalog_image(\n",
    "   request = {\n",
    "     \"idempotency_key\": idempotency_key,\n",
    "      \"object_id\": cat_obj_item_variation_id,\n",
    "     \"image\": {\n",
    "       \"type\": \"IMAGE\",\n",
    "       \"id\": \"#image_id\",\n",
    "       \"image_data\": {\n",
    "         \"name\": image_name,\n",
    "         \"caption\": image_caption\n",
    "       }\n",
    "     }\n",
    "   },\n",
    "   image_file = f_stream\n",
    " )\n",
    "\n",
    "if result.is_success():\n",
    "   print(result.body)\n",
    "elif result.is_error():\n",
    "   print(result.errors)\n"
   ]
  },
  {
   "cell_type": "code",
   "execution_count": null,
   "metadata": {},
   "outputs": [],
   "source": []
  },
  {
   "cell_type": "code",
   "execution_count": null,
   "metadata": {},
   "outputs": [],
   "source": []
  },
  {
   "cell_type": "code",
   "execution_count": null,
   "metadata": {},
   "outputs": [],
   "source": []
  },
  {
   "cell_type": "code",
   "execution_count": null,
   "metadata": {},
   "outputs": [],
   "source": []
  },
  {
   "cell_type": "markdown",
   "metadata": {},
   "source": [
    "# verify the catalog has the item we added"
   ]
  },
  {
   "cell_type": "markdown",
   "metadata": {},
   "source": [
    "## Query all items and look through results manually"
   ]
  },
  {
   "cell_type": "code",
   "execution_count": 180,
   "metadata": {},
   "outputs": [
    {
     "name": "stdout",
     "output_type": "stream",
     "text": [
      "{'objects': [{'type': 'CUSTOM_ATTRIBUTE_DEFINITION', 'id': 'TN6I6F7QXTEKDRT4M5F6JA7J', 'updated_at': '2023-09-17T16:01:13.582Z', 'created_at': '2023-09-17T16:01:13.582Z', 'version': 1694966473582, 'is_deleted': False, 'present_at_all_locations': True, 'custom_attribute_definition_data': {'type': 'BOOLEAN', 'name': 'Is Alcoholic', 'description': 'Enabling this toggle on an item indicates that it contains alcohol.', 'source_application': {'application_id': 'sq0idp-w46nJ_NCNDMSOywaCY0mwA', 'name': 'Square Online Store'}, 'allowed_object_types': ['ITEM'], 'seller_visibility': 'SELLER_VISIBILITY_HIDDEN', 'app_visibility': 'APP_VISIBILITY_HIDDEN', 'key': 'is_alcoholic'}}, {'type': 'CUSTOM_ATTRIBUTE_DEFINITION', 'id': 'KKJDEQ5ET5QY232B3XO4GRR2', 'updated_at': '2023-09-17T16:01:13.869Z', 'created_at': '2023-09-17T16:01:13.869Z', 'version': 1694966473869, 'is_deleted': False, 'present_at_all_locations': True, 'custom_attribute_definition_data': {'type': 'STRING', 'name': 'Ecom Storefront Classic Site ID', 'description': 'Ecommerce bridge target storefront classic site ID. Used to create site-item associations after copying items.', 'source_application': {'application_id': 'sq0idp-w46nJ_NCNDMSOywaCY0mwA', 'name': 'Square Online Store'}, 'allowed_object_types': ['ITEM'], 'seller_visibility': 'SELLER_VISIBILITY_HIDDEN', 'app_visibility': 'APP_VISIBILITY_HIDDEN', 'string_config': {'enforce_uniqueness': False}, 'key': 'ecom_target_classic_site_id'}}, {'type': 'CUSTOM_ATTRIBUTE_DEFINITION', 'id': 'KPGOH5WLGQLBDU47VCJ7XEOU', 'updated_at': '2023-09-24T16:34:32.969Z', 'created_at': '2023-09-24T16:34:32.969Z', 'version': 1695573272969, 'is_deleted': False, 'present_at_all_locations': True, 'custom_attribute_definition_data': {'type': 'STRING', 'name': 'Photo Studio iOS App Tracking Version', 'source_application': {'application_id': 'sq0idp-VOWwTrettrWJDLFqPV9iSw', 'name': 'Photo Studio'}, 'allowed_object_types': ['ITEM'], 'seller_visibility': 'SELLER_VISIBILITY_HIDDEN', 'app_visibility': 'APP_VISIBILITY_READ_WRITE_VALUES', 'string_config': {'enforce_uniqueness': False}, 'key': 'photo_studio_tracking_version'}}, {'type': 'CATEGORY', 'id': 'VOLOYDZFVDL74PKXDOIEDPER', 'updated_at': '2023-09-24T16:43:43.271Z', 'created_at': '2023-09-24T16:43:43.271Z', 'version': 1695573823271, 'is_deleted': False, 'catalog_v1_ids': [{'catalog_v1_id': '4TONVQY3ZPH26DDK44B5YK6Q', 'location_id': 'LZBNSDTSHAMM8'}], 'present_at_all_locations': True, 'category_data': {'name': 'Marvel Comics', 'ordinal': 0, 'is_top_level': True}}, {'type': 'CATEGORY', 'id': 'TEXJTOFE4YPPL5DJZY57ZABJ', 'updated_at': '2023-09-24T16:43:43.271Z', 'created_at': '2023-09-24T16:43:43.271Z', 'version': 1695573823271, 'is_deleted': False, 'catalog_v1_ids': [{'catalog_v1_id': 'SBEQDXX35GUPDIM7YIW57JF7', 'location_id': 'LZBNSDTSHAMM8'}], 'present_at_all_locations': True, 'category_data': {'name': 'Lord Of The Rings', 'ordinal': 0, 'is_top_level': True}}, {'type': 'QUICK_AMOUNTS_SETTINGS', 'id': 'DVJRT4SSQY76BVX752OJSCML', 'updated_at': '2023-09-24T18:35:54.413Z', 'created_at': '2023-09-24T18:35:54.413Z', 'version': 1695580554413, 'is_deleted': False, 'present_at_all_locations': False, 'present_at_location_ids': ['LZBNSDTSHAMM8'], 'quick_amounts_settings_data': {'option': 'DISABLED', 'eligible_for_auto_amounts': False}}, {'type': 'ITEM', 'id': 'HYUXWTUIBEMZKGF5QAGUR6EV', 'updated_at': '2023-10-01T15:32:17.011Z', 'created_at': '2023-10-01T15:30:54.044Z', 'version': 1696174337011, 'is_deleted': False, 'present_at_all_locations': True, 'item_data': {'name': 'Action Figure', 'description': 'something we want vertex ai to generate', 'abbreviation': 'ACFIGURE', 'is_taxable': True, 'variations': [{'type': 'ITEM_VARIATION', 'id': 'W2NZIE3UX44P6AKLYUDR7PDM', 'updated_at': '2023-10-01T15:32:17.011Z', 'created_at': '2023-10-01T15:30:54.044Z', 'version': 1696174337011, 'is_deleted': False, 'present_at_all_locations': True, 'item_variation_data': {'item_id': 'HYUXWTUIBEMZKGF5QAGUR6EV', 'name': 'Dr Doom Action Figure', 'ordinal': 0, 'pricing_type': 'FIXED_PRICING', 'price_money': {'amount': 375, 'currency': 'USD'}, 'sellable': True, 'stockable': True, 'image_ids': ['X34DZI4HJRELAZBWZ75OXGB4']}}, {'type': 'ITEM_VARIATION', 'id': 'KIUINQ6DTM6BPFFCLHRVUC7B', 'updated_at': '2023-10-01T15:32:17.011Z', 'created_at': '2023-10-01T15:31:40.981Z', 'version': 1696174337011, 'is_deleted': False, 'present_at_all_locations': True, 'item_variation_data': {'item_id': 'HYUXWTUIBEMZKGF5QAGUR6EV', 'name': 'Nick Fury Action Figure', 'ordinal': 1, 'pricing_type': 'FIXED_PRICING', 'price_money': {'amount': 350, 'currency': 'USD'}, 'sellable': True, 'stockable': True}}], 'product_type': 'REGULAR', 'ecom_uri': 'https://rtp-gcp-usergroup.square.site/product/action-figure/42', 'ecom_image_uris': ['https://rtp-gcp-usergroup.square.site/uploads/1/4/7/0/147028449/s933423469753632432_p42_i1_w970.jpeg'], 'ecom_available': True, 'ecom_visibility': 'VISIBLE', 'description_html': '<p>something we want vertex ai to generate</p>', 'description_plaintext': 'something we want vertex ai to generate', 'is_archived': False}}]}\n"
     ]
    }
   ],
   "source": [
    "result = sq_client.catalog.list_catalog()\n",
    "\n",
    "if result.is_success():\n",
    "  print(result.body)\n",
    "elif result.is_error():\n",
    "  print(result.errors)\n",
    "\n"
   ]
  },
  {
   "cell_type": "code",
   "execution_count": 181,
   "metadata": {},
   "outputs": [
    {
     "name": "stdout",
     "output_type": "stream",
     "text": [
      "{   'objects': [   {   'created_at': '2023-09-17T16:01:13.582Z',\n",
      "                       'custom_attribute_definition_data': {   'allowed_object_types': [   'ITEM'],\n",
      "                                                               'app_visibility': 'APP_VISIBILITY_HIDDEN',\n",
      "                                                               'description': 'Enabling '\n",
      "                                                                              'this '\n",
      "                                                                              'toggle '\n",
      "                                                                              'on '\n",
      "                                                                              'an '\n",
      "                                                                              'item '\n",
      "                                                                              'indicates '\n",
      "                                                                              'that '\n",
      "                                                                              'it '\n",
      "                                                                              'contains '\n",
      "                                                                              'alcohol.',\n",
      "                                                               'key': 'is_alcoholic',\n",
      "                                                               'name': 'Is '\n",
      "                                                                       'Alcoholic',\n",
      "                                                               'seller_visibility': 'SELLER_VISIBILITY_HIDDEN',\n",
      "                                                               'source_application': {   'application_id': 'sq0idp-w46nJ_NCNDMSOywaCY0mwA',\n",
      "                                                                                         'name': 'Square '\n",
      "                                                                                                 'Online '\n",
      "                                                                                                 'Store'},\n",
      "                                                               'type': 'BOOLEAN'},\n",
      "                       'id': 'TN6I6F7QXTEKDRT4M5F6JA7J',\n",
      "                       'is_deleted': False,\n",
      "                       'present_at_all_locations': True,\n",
      "                       'type': 'CUSTOM_ATTRIBUTE_DEFINITION',\n",
      "                       'updated_at': '2023-09-17T16:01:13.582Z',\n",
      "                       'version': 1694966473582},\n",
      "                   {   'created_at': '2023-09-17T16:01:13.869Z',\n",
      "                       'custom_attribute_definition_data': {   'allowed_object_types': [   'ITEM'],\n",
      "                                                               'app_visibility': 'APP_VISIBILITY_HIDDEN',\n",
      "                                                               'description': 'Ecommerce '\n",
      "                                                                              'bridge '\n",
      "                                                                              'target '\n",
      "                                                                              'storefront '\n",
      "                                                                              'classic '\n",
      "                                                                              'site '\n",
      "                                                                              'ID. '\n",
      "                                                                              'Used '\n",
      "                                                                              'to '\n",
      "                                                                              'create '\n",
      "                                                                              'site-item '\n",
      "                                                                              'associations '\n",
      "                                                                              'after '\n",
      "                                                                              'copying '\n",
      "                                                                              'items.',\n",
      "                                                               'key': 'ecom_target_classic_site_id',\n",
      "                                                               'name': 'Ecom '\n",
      "                                                                       'Storefront '\n",
      "                                                                       'Classic '\n",
      "                                                                       'Site '\n",
      "                                                                       'ID',\n",
      "                                                               'seller_visibility': 'SELLER_VISIBILITY_HIDDEN',\n",
      "                                                               'source_application': {   'application_id': 'sq0idp-w46nJ_NCNDMSOywaCY0mwA',\n",
      "                                                                                         'name': 'Square '\n",
      "                                                                                                 'Online '\n",
      "                                                                                                 'Store'},\n",
      "                                                               'string_config': {   'enforce_uniqueness': False},\n",
      "                                                               'type': 'STRING'},\n",
      "                       'id': 'KKJDEQ5ET5QY232B3XO4GRR2',\n",
      "                       'is_deleted': False,\n",
      "                       'present_at_all_locations': True,\n",
      "                       'type': 'CUSTOM_ATTRIBUTE_DEFINITION',\n",
      "                       'updated_at': '2023-09-17T16:01:13.869Z',\n",
      "                       'version': 1694966473869},\n",
      "                   {   'created_at': '2023-09-24T16:34:32.969Z',\n",
      "                       'custom_attribute_definition_data': {   'allowed_object_types': [   'ITEM'],\n",
      "                                                               'app_visibility': 'APP_VISIBILITY_READ_WRITE_VALUES',\n",
      "                                                               'key': 'photo_studio_tracking_version',\n",
      "                                                               'name': 'Photo '\n",
      "                                                                       'Studio '\n",
      "                                                                       'iOS '\n",
      "                                                                       'App '\n",
      "                                                                       'Tracking '\n",
      "                                                                       'Version',\n",
      "                                                               'seller_visibility': 'SELLER_VISIBILITY_HIDDEN',\n",
      "                                                               'source_application': {   'application_id': 'sq0idp-VOWwTrettrWJDLFqPV9iSw',\n",
      "                                                                                         'name': 'Photo '\n",
      "                                                                                                 'Studio'},\n",
      "                                                               'string_config': {   'enforce_uniqueness': False},\n",
      "                                                               'type': 'STRING'},\n",
      "                       'id': 'KPGOH5WLGQLBDU47VCJ7XEOU',\n",
      "                       'is_deleted': False,\n",
      "                       'present_at_all_locations': True,\n",
      "                       'type': 'CUSTOM_ATTRIBUTE_DEFINITION',\n",
      "                       'updated_at': '2023-09-24T16:34:32.969Z',\n",
      "                       'version': 1695573272969},\n",
      "                   {   'catalog_v1_ids': [   {   'catalog_v1_id': '4TONVQY3ZPH26DDK44B5YK6Q',\n",
      "                                                 'location_id': 'LZBNSDTSHAMM8'}],\n",
      "                       'category_data': {   'is_top_level': True,\n",
      "                                            'name': 'Marvel Comics',\n",
      "                                            'ordinal': 0},\n",
      "                       'created_at': '2023-09-24T16:43:43.271Z',\n",
      "                       'id': 'VOLOYDZFVDL74PKXDOIEDPER',\n",
      "                       'is_deleted': False,\n",
      "                       'present_at_all_locations': True,\n",
      "                       'type': 'CATEGORY',\n",
      "                       'updated_at': '2023-09-24T16:43:43.271Z',\n",
      "                       'version': 1695573823271},\n",
      "                   {   'catalog_v1_ids': [   {   'catalog_v1_id': 'SBEQDXX35GUPDIM7YIW57JF7',\n",
      "                                                 'location_id': 'LZBNSDTSHAMM8'}],\n",
      "                       'category_data': {   'is_top_level': True,\n",
      "                                            'name': 'Lord Of The Rings',\n",
      "                                            'ordinal': 0},\n",
      "                       'created_at': '2023-09-24T16:43:43.271Z',\n",
      "                       'id': 'TEXJTOFE4YPPL5DJZY57ZABJ',\n",
      "                       'is_deleted': False,\n",
      "                       'present_at_all_locations': True,\n",
      "                       'type': 'CATEGORY',\n",
      "                       'updated_at': '2023-09-24T16:43:43.271Z',\n",
      "                       'version': 1695573823271},\n",
      "                   {   'created_at': '2023-09-24T18:35:54.413Z',\n",
      "                       'id': 'DVJRT4SSQY76BVX752OJSCML',\n",
      "                       'is_deleted': False,\n",
      "                       'present_at_all_locations': False,\n",
      "                       'present_at_location_ids': ['LZBNSDTSHAMM8'],\n",
      "                       'quick_amounts_settings_data': {   'eligible_for_auto_amounts': False,\n",
      "                                                          'option': 'DISABLED'},\n",
      "                       'type': 'QUICK_AMOUNTS_SETTINGS',\n",
      "                       'updated_at': '2023-09-24T18:35:54.413Z',\n",
      "                       'version': 1695580554413},\n",
      "                   {   'created_at': '2023-10-01T15:30:54.044Z',\n",
      "                       'id': 'HYUXWTUIBEMZKGF5QAGUR6EV',\n",
      "                       'is_deleted': False,\n",
      "                       'item_data': {   'abbreviation': 'ACFIGURE',\n",
      "                                        'description': 'something we want '\n",
      "                                                       'vertex ai to generate',\n",
      "                                        'description_html': '<p>something we '\n",
      "                                                            'want vertex ai to '\n",
      "                                                            'generate</p>',\n",
      "                                        'description_plaintext': 'something we '\n",
      "                                                                 'want vertex '\n",
      "                                                                 'ai to '\n",
      "                                                                 'generate',\n",
      "                                        'ecom_available': True,\n",
      "                                        'ecom_image_uris': [   'https://rtp-gcp-usergroup.square.site/uploads/1/4/7/0/147028449/s933423469753632432_p42_i1_w970.jpeg'],\n",
      "                                        'ecom_uri': 'https://rtp-gcp-usergroup.square.site/product/action-figure/42',\n",
      "                                        'ecom_visibility': 'VISIBLE',\n",
      "                                        'is_archived': False,\n",
      "                                        'is_taxable': True,\n",
      "                                        'name': 'Action Figure',\n",
      "                                        'product_type': 'REGULAR',\n",
      "                                        'variations': [   {   'created_at': '2023-10-01T15:30:54.044Z',\n",
      "                                                              'id': 'W2NZIE3UX44P6AKLYUDR7PDM',\n",
      "                                                              'is_deleted': False,\n",
      "                                                              'item_variation_data': {   'image_ids': [   'X34DZI4HJRELAZBWZ75OXGB4'],\n",
      "                                                                                         'item_id': 'HYUXWTUIBEMZKGF5QAGUR6EV',\n",
      "                                                                                         'name': 'Dr '\n",
      "                                                                                                 'Doom '\n",
      "                                                                                                 'Action '\n",
      "                                                                                                 'Figure',\n",
      "                                                                                         'ordinal': 0,\n",
      "                                                                                         'price_money': {   'amount': 375,\n",
      "                                                                                                            'currency': 'USD'},\n",
      "                                                                                         'pricing_type': 'FIXED_PRICING',\n",
      "                                                                                         'sellable': True,\n",
      "                                                                                         'stockable': True},\n",
      "                                                              'present_at_all_locations': True,\n",
      "                                                              'type': 'ITEM_VARIATION',\n",
      "                                                              'updated_at': '2023-10-01T15:32:17.011Z',\n",
      "                                                              'version': 1696174337011},\n",
      "                                                          {   'created_at': '2023-10-01T15:31:40.981Z',\n",
      "                                                              'id': 'KIUINQ6DTM6BPFFCLHRVUC7B',\n",
      "                                                              'is_deleted': False,\n",
      "                                                              'item_variation_data': {   'item_id': 'HYUXWTUIBEMZKGF5QAGUR6EV',\n",
      "                                                                                         'name': 'Nick '\n",
      "                                                                                                 'Fury '\n",
      "                                                                                                 'Action '\n",
      "                                                                                                 'Figure',\n",
      "                                                                                         'ordinal': 1,\n",
      "                                                                                         'price_money': {   'amount': 350,\n",
      "                                                                                                            'currency': 'USD'},\n",
      "                                                                                         'pricing_type': 'FIXED_PRICING',\n",
      "                                                                                         'sellable': True,\n",
      "                                                                                         'stockable': True},\n",
      "                                                              'present_at_all_locations': True,\n",
      "                                                              'type': 'ITEM_VARIATION',\n",
      "                                                              'updated_at': '2023-10-01T15:32:17.011Z',\n",
      "                                                              'version': 1696174337011}]},\n",
      "                       'present_at_all_locations': True,\n",
      "                       'type': 'ITEM',\n",
      "                       'updated_at': '2023-10-01T15:32:17.011Z',\n",
      "                       'version': 1696174337011}]}\n"
     ]
    }
   ],
   "source": [
    "pp.pprint(result.body)"
   ]
  },
  {
   "cell_type": "markdown",
   "metadata": {},
   "source": [
    "\n",
    "## Query API, finds an object based upon characteristics\n",
    "\n",
    "If you know the object ID, Retrieve Catalog Obj API in next section\n",
    "\n",
    "### Query for a specific item by attribute (name)"
   ]
  },
  {
   "cell_type": "code",
   "execution_count": 66,
   "metadata": {},
   "outputs": [
    {
     "name": "stdout",
     "output_type": "stream",
     "text": [
      "{'latest_time': '2023-10-01T14:05:39.93Z'}\n"
     ]
    }
   ],
   "source": [
    "result = sq_client.catalog.search_catalog_objects(\n",
    "  body = {\n",
    "    \"query\": {\n",
    "      \"exact_query\": {\n",
    "        \"attribute_name\": \"name\",\n",
    "        \"attribute_value\": \"Nick Fury Doll\"\n",
    "        #\"attribute_value\": \"DR Doom Doll\"\n",
    "      }\n",
    "    }\n",
    "  }\n",
    ")\n",
    "\n",
    "if result.is_success():\n",
    "  print(result.body)\n",
    "elif result.is_error():\n",
    "  print(result.errors)"
   ]
  },
  {
   "cell_type": "code",
   "execution_count": 67,
   "metadata": {},
   "outputs": [
    {
     "name": "stdout",
     "output_type": "stream",
     "text": [
      "{'latest_time': '2023-10-01T14:05:39.93Z'}\n"
     ]
    }
   ],
   "source": [
    "pp.pprint(result.body)"
   ]
  },
  {
   "cell_type": "markdown",
   "metadata": {},
   "source": [
    "## Query for a specific item by attribute (abbreviation)"
   ]
  },
  {
   "cell_type": "code",
   "execution_count": 68,
   "metadata": {},
   "outputs": [
    {
     "name": "stdout",
     "output_type": "stream",
     "text": [
      "{'latest_time': '2023-10-01T14:05:39.93Z'}\n"
     ]
    }
   ],
   "source": [
    "# I could not determine a way to query on the ID\n",
    "# If you used attribute, you can specify the abbreviation but not the ID given after the ID>\n",
    "\n",
    "result = sq_client.catalog.search_catalog_objects(\n",
    "  body = {\n",
    "    \"object_types\": [\n",
    "      \"ITEM\"\n",
    "    ],\n",
    "    \"query\": {\n",
    "      \"exact_query\": {\n",
    "        \"attribute_name\": \"abbreviation\",\n",
    "        \"attribute_value\": \"NFDOLL\"\n",
    "      }\n",
    "    }\n",
    "  }\n",
    ")\n",
    "\n",
    "if result.is_success():\n",
    "  print(result.body)\n",
    "elif result.is_error():\n",
    "  print(result.errors)"
   ]
  },
  {
   "cell_type": "code",
   "execution_count": 69,
   "metadata": {},
   "outputs": [
    {
     "name": "stdout",
     "output_type": "stream",
     "text": [
      "{'latest_time': '2023-10-01T14:05:39.93Z'}\n"
     ]
    }
   ],
   "source": [
    "pp.pprint(result.body)"
   ]
  },
  {
   "cell_type": "markdown",
   "metadata": {},
   "source": [
    "## To read info about a particular item use \"Retrieve Catalog Object\""
   ]
  },
  {
   "cell_type": "code",
   "execution_count": 50,
   "metadata": {},
   "outputs": [],
   "source": [
    "# IDS                             Name               ABBR             Description                                  NOTES\n",
    "# 44K7RNU7YHIXMYOV5X5TD2ZY        Nick Fury Doll     NFDOLL           something about Nick Fury from vertex ai\n",
    "# FX3EJWXWG54ANMM32CNQDT3O        Dr Doom Doll       DRDOLL           something we want vertext ai to generate\n"
   ]
  },
  {
   "cell_type": "code",
   "execution_count": 59,
   "metadata": {},
   "outputs": [
    {
     "name": "stdout",
     "output_type": "stream",
     "text": [
      "{'object': {'type': 'ITEM', 'id': 'FX3EJWXWG54ANMM32CNQDT3O', 'updated_at': '2023-09-30T14:14:50.836Z', 'created_at': '2023-09-30T14:14:08.045Z', 'version': 1696083290836, 'is_deleted': False, 'present_at_all_locations': True, 'item_data': {'name': 'Dr Doom Doll', 'description': 'something we want vertex ai to generate', 'abbreviation': 'DRDOLL', 'is_taxable': True, 'variations': [{'type': 'ITEM_VARIATION', 'id': 'MWN7S42X45UBZPPVPFWJ4PYJ', 'updated_at': '2023-09-30T14:14:08.045Z', 'created_at': '2023-09-30T14:14:08.045Z', 'version': 1696083248045, 'is_deleted': False, 'present_at_all_locations': True, 'item_variation_data': {'item_id': 'FX3EJWXWG54ANMM32CNQDT3O', 'name': '6 inch poseable figure', 'ordinal': 0, 'pricing_type': 'FIXED_PRICING', 'price_money': {'amount': 350, 'currency': 'USD'}, 'sellable': True, 'stockable': True}}], 'product_type': 'REGULAR', 'ecom_uri': 'https://rtp-gcp-usergroup.square.site/product/dr-doom-doll/24', 'ecom_image_uris': ['https://rtp-gcp-usergroup.square.site/uploads/1/4/7/0/147028449/s933423469753632432_p24_i1_w970.jpeg'], 'ecom_available': True, 'ecom_visibility': 'VISIBLE', 'image_ids': ['XHO4G4GX6WF7R4KLESOMXZFA'], 'description_html': '<p>something we want vertex ai to generate</p>', 'description_plaintext': 'something we want vertex ai to generate', 'is_archived': False}}}\n"
     ]
    }
   ],
   "source": [
    "# nick fury\n",
    "object_id = 'FX3EJWXWG54ANMM32CNQDT3O'\n",
    "# dr doom\n",
    "#object_id = 'LUK7YOSRO4J6BV5SYVAU5X2P'\n",
    "# overwirte for second dr doom doll added during demo\n",
    "\n",
    "result = sq_client.catalog.retrieve_catalog_object(\n",
    "  object_id = object_id\n",
    ")\n",
    "\n",
    "if result.is_success():\n",
    "  print(result.body)\n",
    "elif result.is_error():\n",
    "  print(result.errors)"
   ]
  },
  {
   "cell_type": "code",
   "execution_count": 60,
   "metadata": {},
   "outputs": [
    {
     "name": "stdout",
     "output_type": "stream",
     "text": [
      "{   'object': {   'created_at': '2023-09-30T14:14:08.045Z',\n",
      "                  'id': 'FX3EJWXWG54ANMM32CNQDT3O',\n",
      "                  'is_deleted': False,\n",
      "                  'item_data': {   'abbreviation': 'DRDOLL',\n",
      "                                   'description': 'something we want vertex ai '\n",
      "                                                  'to generate',\n",
      "                                   'description_html': '<p>something we want '\n",
      "                                                       'vertex ai to '\n",
      "                                                       'generate</p>',\n",
      "                                   'description_plaintext': 'something we want '\n",
      "                                                            'vertex ai to '\n",
      "                                                            'generate',\n",
      "                                   'ecom_available': True,\n",
      "                                   'ecom_image_uris': [   'https://rtp-gcp-usergroup.square.site/uploads/1/4/7/0/147028449/s933423469753632432_p24_i1_w970.jpeg'],\n",
      "                                   'ecom_uri': 'https://rtp-gcp-usergroup.square.site/product/dr-doom-doll/24',\n",
      "                                   'ecom_visibility': 'VISIBLE',\n",
      "                                   'image_ids': ['XHO4G4GX6WF7R4KLESOMXZFA'],\n",
      "                                   'is_archived': False,\n",
      "                                   'is_taxable': True,\n",
      "                                   'name': 'Dr Doom Doll',\n",
      "                                   'product_type': 'REGULAR',\n",
      "                                   'variations': [   {   'created_at': '2023-09-30T14:14:08.045Z',\n",
      "                                                         'id': 'MWN7S42X45UBZPPVPFWJ4PYJ',\n",
      "                                                         'is_deleted': False,\n",
      "                                                         'item_variation_data': {   'item_id': 'FX3EJWXWG54ANMM32CNQDT3O',\n",
      "                                                                                    'name': '6 '\n",
      "                                                                                            'inch '\n",
      "                                                                                            'poseable '\n",
      "                                                                                            'figure',\n",
      "                                                                                    'ordinal': 0,\n",
      "                                                                                    'price_money': {   'amount': 350,\n",
      "                                                                                                       'currency': 'USD'},\n",
      "                                                                                    'pricing_type': 'FIXED_PRICING',\n",
      "                                                                                    'sellable': True,\n",
      "                                                                                    'stockable': True},\n",
      "                                                         'present_at_all_locations': True,\n",
      "                                                         'type': 'ITEM_VARIATION',\n",
      "                                                         'updated_at': '2023-09-30T14:14:08.045Z',\n",
      "                                                         'version': 1696083248045}]},\n",
      "                  'present_at_all_locations': True,\n",
      "                  'type': 'ITEM',\n",
      "                  'updated_at': '2023-09-30T14:14:50.836Z',\n",
      "                  'version': 1696083290836}}\n"
     ]
    }
   ],
   "source": [
    "pp.pprint(result.body)"
   ]
  },
  {
   "cell_type": "code",
   "execution_count": null,
   "metadata": {},
   "outputs": [],
   "source": []
  },
  {
   "cell_type": "markdown",
   "metadata": {},
   "source": [
    "# update the inventory count (This is a required api usage for the hackathon)\n",
    "\n",
    "This will update the current count.  It is not an adjustment.\n",
    "\n",
    "Example: if you currently have 10 items, you use this call to specify 15 items, afterwards inventory is 15 items.\n",
    "There is another call which is \"inventory adjustment\" that will increase/decrease the inventory account \n",
    "by the specified amount.  For this reason, simply use the api to specify a count."
   ]
  },
  {
   "cell_type": "code",
   "execution_count": 204,
   "metadata": {},
   "outputs": [
    {
     "name": "stdout",
     "output_type": "stream",
     "text": [
      "action figure cat id:  7Z2R6MUWTYFGQ3K5PF7NL2WZ\n",
      "dr doom var id:  FM7JRSIOFQ3D3BZGKM7BJZQG\n",
      "nick fury var id:  2MD7GTL3C6H2KNWUNDJWKRJQ\n"
     ]
    }
   ],
   "source": [
    "# Save off this variation id so we can use to update inventory\n",
    "\n",
    "# print the id's of interest\n",
    "print(\"action figure cat id: \", cat_obj_item_id)\n",
    "print(\"dr doom var id: \", dr_doom_variation_id)\n",
    "print(\"nick fury var id: \", nick_fury_variation_id)\n"
   ]
  },
  {
   "cell_type": "markdown",
   "metadata": {},
   "source": [
    "# update inventory for Dr Doom Variation "
   ]
  },
  {
   "cell_type": "code",
   "execution_count": 205,
   "metadata": {},
   "outputs": [
    {
     "name": "stdout",
     "output_type": "stream",
     "text": [
      "results:\n",
      "<ApiResponse {\"counts\":[{\"catalog_object_id\":\"FM7JRSIOFQ3D3BZGKM7BJZQG\",\"catalog_object_type\":\"ITEM_VARIATION\",\"state\":\"IN_STOCK\",\"location_id\":\"LZBNSDTSHAMM8\",\"quantity\":\"10\",\"calculated_at\":\"2023-10-01T15:56:37.452Z\"}]}>\n",
      "success\n",
      "{'counts': [{'catalog_object_id': 'FM7JRSIOFQ3D3BZGKM7BJZQG', 'catalog_object_type': 'ITEM_VARIATION', 'state': 'IN_STOCK', 'location_id': 'LZBNSDTSHAMM8', 'quantity': '10', 'calculated_at': '2023-10-01T15:56:37.452Z'}]}\n"
     ]
    }
   ],
   "source": [
    "# create a key\n",
    "uniq_uuid = uuid.uuid4()\n",
    "#print(\"uniq_uuid: \", uniq_uuid)\n",
    "\n",
    "# constants between inventory updates\n",
    "online_store_loc_id = \"LZBNSDTSHAMM8\"\n",
    "quantity_update_number = \"10\"  # assume we want to specify a particular count, not adj by this amount.\n",
    "\n",
    "# get current timestamp as ISO8601 yyyy-mm-ddThr:min:sec.sssZ\n",
    "current_time = datetime.datetime.now().isoformat(timespec='seconds')\n",
    "current_time = current_time + 'Z'\n",
    "time_of_received_inventory = current_time\n",
    "\n",
    "\n",
    "# Dr doom Inventory\n",
    "variation_id = dr_doom_variation_id\n",
    "\n",
    "result = sq_client.inventory.batch_change_inventory(\n",
    "  body = {\n",
    "    \"idempotency_key\": str(uniq_uuid),\n",
    "    \"changes\": [\n",
    "      {\n",
    "        \"type\": \"PHYSICAL_COUNT\",\n",
    "        \"physical_count\": {\n",
    "          \"catalog_object_id\": variation_id,\n",
    "          \"state\": \"IN_STOCK\",\n",
    "          \"location_id\": online_store_loc_id,\n",
    "          \"quantity\": quantity_update_number,\n",
    "          \"occurred_at\": time_of_received_inventory\n",
    "        }\n",
    "      }\n",
    "    ]\n",
    "  }\n",
    ")\n",
    "\n",
    "# If the existing count is 15, and the update is to have\n",
    "# 15, then the results will be {}.\n",
    "#\n",
    "# If the existing count is 10 and the update is 15,\n",
    "# then the results will have some json\n",
    "\n",
    "print(\"results:\")\n",
    "print(result)\n",
    "if result.is_success():\n",
    "  print(\"success\")\n",
    "  print(result.body)\n",
    "elif result.is_error():\n",
    "  print(\"failure\")\n",
    "  print(result.errors)"
   ]
  },
  {
   "cell_type": "markdown",
   "metadata": {},
   "source": [
    "# update nick fury variation inventory count"
   ]
  },
  {
   "cell_type": "code",
   "execution_count": 206,
   "metadata": {},
   "outputs": [
    {
     "name": "stdout",
     "output_type": "stream",
     "text": [
      "results:\n",
      "<ApiResponse {\"counts\":[{\"catalog_object_id\":\"2MD7GTL3C6H2KNWUNDJWKRJQ\",\"catalog_object_type\":\"ITEM_VARIATION\",\"state\":\"IN_STOCK\",\"location_id\":\"LZBNSDTSHAMM8\",\"quantity\":\"5\",\"calculated_at\":\"2023-10-01T15:58:11.68Z\"}]}>\n",
      "success\n",
      "{'counts': [{'catalog_object_id': '2MD7GTL3C6H2KNWUNDJWKRJQ', 'catalog_object_type': 'ITEM_VARIATION', 'state': 'IN_STOCK', 'location_id': 'LZBNSDTSHAMM8', 'quantity': '5', 'calculated_at': '2023-10-01T15:58:11.68Z'}]}\n"
     ]
    }
   ],
   "source": [
    "# create a key\n",
    "uniq_uuid = uuid.uuid4()\n",
    "#print(\"uniq_uuid: \", uniq_uuid)\n",
    "\n",
    "# constants between inventory updates\n",
    "online_store_loc_id = \"LZBNSDTSHAMM8\"\n",
    "quantity_update_number = \"5\"  # assume we want to specify a particular count, not adj by this amount.\n",
    "\n",
    "# get current timestamp as ISO8601 yyyy-mm-ddThr:min:sec.sssZ\n",
    "current_time = datetime.datetime.now().isoformat(timespec='seconds')\n",
    "current_time = current_time + 'Z'\n",
    "time_of_received_inventory = current_time\n",
    "\n",
    "\n",
    "# Nick Fury Inventory\n",
    "variation_id = nick_fury_variation_id\n",
    "\n",
    "result = sq_client.inventory.batch_change_inventory(\n",
    "  body = {\n",
    "    \"idempotency_key\": str(uniq_uuid),\n",
    "    \"changes\": [\n",
    "      {\n",
    "        \"type\": \"PHYSICAL_COUNT\",\n",
    "        \"physical_count\": {\n",
    "          \"catalog_object_id\": variation_id,\n",
    "          \"state\": \"IN_STOCK\",\n",
    "          \"location_id\": online_store_loc_id,\n",
    "          \"quantity\": quantity_update_number,\n",
    "          \"occurred_at\": time_of_received_inventory\n",
    "        }\n",
    "      }\n",
    "    ]\n",
    "  }\n",
    ")\n",
    "\n",
    "# If the existing count is 15, and the update is to have\n",
    "# 15, then the results will be {}.\n",
    "#\n",
    "# If the existing count is 10 and the update is 15,\n",
    "# then the results will have some json\n",
    "\n",
    "print(\"results:\")\n",
    "print(result)\n",
    "if result.is_success():\n",
    "  print(\"success\")\n",
    "  print(result.body)\n",
    "elif result.is_error():\n",
    "  print(\"failure\")\n",
    "  print(result.errors)"
   ]
  },
  {
   "cell_type": "code",
   "execution_count": null,
   "metadata": {},
   "outputs": [],
   "source": []
  },
  {
   "cell_type": "code",
   "execution_count": null,
   "metadata": {},
   "outputs": [],
   "source": []
  },
  {
   "cell_type": "code",
   "execution_count": null,
   "metadata": {},
   "outputs": [],
   "source": []
  },
  {
   "cell_type": "code",
   "execution_count": null,
   "metadata": {},
   "outputs": [],
   "source": []
  },
  {
   "cell_type": "markdown",
   "metadata": {},
   "source": [
    "## Delete a catalog object item\n",
    "\n",
    "`DONT RUN UNLESS YOU WANT TO RECREATE THE ITEM`"
   ]
  },
  {
   "cell_type": "code",
   "execution_count": 19,
   "metadata": {},
   "outputs": [
    {
     "name": "stdout",
     "output_type": "stream",
     "text": [
      "{'deleted_object_ids': ['45KACZNXRA7PM32CAGXGRZA4', 'S5IJI4PUFA5VTB2Y6NDZ6HQV'], 'deleted_at': '2023-09-30T13:12:08.572Z'}\n"
     ]
    }
   ],
   "source": [
    "delete_id = \"S5IJI4PUFA5VTB2Y6NDZ6HQV\"\n",
    "result = sq_client.catalog.delete_catalog_object(\n",
    "  object_id = delete_id\n",
    ")\n",
    "\n",
    "if result.is_success():\n",
    "  print(result.body)\n",
    "elif result.is_error():\n",
    "  print(result.errors)"
   ]
  },
  {
   "cell_type": "code",
   "execution_count": null,
   "metadata": {},
   "outputs": [],
   "source": []
  }
 ],
 "metadata": {
  "kernelspec": {
   "display_name": "myenv",
   "language": "python",
   "name": "python3"
  },
  "language_info": {
   "codemirror_mode": {
    "name": "ipython",
    "version": 3
   },
   "file_extension": ".py",
   "mimetype": "text/x-python",
   "name": "python",
   "nbconvert_exporter": "python",
   "pygments_lexer": "ipython3",
   "version": "3.10.8"
  },
  "orig_nbformat": 4
 },
 "nbformat": 4,
 "nbformat_minor": 2
}
