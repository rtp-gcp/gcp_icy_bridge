{
 "cells": [
  {
   "cell_type": "markdown",
   "metadata": {},
   "source": [
    "# Example to use vertex AI\n",
    "This uses this [repo/file](https://github.com/GoogleCloudPlatform/generative-ai/blob/main/language/prompts/intro_prompt_design.ipynb) to test our service account.  The service account is built using `setupgcp.sh`.  The venv environment usage is described in the README.md to install the necessary libs.\n"
   ]
  },
  {
   "cell_type": "code",
   "execution_count": 1,
   "metadata": {},
   "outputs": [],
   "source": [
    "# Import the os package\n",
    "import os"
   ]
  },
  {
   "cell_type": "code",
   "execution_count": 1,
   "metadata": {},
   "outputs": [
    {
     "ename": "ModuleNotFoundError",
     "evalue": "No module named 'dotenv'",
     "output_type": "error",
     "traceback": [
      "\u001b[0;31m---------------------------------------------------------------------------\u001b[0m",
      "\u001b[0;31mModuleNotFoundError\u001b[0m                       Traceback (most recent call last)",
      "\u001b[1;32m/workspaces/gcp_icy_bridge/genai/notebooks/gcp.ipynb Cell 3\u001b[0m line \u001b[0;36m2\n\u001b[1;32m      <a href='vscode-notebook-cell://codespaces%2Burban-orbit-655wvvpvwjfrqxg/workspaces/gcp_icy_bridge/genai/notebooks/gcp.ipynb#W2sdnNjb2RlLXJlbW90ZQ%3D%3D?line=0'>1</a>\u001b[0m \u001b[39m# import the dotenv package\u001b[39;00m\n\u001b[0;32m----> <a href='vscode-notebook-cell://codespaces%2Burban-orbit-655wvvpvwjfrqxg/workspaces/gcp_icy_bridge/genai/notebooks/gcp.ipynb#W2sdnNjb2RlLXJlbW90ZQ%3D%3D?line=1'>2</a>\u001b[0m \u001b[39mfrom\u001b[39;00m \u001b[39mdotenv\u001b[39;00m \u001b[39mimport\u001b[39;00m load_dotenv\n\u001b[1;32m      <a href='vscode-notebook-cell://codespaces%2Burban-orbit-655wvvpvwjfrqxg/workspaces/gcp_icy_bridge/genai/notebooks/gcp.ipynb#W2sdnNjb2RlLXJlbW90ZQ%3D%3D?line=2'>3</a>\u001b[0m \u001b[39m# Get the current working directory\u001b[39;00m\n\u001b[1;32m      <a href='vscode-notebook-cell://codespaces%2Burban-orbit-655wvvpvwjfrqxg/workspaces/gcp_icy_bridge/genai/notebooks/gcp.ipynb#W2sdnNjb2RlLXJlbW90ZQ%3D%3D?line=3'>4</a>\u001b[0m cwd \u001b[39m=\u001b[39m os\u001b[39m.\u001b[39mgetcwd()\n",
      "\u001b[0;31mModuleNotFoundError\u001b[0m: No module named 'dotenv'"
     ]
    }
   ],
   "source": [
    "# import the dotenv package\n",
    "from dotenv import load_dotenv\n",
    "# Get the current working directory\n",
    "cwd = os.getcwd()\n",
    "\n",
    "# Construct the .env file path\n",
    "env_path = os.path.join(cwd, '.env')\n",
    "\n",
    "# Load the .env file\n",
    "load_dotenv(dotenv_path=env_path)"
   ]
  },
  {
   "cell_type": "code",
   "execution_count": 5,
   "metadata": {},
   "outputs": [
    {
     "ename": "KeyError",
     "evalue": "'GCP_PROJ_ID'",
     "output_type": "error",
     "traceback": [
      "\u001b[0;31m---------------------------------------------------------------------------\u001b[0m",
      "\u001b[0;31mKeyError\u001b[0m                                  Traceback (most recent call last)",
      "\u001b[1;32m/workspaces/gcp_icy_bridge/genai/notebooks/gcp.ipynb Cell 4\u001b[0m line \u001b[0;36m3\n\u001b[1;32m      <a href='vscode-notebook-cell://codespaces%2Burban-orbit-655wvvpvwjfrqxg/workspaces/gcp_icy_bridge/genai/notebooks/gcp.ipynb#W3sdnNjb2RlLXJlbW90ZQ%3D%3D?line=0'>1</a>\u001b[0m \u001b[39m#import vertexai\u001b[39;00m\n\u001b[0;32m----> <a href='vscode-notebook-cell://codespaces%2Burban-orbit-655wvvpvwjfrqxg/workspaces/gcp_icy_bridge/genai/notebooks/gcp.ipynb#W3sdnNjb2RlLXJlbW90ZQ%3D%3D?line=2'>3</a>\u001b[0m PROJECT_ID \u001b[39m=\u001b[39m os\u001b[39m.\u001b[39;49menviron[\u001b[39m'\u001b[39;49m\u001b[39mGCP_PROJ_ID\u001b[39;49m\u001b[39m'\u001b[39;49m]  \u001b[39m# @param {type:\"string\"}\u001b[39;00m\n\u001b[1;32m      <a href='vscode-notebook-cell://codespaces%2Burban-orbit-655wvvpvwjfrqxg/workspaces/gcp_icy_bridge/genai/notebooks/gcp.ipynb#W3sdnNjb2RlLXJlbW90ZQ%3D%3D?line=3'>4</a>\u001b[0m \u001b[39m# Notice the project name is uppercase. However, the project ID is lowercase\u001b[39;00m\n\u001b[1;32m      <a href='vscode-notebook-cell://codespaces%2Burban-orbit-655wvvpvwjfrqxg/workspaces/gcp_icy_bridge/genai/notebooks/gcp.ipynb#W3sdnNjb2RlLXJlbW90ZQ%3D%3D?line=4'>5</a>\u001b[0m \u001b[39mprint\u001b[39m(PROJECT_ID)\n",
      "File \u001b[0;32m~/.python/current/lib/python3.10/os.py:680\u001b[0m, in \u001b[0;36m_Environ.__getitem__\u001b[0;34m(self, key)\u001b[0m\n\u001b[1;32m    677\u001b[0m     value \u001b[39m=\u001b[39m \u001b[39mself\u001b[39m\u001b[39m.\u001b[39m_data[\u001b[39mself\u001b[39m\u001b[39m.\u001b[39mencodekey(key)]\n\u001b[1;32m    678\u001b[0m \u001b[39mexcept\u001b[39;00m \u001b[39mKeyError\u001b[39;00m:\n\u001b[1;32m    679\u001b[0m     \u001b[39m# raise KeyError with the original key value\u001b[39;00m\n\u001b[0;32m--> 680\u001b[0m     \u001b[39mraise\u001b[39;00m \u001b[39mKeyError\u001b[39;00m(key) \u001b[39mfrom\u001b[39;00m \u001b[39mNone\u001b[39;00m\n\u001b[1;32m    681\u001b[0m \u001b[39mreturn\u001b[39;00m \u001b[39mself\u001b[39m\u001b[39m.\u001b[39mdecodevalue(value)\n",
      "\u001b[0;31mKeyError\u001b[0m: 'GCP_PROJ_ID'"
     ]
    }
   ],
   "source": [
    "#import vertexai\n",
    "\n",
    "PROJECT_ID = os.environ['GCP_PROJ_ID']  # @param {type:\"string\"}\n",
    "# Notice the project name is uppercase. However, the project ID is lowercase\n",
    "print(PROJECT_ID)\n",
    "# staging_bucket='jams_bucket')\n",
    "#vertexai.init(project=PROJECT_ID, \n",
    "#              location=\"us-central1\")\n",
    "              "
   ]
  },
  {
   "cell_type": "code",
   "execution_count": 8,
   "metadata": {},
   "outputs": [],
   "source": [
    "import json\n",
    "    \n",
    "from google.cloud import storage\n",
    "from google.oauth2 import service_account\n",
    "    \n",
    "\n",
    "# Test to see that environment can find the app credentials.\n",
    "# DO NOT COMMIT TO GIT WITH THIS CELL RUN AS A PRINT    \n",
    "# DO NOT COMMIT TO GIT WITH THIS CELL RUN AS A PRINT    \n",
    "# DO NOT COMMIT TO GIT WITH THIS CELL RUN AS A PRINT    \n",
    "# DO NOT COMMIT TO GIT WITH THIS CELL RUN AS A PRINT    \n",
    "with open(os.environ['GOOGLE_APPLICATION_CREDENTIALS'], 'r') as source:\n",
    "    info = json.load(source)\n",
    "\n",
    "#with open(os.environ['GOOGLE_APPLICATION_CREDENTIALS'], 'r') as f:\n",
    "#    contents = f.read()\n",
    "#    info = json.load(f)\n",
    "#    print(contents)\n",
    "\n",
    "credentials = service_account.Credentials.from_service_account_info(info)\n",
    "    \n",
    "storage_client = storage.Client(project=PROJECT_ID, credentials=credentials)"
   ]
  },
  {
   "cell_type": "code",
   "execution_count": 9,
   "metadata": {},
   "outputs": [
    {
     "name": "stdout",
     "output_type": "stream",
     "text": [
      "jams-devpost\n"
     ]
    }
   ],
   "source": [
    "from google.cloud import aiplatform\n",
    "\n",
    "PROJECT_ID = os.environ['GCP_PROJ_ID']  # @param {type:\"string\"}\n",
    "# Notice the project name is uppercase. However, the project ID is lowercase\n",
    "print(PROJECT_ID)\n",
    "# staging_bucket='jams_bucket')\n",
    "aiplatform.init(project=PROJECT_ID, \n",
    "              location=\"us-central1\",\n",
    "              credentials=credentials)\n",
    "          "
   ]
  },
  {
   "cell_type": "code",
   "execution_count": 10,
   "metadata": {},
   "outputs": [
    {
     "name": "stdout",
     "output_type": "stream",
     "text": [
      "Creating TabularDataset\n",
      "Create TabularDataset backing LRO: projects/141442124690/locations/us-central1/datasets/7552221015263150080/operations/77122700509708288\n",
      "TabularDataset created. Resource name: projects/141442124690/locations/us-central1/datasets/7552221015263150080\n",
      "To use this TabularDataset in another session:\n",
      "ds = aiplatform.TabularDataset('projects/141442124690/locations/us-central1/datasets/7552221015263150080')\n"
     ]
    }
   ],
   "source": [
    "my_dataset = aiplatform.TabularDataset.create(display_name=\"my-dataset\", gcs_source=['gs://jams_devpost_bk/foo.csv'])"
   ]
  },
  {
   "cell_type": "code",
   "execution_count": 11,
   "metadata": {},
   "outputs": [
    {
     "name": "stdout",
     "output_type": "stream",
     "text": [
      "cloudpickle is not installed. Please call `pip install google-cloud-aiplatform[preview]`.\n"
     ]
    }
   ],
   "source": [
    "# test the gcp vertex AI\n",
    "from vertexai.language_models import TextGenerationModel\n"
   ]
  },
  {
   "cell_type": "code",
   "execution_count": 12,
   "metadata": {},
   "outputs": [],
   "source": [
    "# load the model\n",
    "generation_model = TextGenerationModel.from_pretrained(\"text-bison@001\")\n"
   ]
  },
  {
   "cell_type": "code",
   "execution_count": 13,
   "metadata": {},
   "outputs": [
    {
     "name": "stdout",
     "output_type": "stream",
     "text": [
      "* **Earth is the only planet known to support life.** This is due to a number of factors, including its distance from the sun, its atmosphere, and its water.\n",
      "* **Earth has a large moon.** The moon is thought to have played a role in the development of life on Earth, by stabilizing the planet's rotation and providing a source of tides.\n",
      "* **Earth has a relatively thin atmosphere.** This atmosphere is made up of nitrogen, oxygen, and argon, and it protects the planet from harmful radiation from the sun.\n",
      "* **Earth has a large amount of water.** Water is essential for life, and it covers about 70% of the Earth's surface.\n",
      "* **Earth has a variety of landforms.** These landforms include mountains, valleys, plains, and deserts. They provide a variety of habitats for life.\n",
      "* **Earth has a variety of climate zones.** These climate zones range from the frigid Arctic to the hot tropics. They support a wide variety of plant and animal life.\n",
      "\n",
      "These are just a few of the ways that make Earth unique compared to other planets. Earth is a truly special planet, and it is home to a vast and diverse array of life\n"
     ]
    }
   ],
   "source": [
    "# test the query\n",
    "prompt = \"Generate a list of ways that makes Earth unique compared to other planets\"\n",
    "\n",
    "print(generation_model.predict(prompt=prompt, max_output_tokens=256).text)"
   ]
  },
  {
   "cell_type": "markdown",
   "metadata": {},
   "source": []
  }
 ],
 "metadata": {
  "kernelspec": {
   "display_name": "myenv",
   "language": "python",
   "name": "python3"
  },
  "language_info": {
   "codemirror_mode": {
    "name": "ipython",
    "version": 3
   },
   "file_extension": ".py",
   "mimetype": "text/x-python",
   "name": "python",
   "nbconvert_exporter": "python",
   "pygments_lexer": "ipython3",
   "version": "3.10.8"
  },
  "orig_nbformat": 4
 },
 "nbformat": 4,
 "nbformat_minor": 2
}
