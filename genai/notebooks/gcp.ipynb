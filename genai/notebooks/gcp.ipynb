{
 "cells": [
  {
   "cell_type": "code",
   "execution_count": 13,
   "metadata": {},
   "outputs": [],
   "source": [
    "# Import the os package\n",
    "import os"
   ]
  },
  {
   "cell_type": "code",
   "execution_count": null,
   "metadata": {},
   "outputs": [],
   "source": [
    "# import the dotenv package\n",
    "from dotenv import load_dotenv\n",
    "# Get the current working directory\n",
    "cwd = os.getcwd()\n",
    "\n",
    "# Construct the .env file path\n",
    "env_path = os.path.join(cwd, '.env')\n",
    "\n",
    "# Load the .env file\n",
    "load_dotenv(dotenv_path=env_path)"
   ]
  },
  {
   "cell_type": "code",
   "execution_count": 14,
   "metadata": {},
   "outputs": [
    {
     "name": "stdout",
     "output_type": "stream",
     "text": [
      "jams-devpost\n"
     ]
    }
   ],
   "source": [
    "#import vertexai\n",
    "\n",
    "PROJECT_ID = os.environ['GCP_PROJ_ID']  # @param {type:\"string\"}\n",
    "# Notice the project name is uppercase. However, the project ID is lowercase\n",
    "print(PROJECT_ID)\n",
    "# staging_bucket='jams_bucket')\n",
    "#vertexai.init(project=PROJECT_ID, \n",
    "#              location=\"us-central1\")\n",
    "              "
   ]
  },
  {
   "cell_type": "code",
   "execution_count": 23,
   "metadata": {},
   "outputs": [
    {
     "ename": "MalformedError",
     "evalue": "Service account info was not in the expected format, missing fields client_email, token_uri.",
     "output_type": "error",
     "traceback": [
      "\u001b[0;31m---------------------------------------------------------------------------\u001b[0m",
      "\u001b[0;31mMalformedError\u001b[0m                            Traceback (most recent call last)",
      "Cell \u001b[0;32mIn[23], line 16\u001b[0m\n\u001b[1;32m     13\u001b[0m     info \u001b[39m=\u001b[39m json\u001b[39m.\u001b[39mload(f)\n\u001b[1;32m     14\u001b[0m     \u001b[39m#print(contents)\u001b[39;00m\n\u001b[0;32m---> 16\u001b[0m storage_credentials \u001b[39m=\u001b[39m service_account\u001b[39m.\u001b[39;49mCredentials\u001b[39m.\u001b[39;49mfrom_service_account_info(info)\n\u001b[1;32m     18\u001b[0m storage_client \u001b[39m=\u001b[39m storage\u001b[39m.\u001b[39mClient(project\u001b[39m=\u001b[39mproject_id, credentials\u001b[39m=\u001b[39mstorage_credentials)\n",
      "File \u001b[0;32m/workspaces/gcp_icy_bridge/genai/notebooks/myenv/lib/python3.10/site-packages/google/oauth2/service_account.py:243\u001b[0m, in \u001b[0;36mCredentials.from_service_account_info\u001b[0;34m(cls, info, **kwargs)\u001b[0m\n\u001b[1;32m    227\u001b[0m \u001b[39m@classmethod\u001b[39m\n\u001b[1;32m    228\u001b[0m \u001b[39mdef\u001b[39;00m \u001b[39mfrom_service_account_info\u001b[39m(\u001b[39mcls\u001b[39m, info, \u001b[39m*\u001b[39m\u001b[39m*\u001b[39mkwargs):\n\u001b[1;32m    229\u001b[0m \u001b[39m    \u001b[39m\u001b[39m\"\"\"Creates a Credentials instance from parsed service account info.\u001b[39;00m\n\u001b[1;32m    230\u001b[0m \n\u001b[1;32m    231\u001b[0m \u001b[39m    Args:\u001b[39;00m\n\u001b[0;32m   (...)\u001b[0m\n\u001b[1;32m    241\u001b[0m \u001b[39m        ValueError: If the info is not in the expected format.\u001b[39;00m\n\u001b[1;32m    242\u001b[0m \u001b[39m    \"\"\"\u001b[39;00m\n\u001b[0;32m--> 243\u001b[0m     signer \u001b[39m=\u001b[39m _service_account_info\u001b[39m.\u001b[39;49mfrom_dict(\n\u001b[1;32m    244\u001b[0m         info, require\u001b[39m=\u001b[39;49m[\u001b[39m\"\u001b[39;49m\u001b[39mclient_email\u001b[39;49m\u001b[39m\"\u001b[39;49m, \u001b[39m\"\u001b[39;49m\u001b[39mtoken_uri\u001b[39;49m\u001b[39m\"\u001b[39;49m]\n\u001b[1;32m    245\u001b[0m     )\n\u001b[1;32m    246\u001b[0m     \u001b[39mreturn\u001b[39;00m \u001b[39mcls\u001b[39m\u001b[39m.\u001b[39m_from_signer_and_info(signer, info, \u001b[39m*\u001b[39m\u001b[39m*\u001b[39mkwargs)\n",
      "File \u001b[0;32m/workspaces/gcp_icy_bridge/genai/notebooks/myenv/lib/python3.10/site-packages/google/auth/_service_account_info.py:52\u001b[0m, in \u001b[0;36mfrom_dict\u001b[0;34m(data, require, use_rsa_signer)\u001b[0m\n\u001b[1;32m     49\u001b[0m missing \u001b[39m=\u001b[39m keys_needed\u001b[39m.\u001b[39mdifference(six\u001b[39m.\u001b[39miterkeys(data))\n\u001b[1;32m     51\u001b[0m \u001b[39mif\u001b[39;00m missing:\n\u001b[0;32m---> 52\u001b[0m     \u001b[39mraise\u001b[39;00m exceptions\u001b[39m.\u001b[39mMalformedError(\n\u001b[1;32m     53\u001b[0m         \u001b[39m\"\u001b[39m\u001b[39mService account info was not in the expected format, missing \u001b[39m\u001b[39m\"\u001b[39m\n\u001b[1;32m     54\u001b[0m         \u001b[39m\"\u001b[39m\u001b[39mfields \u001b[39m\u001b[39m{}\u001b[39;00m\u001b[39m.\u001b[39m\u001b[39m\"\u001b[39m\u001b[39m.\u001b[39mformat(\u001b[39m\"\u001b[39m\u001b[39m, \u001b[39m\u001b[39m\"\u001b[39m\u001b[39m.\u001b[39mjoin(missing))\n\u001b[1;32m     55\u001b[0m     )\n\u001b[1;32m     57\u001b[0m \u001b[39m# Create a signer.\u001b[39;00m\n\u001b[1;32m     58\u001b[0m \u001b[39mif\u001b[39;00m use_rsa_signer:\n",
      "\u001b[0;31mMalformedError\u001b[0m: Service account info was not in the expected format, missing fields client_email, token_uri."
     ]
    }
   ],
   "source": [
    "import json\n",
    "    \n",
    "from google.cloud import storage\n",
    "from google.oauth2 import service_account\n",
    "    \n",
    "project_id = 'jams-devpost'\n",
    "    \n",
    "#with open('/path/to/my/service_keys/storage_service.json') as source:\n",
    "#    info = json.load(source)\n",
    "\n",
    "with open(os.environ['GOOGLE_APPLICATION_CREDENTIALS'], 'r') as f:\n",
    "    #contents = f.read()\n",
    "    info = json.load(f)\n",
    "    #print(contents)\n",
    "\n",
    "storage_credentials = service_account.Credentials.from_service_account_info(info)\n",
    "    \n",
    "storage_client = storage.Client(project=project_id, credentials=storage_credentials)"
   ]
  },
  {
   "cell_type": "code",
   "execution_count": 20,
   "metadata": {},
   "outputs": [
    {
     "name": "stdout",
     "output_type": "stream",
     "text": [
      "jams-devpost\n"
     ]
    }
   ],
   "source": [
    "from google.cloud import aiplatform\n",
    "\n",
    "PROJECT_ID = os.environ['GCP_PROJ_ID']  # @param {type:\"string\"}\n",
    "# Notice the project name is uppercase. However, the project ID is lowercase\n",
    "print(PROJECT_ID)\n",
    "# staging_bucket='jams_bucket')\n",
    "aiplatform.init(project=PROJECT_ID, \n",
    "              location=\"us-central1\",\n",
    "              credentials=)\n",
    "          "
   ]
  },
  {
   "cell_type": "code",
   "execution_count": 22,
   "metadata": {},
   "outputs": [
    {
     "ename": "ServiceUnavailable",
     "evalue": "503 Getting metadata from plugin failed with error: ('Unable to acquire impersonated credentials', '{\\n  \"error\": {\\n    \"code\": 403,\\n    \"message\": \"Permission \\'iam.serviceAccounts.getAccessToken\\' denied on resource (or it may not exist).\",\\n    \"status\": \"PERMISSION_DENIED\",\\n    \"details\": [\\n      {\\n        \"@type\": \"type.googleapis.com/google.rpc.ErrorInfo\",\\n        \"reason\": \"IAM_PERMISSION_DENIED\",\\n        \"domain\": \"iam.googleapis.com\",\\n        \"metadata\": {\\n          \"permission\": \"iam.serviceAccounts.getAccessToken\"\\n        }\\n      }\\n    ]\\n  }\\n}\\n')",
     "output_type": "error",
     "traceback": [
      "\u001b[0;31m---------------------------------------------------------------------------\u001b[0m",
      "\u001b[0;31m_InactiveRpcError\u001b[0m                         Traceback (most recent call last)",
      "File \u001b[0;32m/workspaces/gcp_icy_bridge/genai/notebooks/myenv/lib/python3.10/site-packages/google/api_core/grpc_helpers.py:72\u001b[0m, in \u001b[0;36m_wrap_unary_errors.<locals>.error_remapped_callable\u001b[0;34m(*args, **kwargs)\u001b[0m\n\u001b[1;32m     71\u001b[0m \u001b[39mtry\u001b[39;00m:\n\u001b[0;32m---> 72\u001b[0m     \u001b[39mreturn\u001b[39;00m callable_(\u001b[39m*\u001b[39;49margs, \u001b[39m*\u001b[39;49m\u001b[39m*\u001b[39;49mkwargs)\n\u001b[1;32m     73\u001b[0m \u001b[39mexcept\u001b[39;00m grpc\u001b[39m.\u001b[39mRpcError \u001b[39mas\u001b[39;00m exc:\n",
      "File \u001b[0;32m/workspaces/gcp_icy_bridge/genai/notebooks/myenv/lib/python3.10/site-packages/grpc/_channel.py:1161\u001b[0m, in \u001b[0;36m_UnaryUnaryMultiCallable.__call__\u001b[0;34m(self, request, timeout, metadata, credentials, wait_for_ready, compression)\u001b[0m\n\u001b[1;32m   1155\u001b[0m (\n\u001b[1;32m   1156\u001b[0m     state,\n\u001b[1;32m   1157\u001b[0m     call,\n\u001b[1;32m   1158\u001b[0m ) \u001b[39m=\u001b[39m \u001b[39mself\u001b[39m\u001b[39m.\u001b[39m_blocking(\n\u001b[1;32m   1159\u001b[0m     request, timeout, metadata, credentials, wait_for_ready, compression\n\u001b[1;32m   1160\u001b[0m )\n\u001b[0;32m-> 1161\u001b[0m \u001b[39mreturn\u001b[39;00m _end_unary_response_blocking(state, call, \u001b[39mFalse\u001b[39;49;00m, \u001b[39mNone\u001b[39;49;00m)\n",
      "File \u001b[0;32m/workspaces/gcp_icy_bridge/genai/notebooks/myenv/lib/python3.10/site-packages/grpc/_channel.py:1004\u001b[0m, in \u001b[0;36m_end_unary_response_blocking\u001b[0;34m(state, call, with_call, deadline)\u001b[0m\n\u001b[1;32m   1003\u001b[0m \u001b[39melse\u001b[39;00m:\n\u001b[0;32m-> 1004\u001b[0m     \u001b[39mraise\u001b[39;00m _InactiveRpcError(state)\n",
      "\u001b[0;31m_InactiveRpcError\u001b[0m: <_InactiveRpcError of RPC that terminated with:\n\tstatus = StatusCode.UNAVAILABLE\n\tdetails = \"Getting metadata from plugin failed with error: ('Unable to acquire impersonated credentials', '{\\n  \"error\": {\\n    \"code\": 403,\\n    \"message\": \"Permission \\'iam.serviceAccounts.getAccessToken\\' denied on resource (or it may not exist).\",\\n    \"status\": \"PERMISSION_DENIED\",\\n    \"details\": [\\n      {\\n        \"@type\": \"type.googleapis.com/google.rpc.ErrorInfo\",\\n        \"reason\": \"IAM_PERMISSION_DENIED\",\\n        \"domain\": \"iam.googleapis.com\",\\n        \"metadata\": {\\n          \"permission\": \"iam.serviceAccounts.getAccessToken\"\\n        }\\n      }\\n    ]\\n  }\\n}\\n')\"\n\tdebug_error_string = \"UNKNOWN:Error received from peer  {created_time:\"2023-09-03T15:32:52.305722775+00:00\", grpc_status:14, grpc_message:\"Getting metadata from plugin failed with error: (\\'Unable to acquire impersonated credentials\\', \\'{\\\\n  \\\"error\\\": {\\\\n    \\\"code\\\": 403,\\\\n    \\\"message\\\": \\\"Permission \\\\\\'iam.serviceAccounts.getAccessToken\\\\\\' denied on resource (or it may not exist).\\\",\\\\n    \\\"status\\\": \\\"PERMISSION_DENIED\\\",\\\\n    \\\"details\\\": [\\\\n      {\\\\n        \\\"@type\\\": \\\"type.googleapis.com/google.rpc.ErrorInfo\\\",\\\\n        \\\"reason\\\": \\\"IAM_PERMISSION_DENIED\\\",\\\\n        \\\"domain\\\": \\\"iam.googleapis.com\\\",\\\\n        \\\"metadata\\\": {\\\\n          \\\"permission\\\": \\\"iam.serviceAccounts.getAccessToken\\\"\\\\n        }\\\\n      }\\\\n    ]\\\\n  }\\\\n}\\\\n\\')\"}\"\n>",
      "\nThe above exception was the direct cause of the following exception:\n",
      "\u001b[0;31mServiceUnavailable\u001b[0m                        Traceback (most recent call last)",
      "Cell \u001b[0;32mIn[22], line 1\u001b[0m\n\u001b[0;32m----> 1\u001b[0m my_dataset \u001b[39m=\u001b[39m aiplatform\u001b[39m.\u001b[39;49mTabularDataset\u001b[39m.\u001b[39;49mcreate(\n\u001b[1;32m      2\u001b[0m     display_name\u001b[39m=\u001b[39;49m\u001b[39m\"\u001b[39;49m\u001b[39mmy-dataset\u001b[39;49m\u001b[39m\"\u001b[39;49m, gcs_source\u001b[39m=\u001b[39;49m[\u001b[39m'\u001b[39;49m\u001b[39mgs://jams_devpost_bk/foo.csv\u001b[39;49m\u001b[39m'\u001b[39;49m])\n",
      "File \u001b[0;32m/workspaces/gcp_icy_bridge/genai/notebooks/myenv/lib/python3.10/site-packages/google/cloud/aiplatform/datasets/tabular_dataset.py:134\u001b[0m, in \u001b[0;36mTabularDataset.create\u001b[0;34m(cls, display_name, gcs_source, bq_source, project, location, credentials, request_metadata, labels, encryption_spec_key_name, sync, create_request_timeout)\u001b[0m\n\u001b[1;32m    126\u001b[0m metadata_schema_uri \u001b[39m=\u001b[39m schema\u001b[39m.\u001b[39mdataset\u001b[39m.\u001b[39mmetadata\u001b[39m.\u001b[39mtabular\n\u001b[1;32m    128\u001b[0m datasource \u001b[39m=\u001b[39m _datasources\u001b[39m.\u001b[39mcreate_datasource(\n\u001b[1;32m    129\u001b[0m     metadata_schema_uri\u001b[39m=\u001b[39mmetadata_schema_uri,\n\u001b[1;32m    130\u001b[0m     gcs_source\u001b[39m=\u001b[39mgcs_source,\n\u001b[1;32m    131\u001b[0m     bq_source\u001b[39m=\u001b[39mbq_source,\n\u001b[1;32m    132\u001b[0m )\n\u001b[0;32m--> 134\u001b[0m \u001b[39mreturn\u001b[39;00m \u001b[39mcls\u001b[39;49m\u001b[39m.\u001b[39;49m_create_and_import(\n\u001b[1;32m    135\u001b[0m     api_client\u001b[39m=\u001b[39;49mapi_client,\n\u001b[1;32m    136\u001b[0m     parent\u001b[39m=\u001b[39;49minitializer\u001b[39m.\u001b[39;49mglobal_config\u001b[39m.\u001b[39;49mcommon_location_path(\n\u001b[1;32m    137\u001b[0m         project\u001b[39m=\u001b[39;49mproject, location\u001b[39m=\u001b[39;49mlocation\n\u001b[1;32m    138\u001b[0m     ),\n\u001b[1;32m    139\u001b[0m     display_name\u001b[39m=\u001b[39;49mdisplay_name,\n\u001b[1;32m    140\u001b[0m     metadata_schema_uri\u001b[39m=\u001b[39;49mmetadata_schema_uri,\n\u001b[1;32m    141\u001b[0m     datasource\u001b[39m=\u001b[39;49mdatasource,\n\u001b[1;32m    142\u001b[0m     project\u001b[39m=\u001b[39;49mproject \u001b[39mor\u001b[39;49;00m initializer\u001b[39m.\u001b[39;49mglobal_config\u001b[39m.\u001b[39;49mproject,\n\u001b[1;32m    143\u001b[0m     location\u001b[39m=\u001b[39;49mlocation \u001b[39mor\u001b[39;49;00m initializer\u001b[39m.\u001b[39;49mglobal_config\u001b[39m.\u001b[39;49mlocation,\n\u001b[1;32m    144\u001b[0m     credentials\u001b[39m=\u001b[39;49mcredentials \u001b[39mor\u001b[39;49;00m initializer\u001b[39m.\u001b[39;49mglobal_config\u001b[39m.\u001b[39;49mcredentials,\n\u001b[1;32m    145\u001b[0m     request_metadata\u001b[39m=\u001b[39;49mrequest_metadata,\n\u001b[1;32m    146\u001b[0m     labels\u001b[39m=\u001b[39;49mlabels,\n\u001b[1;32m    147\u001b[0m     encryption_spec\u001b[39m=\u001b[39;49minitializer\u001b[39m.\u001b[39;49mglobal_config\u001b[39m.\u001b[39;49mget_encryption_spec(\n\u001b[1;32m    148\u001b[0m         encryption_spec_key_name\u001b[39m=\u001b[39;49mencryption_spec_key_name\n\u001b[1;32m    149\u001b[0m     ),\n\u001b[1;32m    150\u001b[0m     sync\u001b[39m=\u001b[39;49msync,\n\u001b[1;32m    151\u001b[0m     create_request_timeout\u001b[39m=\u001b[39;49mcreate_request_timeout,\n\u001b[1;32m    152\u001b[0m )\n",
      "File \u001b[0;32m/workspaces/gcp_icy_bridge/genai/notebooks/myenv/lib/python3.10/site-packages/google/cloud/aiplatform/base.py:809\u001b[0m, in \u001b[0;36moptional_sync.<locals>.optional_run_in_thread.<locals>.wrapper\u001b[0;34m(*args, **kwargs)\u001b[0m\n\u001b[1;32m    807\u001b[0m     \u001b[39mif\u001b[39;00m \u001b[39mself\u001b[39m:\n\u001b[1;32m    808\u001b[0m         VertexAiResourceNounWithFutureManager\u001b[39m.\u001b[39mwait(\u001b[39mself\u001b[39m)\n\u001b[0;32m--> 809\u001b[0m     \u001b[39mreturn\u001b[39;00m method(\u001b[39m*\u001b[39;49margs, \u001b[39m*\u001b[39;49m\u001b[39m*\u001b[39;49mkwargs)\n\u001b[1;32m    811\u001b[0m \u001b[39m# callbacks to call within the Future (in same Thread)\u001b[39;00m\n\u001b[1;32m    812\u001b[0m internal_callbacks \u001b[39m=\u001b[39m []\n",
      "File \u001b[0;32m/workspaces/gcp_icy_bridge/genai/notebooks/myenv/lib/python3.10/site-packages/google/cloud/aiplatform/datasets/dataset.py:340\u001b[0m, in \u001b[0;36m_Dataset._create_and_import\u001b[0;34m(cls, api_client, parent, display_name, metadata_schema_uri, datasource, project, location, credentials, request_metadata, labels, encryption_spec, sync, create_request_timeout, import_request_timeout)\u001b[0m\n\u001b[1;32m    257\u001b[0m \u001b[39m@classmethod\u001b[39m\n\u001b[1;32m    258\u001b[0m \u001b[39m@base\u001b[39m\u001b[39m.\u001b[39moptional_sync()\n\u001b[1;32m    259\u001b[0m \u001b[39mdef\u001b[39;00m \u001b[39m_create_and_import\u001b[39m(\n\u001b[0;32m   (...)\u001b[0m\n\u001b[1;32m    274\u001b[0m     import_request_timeout: Optional[\u001b[39mfloat\u001b[39m] \u001b[39m=\u001b[39m \u001b[39mNone\u001b[39;00m,\n\u001b[1;32m    275\u001b[0m ) \u001b[39m-\u001b[39m\u001b[39m>\u001b[39m \u001b[39m\"\u001b[39m\u001b[39m_Dataset\u001b[39m\u001b[39m\"\u001b[39m:\n\u001b[1;32m    276\u001b[0m \u001b[39m    \u001b[39m\u001b[39m\"\"\"Creates a new dataset and optionally imports data into dataset when\u001b[39;00m\n\u001b[1;32m    277\u001b[0m \u001b[39m    source and import_schema_uri are passed.\u001b[39;00m\n\u001b[1;32m    278\u001b[0m \n\u001b[0;32m   (...)\u001b[0m\n\u001b[1;32m    337\u001b[0m \u001b[39m            Instantiated representation of the managed dataset resource.\u001b[39;00m\n\u001b[1;32m    338\u001b[0m \u001b[39m    \"\"\"\u001b[39;00m\n\u001b[0;32m--> 340\u001b[0m     create_dataset_lro \u001b[39m=\u001b[39m \u001b[39mcls\u001b[39;49m\u001b[39m.\u001b[39;49m_create(\n\u001b[1;32m    341\u001b[0m         api_client\u001b[39m=\u001b[39;49mapi_client,\n\u001b[1;32m    342\u001b[0m         parent\u001b[39m=\u001b[39;49mparent,\n\u001b[1;32m    343\u001b[0m         display_name\u001b[39m=\u001b[39;49mdisplay_name,\n\u001b[1;32m    344\u001b[0m         metadata_schema_uri\u001b[39m=\u001b[39;49mmetadata_schema_uri,\n\u001b[1;32m    345\u001b[0m         datasource\u001b[39m=\u001b[39;49mdatasource,\n\u001b[1;32m    346\u001b[0m         request_metadata\u001b[39m=\u001b[39;49mrequest_metadata,\n\u001b[1;32m    347\u001b[0m         labels\u001b[39m=\u001b[39;49mlabels,\n\u001b[1;32m    348\u001b[0m         encryption_spec\u001b[39m=\u001b[39;49mencryption_spec,\n\u001b[1;32m    349\u001b[0m         create_request_timeout\u001b[39m=\u001b[39;49mcreate_request_timeout,\n\u001b[1;32m    350\u001b[0m     )\n\u001b[1;32m    352\u001b[0m     _LOGGER\u001b[39m.\u001b[39mlog_create_with_lro(\u001b[39mcls\u001b[39m, create_dataset_lro)\n\u001b[1;32m    354\u001b[0m     created_dataset \u001b[39m=\u001b[39m create_dataset_lro\u001b[39m.\u001b[39mresult(timeout\u001b[39m=\u001b[39m\u001b[39mNone\u001b[39;00m)\n",
      "File \u001b[0;32m/workspaces/gcp_icy_bridge/genai/notebooks/myenv/lib/python3.10/site-packages/google/cloud/aiplatform/datasets/dataset.py:465\u001b[0m, in \u001b[0;36m_Dataset._create\u001b[0;34m(cls, api_client, parent, display_name, metadata_schema_uri, datasource, request_metadata, labels, encryption_spec, create_request_timeout)\u001b[0m\n\u001b[1;32m    409\u001b[0m \u001b[39m\u001b[39m\u001b[39m\"\"\"Creates a new managed dataset by directly calling API client.\u001b[39;00m\n\u001b[1;32m    410\u001b[0m \n\u001b[1;32m    411\u001b[0m \u001b[39mArgs:\u001b[39;00m\n\u001b[0;32m   (...)\u001b[0m\n\u001b[1;32m    454\u001b[0m \u001b[39m        An object representing a long-running operation.\u001b[39;00m\n\u001b[1;32m    455\u001b[0m \u001b[39m\"\"\"\u001b[39;00m\n\u001b[1;32m    457\u001b[0m gapic_dataset \u001b[39m=\u001b[39m gca_dataset\u001b[39m.\u001b[39mDataset(\n\u001b[1;32m    458\u001b[0m     display_name\u001b[39m=\u001b[39mdisplay_name,\n\u001b[1;32m    459\u001b[0m     metadata_schema_uri\u001b[39m=\u001b[39mmetadata_schema_uri,\n\u001b[0;32m   (...)\u001b[0m\n\u001b[1;32m    462\u001b[0m     encryption_spec\u001b[39m=\u001b[39mencryption_spec,\n\u001b[1;32m    463\u001b[0m )\n\u001b[0;32m--> 465\u001b[0m \u001b[39mreturn\u001b[39;00m api_client\u001b[39m.\u001b[39;49mcreate_dataset(\n\u001b[1;32m    466\u001b[0m     parent\u001b[39m=\u001b[39;49mparent,\n\u001b[1;32m    467\u001b[0m     dataset\u001b[39m=\u001b[39;49mgapic_dataset,\n\u001b[1;32m    468\u001b[0m     metadata\u001b[39m=\u001b[39;49mrequest_metadata,\n\u001b[1;32m    469\u001b[0m     timeout\u001b[39m=\u001b[39;49mcreate_request_timeout,\n\u001b[1;32m    470\u001b[0m )\n",
      "File \u001b[0;32m/workspaces/gcp_icy_bridge/genai/notebooks/myenv/lib/python3.10/site-packages/google/cloud/aiplatform_v1/services/dataset_service/client.py:675\u001b[0m, in \u001b[0;36mDatasetServiceClient.create_dataset\u001b[0;34m(self, request, parent, dataset, retry, timeout, metadata)\u001b[0m\n\u001b[1;32m    670\u001b[0m metadata \u001b[39m=\u001b[39m \u001b[39mtuple\u001b[39m(metadata) \u001b[39m+\u001b[39m (\n\u001b[1;32m    671\u001b[0m     gapic_v1\u001b[39m.\u001b[39mrouting_header\u001b[39m.\u001b[39mto_grpc_metadata(((\u001b[39m\"\u001b[39m\u001b[39mparent\u001b[39m\u001b[39m\"\u001b[39m, request\u001b[39m.\u001b[39mparent),)),\n\u001b[1;32m    672\u001b[0m )\n\u001b[1;32m    674\u001b[0m \u001b[39m# Send the request.\u001b[39;00m\n\u001b[0;32m--> 675\u001b[0m response \u001b[39m=\u001b[39m rpc(\n\u001b[1;32m    676\u001b[0m     request,\n\u001b[1;32m    677\u001b[0m     retry\u001b[39m=\u001b[39;49mretry,\n\u001b[1;32m    678\u001b[0m     timeout\u001b[39m=\u001b[39;49mtimeout,\n\u001b[1;32m    679\u001b[0m     metadata\u001b[39m=\u001b[39;49mmetadata,\n\u001b[1;32m    680\u001b[0m )\n\u001b[1;32m    682\u001b[0m \u001b[39m# Wrap the response in an operation future.\u001b[39;00m\n\u001b[1;32m    683\u001b[0m response \u001b[39m=\u001b[39m gac_operation\u001b[39m.\u001b[39mfrom_gapic(\n\u001b[1;32m    684\u001b[0m     response,\n\u001b[1;32m    685\u001b[0m     \u001b[39mself\u001b[39m\u001b[39m.\u001b[39m_transport\u001b[39m.\u001b[39moperations_client,\n\u001b[1;32m    686\u001b[0m     gca_dataset\u001b[39m.\u001b[39mDataset,\n\u001b[1;32m    687\u001b[0m     metadata_type\u001b[39m=\u001b[39mdataset_service\u001b[39m.\u001b[39mCreateDatasetOperationMetadata,\n\u001b[1;32m    688\u001b[0m )\n",
      "File \u001b[0;32m/workspaces/gcp_icy_bridge/genai/notebooks/myenv/lib/python3.10/site-packages/google/api_core/gapic_v1/method.py:113\u001b[0m, in \u001b[0;36m_GapicCallable.__call__\u001b[0;34m(self, timeout, retry, *args, **kwargs)\u001b[0m\n\u001b[1;32m    110\u001b[0m     metadata\u001b[39m.\u001b[39mextend(\u001b[39mself\u001b[39m\u001b[39m.\u001b[39m_metadata)\n\u001b[1;32m    111\u001b[0m     kwargs[\u001b[39m\"\u001b[39m\u001b[39mmetadata\u001b[39m\u001b[39m\"\u001b[39m] \u001b[39m=\u001b[39m metadata\n\u001b[0;32m--> 113\u001b[0m \u001b[39mreturn\u001b[39;00m wrapped_func(\u001b[39m*\u001b[39;49margs, \u001b[39m*\u001b[39;49m\u001b[39m*\u001b[39;49mkwargs)\n",
      "File \u001b[0;32m/workspaces/gcp_icy_bridge/genai/notebooks/myenv/lib/python3.10/site-packages/google/api_core/grpc_helpers.py:74\u001b[0m, in \u001b[0;36m_wrap_unary_errors.<locals>.error_remapped_callable\u001b[0;34m(*args, **kwargs)\u001b[0m\n\u001b[1;32m     72\u001b[0m     \u001b[39mreturn\u001b[39;00m callable_(\u001b[39m*\u001b[39margs, \u001b[39m*\u001b[39m\u001b[39m*\u001b[39mkwargs)\n\u001b[1;32m     73\u001b[0m \u001b[39mexcept\u001b[39;00m grpc\u001b[39m.\u001b[39mRpcError \u001b[39mas\u001b[39;00m exc:\n\u001b[0;32m---> 74\u001b[0m     \u001b[39mraise\u001b[39;00m exceptions\u001b[39m.\u001b[39mfrom_grpc_error(exc) \u001b[39mfrom\u001b[39;00m \u001b[39mexc\u001b[39;00m\n",
      "\u001b[0;31mServiceUnavailable\u001b[0m: 503 Getting metadata from plugin failed with error: ('Unable to acquire impersonated credentials', '{\\n  \"error\": {\\n    \"code\": 403,\\n    \"message\": \"Permission \\'iam.serviceAccounts.getAccessToken\\' denied on resource (or it may not exist).\",\\n    \"status\": \"PERMISSION_DENIED\",\\n    \"details\": [\\n      {\\n        \"@type\": \"type.googleapis.com/google.rpc.ErrorInfo\",\\n        \"reason\": \"IAM_PERMISSION_DENIED\",\\n        \"domain\": \"iam.googleapis.com\",\\n        \"metadata\": {\\n          \"permission\": \"iam.serviceAccounts.getAccessToken\"\\n        }\\n      }\\n    ]\\n  }\\n}\\n')"
     ]
    }
   ],
   "source": [
    "my_dataset = aiplatform.TabularDataset.create(display_name=\"my-dataset\", gcs_source=['gs://jams_devpost_bk/foo.csv'])"
   ]
  },
  {
   "cell_type": "code",
   "execution_count": null,
   "metadata": {},
   "outputs": [],
   "source": [
    "# setup credentials\n",
    "# re https://cloud.google.com/artifact-registry/docs/python/authentication\n",
    "#\n",
    "\n",
    "# install keyring lib\n",
    "#!pip install keyring\n",
    "\n",
    "# install the artifact registry backend\n",
    "#!pip install keyrings.google-artifactregistry-auth\n",
    "\n",
    "# list the backends to confirm the installation\n",
    "#keyring --list-backends\n"
   ]
  },
  {
   "cell_type": "code",
   "execution_count": 15,
   "metadata": {},
   "outputs": [
    {
     "data": {
      "text/plain": [
       "'application_default_credentials.json'"
      ]
     },
     "execution_count": 15,
     "metadata": {},
     "output_type": "execute_result"
    }
   ],
   "source": [
    "os.environ['GOOGLE_APPLICATION_CREDENTIALS']"
   ]
  },
  {
   "cell_type": "code",
   "execution_count": 1,
   "metadata": {},
   "outputs": [
    {
     "name": "stdout",
     "output_type": "stream",
     "text": [
      "yo\n"
     ]
    }
   ],
   "source": [
    "#with open(os.environ['GOOGLE_APPLICATION_CREDENTIALS'], 'r') as f:\n",
    "#    contents = f.read()\n",
    "#\n",
    "#print(contents)\n",
    "print(\"yo\")"
   ]
  },
  {
   "cell_type": "code",
   "execution_count": 11,
   "metadata": {},
   "outputs": [],
   "source": [
    "#os.system('cat ./genai/devpost/application_default_credentials.json')\n",
    "#os.system('pwd')\n",
    "#os.system('ls')\n",
    "\n"
   ]
  },
  {
   "cell_type": "code",
   "execution_count": 18,
   "metadata": {},
   "outputs": [],
   "source": [
    "# test the gcp vertex AI\n",
    "from vertexai.language_models import TextGenerationModel\n"
   ]
  },
  {
   "cell_type": "code",
   "execution_count": 12,
   "metadata": {},
   "outputs": [
    {
     "ename": "RetryError",
     "evalue": "Deadline of 120.0s exceeded while calling target function, last exception: 503 Getting metadata from plugin failed with error: ('Unable to acquire impersonated credentials', '{\\n  \"error\": {\\n    \"code\": 403,\\n    \"message\": \"Permission \\'iam.serviceAccounts.getAccessToken\\' denied on resource (or it may not exist).\",\\n    \"status\": \"PERMISSION_DENIED\",\\n    \"details\": [\\n      {\\n        \"@type\": \"type.googleapis.com/google.rpc.ErrorInfo\",\\n        \"reason\": \"IAM_PERMISSION_DENIED\",\\n        \"domain\": \"iam.googleapis.com\",\\n        \"metadata\": {\\n          \"permission\": \"iam.serviceAccounts.getAccessToken\"\\n        }\\n      }\\n    ]\\n  }\\n}\\n')",
     "output_type": "error",
     "traceback": [
      "\u001b[0;31m---------------------------------------------------------------------------\u001b[0m",
      "\u001b[0;31m_InactiveRpcError\u001b[0m                         Traceback (most recent call last)",
      "File \u001b[0;32m/workspaces/gcp_icy_bridge/genai/notebooks/myenv/lib/python3.10/site-packages/google/api_core/grpc_helpers.py:72\u001b[0m, in \u001b[0;36m_wrap_unary_errors.<locals>.error_remapped_callable\u001b[0;34m(*args, **kwargs)\u001b[0m\n\u001b[1;32m     71\u001b[0m \u001b[39mtry\u001b[39;00m:\n\u001b[0;32m---> 72\u001b[0m     \u001b[39mreturn\u001b[39;00m callable_(\u001b[39m*\u001b[39;49margs, \u001b[39m*\u001b[39;49m\u001b[39m*\u001b[39;49mkwargs)\n\u001b[1;32m     73\u001b[0m \u001b[39mexcept\u001b[39;00m grpc\u001b[39m.\u001b[39mRpcError \u001b[39mas\u001b[39;00m exc:\n",
      "File \u001b[0;32m/workspaces/gcp_icy_bridge/genai/notebooks/myenv/lib/python3.10/site-packages/grpc/_channel.py:1161\u001b[0m, in \u001b[0;36m_UnaryUnaryMultiCallable.__call__\u001b[0;34m(self, request, timeout, metadata, credentials, wait_for_ready, compression)\u001b[0m\n\u001b[1;32m   1155\u001b[0m (\n\u001b[1;32m   1156\u001b[0m     state,\n\u001b[1;32m   1157\u001b[0m     call,\n\u001b[1;32m   1158\u001b[0m ) \u001b[39m=\u001b[39m \u001b[39mself\u001b[39m\u001b[39m.\u001b[39m_blocking(\n\u001b[1;32m   1159\u001b[0m     request, timeout, metadata, credentials, wait_for_ready, compression\n\u001b[1;32m   1160\u001b[0m )\n\u001b[0;32m-> 1161\u001b[0m \u001b[39mreturn\u001b[39;00m _end_unary_response_blocking(state, call, \u001b[39mFalse\u001b[39;49;00m, \u001b[39mNone\u001b[39;49;00m)\n",
      "File \u001b[0;32m/workspaces/gcp_icy_bridge/genai/notebooks/myenv/lib/python3.10/site-packages/grpc/_channel.py:1004\u001b[0m, in \u001b[0;36m_end_unary_response_blocking\u001b[0;34m(state, call, with_call, deadline)\u001b[0m\n\u001b[1;32m   1003\u001b[0m \u001b[39melse\u001b[39;00m:\n\u001b[0;32m-> 1004\u001b[0m     \u001b[39mraise\u001b[39;00m _InactiveRpcError(state)\n",
      "\u001b[0;31m_InactiveRpcError\u001b[0m: <_InactiveRpcError of RPC that terminated with:\n\tstatus = StatusCode.UNAVAILABLE\n\tdetails = \"Getting metadata from plugin failed with error: ('Unable to acquire impersonated credentials', '{\\n  \"error\": {\\n    \"code\": 403,\\n    \"message\": \"Permission \\'iam.serviceAccounts.getAccessToken\\' denied on resource (or it may not exist).\",\\n    \"status\": \"PERMISSION_DENIED\",\\n    \"details\": [\\n      {\\n        \"@type\": \"type.googleapis.com/google.rpc.ErrorInfo\",\\n        \"reason\": \"IAM_PERMISSION_DENIED\",\\n        \"domain\": \"iam.googleapis.com\",\\n        \"metadata\": {\\n          \"permission\": \"iam.serviceAccounts.getAccessToken\"\\n        }\\n      }\\n    ]\\n  }\\n}\\n')\"\n\tdebug_error_string = \"UNKNOWN:Error received from peer  {grpc_message:\"Getting metadata from plugin failed with error: (\\'Unable to acquire impersonated credentials\\', \\'{\\\\n  \\\"error\\\": {\\\\n    \\\"code\\\": 403,\\\\n    \\\"message\\\": \\\"Permission \\\\\\'iam.serviceAccounts.getAccessToken\\\\\\' denied on resource (or it may not exist).\\\",\\\\n    \\\"status\\\": \\\"PERMISSION_DENIED\\\",\\\\n    \\\"details\\\": [\\\\n      {\\\\n        \\\"@type\\\": \\\"type.googleapis.com/google.rpc.ErrorInfo\\\",\\\\n        \\\"reason\\\": \\\"IAM_PERMISSION_DENIED\\\",\\\\n        \\\"domain\\\": \\\"iam.googleapis.com\\\",\\\\n        \\\"metadata\\\": {\\\\n          \\\"permission\\\": \\\"iam.serviceAccounts.getAccessToken\\\"\\\\n        }\\\\n      }\\\\n    ]\\\\n  }\\\\n}\\\\n\\')\", grpc_status:14, created_time:\"2023-09-03T15:05:39.909209413+00:00\"}\"\n>",
      "\nThe above exception was the direct cause of the following exception:\n",
      "\u001b[0;31mServiceUnavailable\u001b[0m                        Traceback (most recent call last)",
      "File \u001b[0;32m/workspaces/gcp_icy_bridge/genai/notebooks/myenv/lib/python3.10/site-packages/google/api_core/retry.py:191\u001b[0m, in \u001b[0;36mretry_target\u001b[0;34m(target, predicate, sleep_generator, timeout, on_error, **kwargs)\u001b[0m\n\u001b[1;32m    190\u001b[0m \u001b[39mtry\u001b[39;00m:\n\u001b[0;32m--> 191\u001b[0m     \u001b[39mreturn\u001b[39;00m target()\n\u001b[1;32m    193\u001b[0m \u001b[39m# pylint: disable=broad-except\u001b[39;00m\n\u001b[1;32m    194\u001b[0m \u001b[39m# This function explicitly must deal with broad exceptions.\u001b[39;00m\n",
      "File \u001b[0;32m/workspaces/gcp_icy_bridge/genai/notebooks/myenv/lib/python3.10/site-packages/google/api_core/grpc_helpers.py:74\u001b[0m, in \u001b[0;36m_wrap_unary_errors.<locals>.error_remapped_callable\u001b[0;34m(*args, **kwargs)\u001b[0m\n\u001b[1;32m     73\u001b[0m \u001b[39mexcept\u001b[39;00m grpc\u001b[39m.\u001b[39mRpcError \u001b[39mas\u001b[39;00m exc:\n\u001b[0;32m---> 74\u001b[0m     \u001b[39mraise\u001b[39;00m exceptions\u001b[39m.\u001b[39mfrom_grpc_error(exc) \u001b[39mfrom\u001b[39;00m \u001b[39mexc\u001b[39;00m\n",
      "\u001b[0;31mServiceUnavailable\u001b[0m: 503 Getting metadata from plugin failed with error: ('Unable to acquire impersonated credentials', '{\\n  \"error\": {\\n    \"code\": 403,\\n    \"message\": \"Permission \\'iam.serviceAccounts.getAccessToken\\' denied on resource (or it may not exist).\",\\n    \"status\": \"PERMISSION_DENIED\",\\n    \"details\": [\\n      {\\n        \"@type\": \"type.googleapis.com/google.rpc.ErrorInfo\",\\n        \"reason\": \"IAM_PERMISSION_DENIED\",\\n        \"domain\": \"iam.googleapis.com\",\\n        \"metadata\": {\\n          \"permission\": \"iam.serviceAccounts.getAccessToken\"\\n        }\\n      }\\n    ]\\n  }\\n}\\n')",
      "\nThe above exception was the direct cause of the following exception:\n",
      "\u001b[0;31mRetryError\u001b[0m                                Traceback (most recent call last)",
      "Cell \u001b[0;32mIn[12], line 2\u001b[0m\n\u001b[1;32m      1\u001b[0m \u001b[39m# load the model\u001b[39;00m\n\u001b[0;32m----> 2\u001b[0m generation_model \u001b[39m=\u001b[39m TextGenerationModel\u001b[39m.\u001b[39;49mfrom_pretrained(\u001b[39m\"\u001b[39;49m\u001b[39mtext-bison@001\u001b[39;49m\u001b[39m\"\u001b[39;49m)\n",
      "File \u001b[0;32m/workspaces/gcp_icy_bridge/genai/notebooks/myenv/lib/python3.10/site-packages/vertexai/_model_garden/_model_garden_models.py:214\u001b[0m, in \u001b[0;36m_ModelGardenModel.from_pretrained\u001b[0;34m(cls, model_name)\u001b[0m\n\u001b[1;32m    209\u001b[0m \u001b[39mif\u001b[39;00m \u001b[39mnot\u001b[39;00m \u001b[39mcls\u001b[39m\u001b[39m.\u001b[39m_INSTANCE_SCHEMA_URI:\n\u001b[1;32m    210\u001b[0m     \u001b[39mraise\u001b[39;00m \u001b[39mValueError\u001b[39;00m(\n\u001b[1;32m    211\u001b[0m         \u001b[39mf\u001b[39m\u001b[39m\"\u001b[39m\u001b[39mClass \u001b[39m\u001b[39m{\u001b[39;00m\u001b[39mcls\u001b[39m\u001b[39m}\u001b[39;00m\u001b[39m is not a correct model interface class since it does not have an instance schema URI.\u001b[39m\u001b[39m\"\u001b[39m\n\u001b[1;32m    212\u001b[0m     )\n\u001b[0;32m--> 214\u001b[0m model_info \u001b[39m=\u001b[39m _get_model_info(\n\u001b[1;32m    215\u001b[0m     model_id\u001b[39m=\u001b[39;49mmodel_name, schema_to_class_map\u001b[39m=\u001b[39;49m{\u001b[39mcls\u001b[39;49m\u001b[39m.\u001b[39;49m_INSTANCE_SCHEMA_URI: \u001b[39mcls\u001b[39;49m}\n\u001b[1;32m    216\u001b[0m )\n\u001b[1;32m    218\u001b[0m \u001b[39mif\u001b[39;00m \u001b[39mnot\u001b[39;00m \u001b[39missubclass\u001b[39m(model_info\u001b[39m.\u001b[39minterface_class, \u001b[39mcls\u001b[39m):\n\u001b[1;32m    219\u001b[0m     \u001b[39mraise\u001b[39;00m \u001b[39mValueError\u001b[39;00m(\n\u001b[1;32m    220\u001b[0m         \u001b[39mf\u001b[39m\u001b[39m\"\u001b[39m\u001b[39m{\u001b[39;00mmodel_name\u001b[39m}\u001b[39;00m\u001b[39m is of type \u001b[39m\u001b[39m{\u001b[39;00mmodel_info\u001b[39m.\u001b[39minterface_class\u001b[39m.\u001b[39m\u001b[39m__name__\u001b[39m\u001b[39m}\u001b[39;00m\u001b[39m not of type \u001b[39m\u001b[39m{\u001b[39;00m\u001b[39mcls\u001b[39m\u001b[39m.\u001b[39m\u001b[39m__name__\u001b[39m\u001b[39m}\u001b[39;00m\u001b[39m\"\u001b[39m\n\u001b[1;32m    221\u001b[0m     )\n",
      "File \u001b[0;32m/workspaces/gcp_icy_bridge/genai/notebooks/myenv/lib/python3.10/site-packages/vertexai/_model_garden/_model_garden_models.py:96\u001b[0m, in \u001b[0;36m_get_model_info\u001b[0;34m(model_id, schema_to_class_map)\u001b[0m\n\u001b[1;32m     92\u001b[0m \u001b[39mif\u001b[39;00m \u001b[39m\"\u001b[39m\u001b[39m/\u001b[39m\u001b[39m\"\u001b[39m \u001b[39mnot\u001b[39;00m \u001b[39min\u001b[39;00m model_id:\n\u001b[1;32m     93\u001b[0m     model_id \u001b[39m=\u001b[39m \u001b[39m\"\u001b[39m\u001b[39mpublishers/google/models/\u001b[39m\u001b[39m\"\u001b[39m \u001b[39m+\u001b[39m model_id\n\u001b[1;32m     95\u001b[0m publisher_model_res \u001b[39m=\u001b[39m (\n\u001b[0;32m---> 96\u001b[0m     _publisher_models\u001b[39m.\u001b[39;49m_PublisherModel(  \u001b[39m# pylint: disable=protected-access\u001b[39;49;00m\n\u001b[1;32m     97\u001b[0m         resource_name\u001b[39m=\u001b[39;49mmodel_id\n\u001b[1;32m     98\u001b[0m     )\u001b[39m.\u001b[39m_gca_resource\n\u001b[1;32m     99\u001b[0m )\n\u001b[1;32m    101\u001b[0m \u001b[39mif\u001b[39;00m \u001b[39mnot\u001b[39;00m publisher_model_res\u001b[39m.\u001b[39mname\u001b[39m.\u001b[39mstartswith(\u001b[39m\"\u001b[39m\u001b[39mpublishers/google/models/\u001b[39m\u001b[39m\"\u001b[39m):\n\u001b[1;32m    102\u001b[0m     \u001b[39mraise\u001b[39;00m \u001b[39mValueError\u001b[39;00m(\n\u001b[1;32m    103\u001b[0m         \u001b[39mf\u001b[39m\u001b[39m\"\u001b[39m\u001b[39mOnly Google models are currently supported. \u001b[39m\u001b[39m{\u001b[39;00mpublisher_model_res\u001b[39m.\u001b[39mname\u001b[39m}\u001b[39;00m\u001b[39m\"\u001b[39m\n\u001b[1;32m    104\u001b[0m     )\n",
      "File \u001b[0;32m/workspaces/gcp_icy_bridge/genai/notebooks/myenv/lib/python3.10/site-packages/google/cloud/aiplatform/_publisher_models.py:77\u001b[0m, in \u001b[0;36m_PublisherModel.__init__\u001b[0;34m(self, resource_name, project, location, credentials)\u001b[0m\n\u001b[1;32m     71\u001b[0m     \u001b[39melse\u001b[39;00m:\n\u001b[1;32m     72\u001b[0m         \u001b[39mraise\u001b[39;00m \u001b[39mValueError\u001b[39;00m(\n\u001b[1;32m     73\u001b[0m             \u001b[39mf\u001b[39m\u001b[39m\"\u001b[39m\u001b[39m`\u001b[39m\u001b[39m{\u001b[39;00mresource_name\u001b[39m}\u001b[39;00m\u001b[39m` is not a valid PublisherModel resource \u001b[39m\u001b[39m\"\u001b[39m\n\u001b[1;32m     74\u001b[0m             \u001b[39m\"\u001b[39m\u001b[39mname or model garden id.\u001b[39m\u001b[39m\"\u001b[39m\n\u001b[1;32m     75\u001b[0m         )\n\u001b[0;32m---> 77\u001b[0m \u001b[39mself\u001b[39m\u001b[39m.\u001b[39m_gca_resource \u001b[39m=\u001b[39m \u001b[39mgetattr\u001b[39;49m(\u001b[39mself\u001b[39;49m\u001b[39m.\u001b[39;49mapi_client, \u001b[39mself\u001b[39;49m\u001b[39m.\u001b[39;49m_getter_method)(\n\u001b[1;32m     78\u001b[0m     name\u001b[39m=\u001b[39;49mfull_resource_name, retry\u001b[39m=\u001b[39;49mbase\u001b[39m.\u001b[39;49m_DEFAULT_RETRY\n\u001b[1;32m     79\u001b[0m )\n",
      "File \u001b[0;32m/workspaces/gcp_icy_bridge/genai/notebooks/myenv/lib/python3.10/site-packages/google/cloud/aiplatform_v1/services/model_garden_service/client.py:536\u001b[0m, in \u001b[0;36mModelGardenServiceClient.get_publisher_model\u001b[0;34m(self, request, name, retry, timeout, metadata)\u001b[0m\n\u001b[1;32m    531\u001b[0m metadata \u001b[39m=\u001b[39m \u001b[39mtuple\u001b[39m(metadata) \u001b[39m+\u001b[39m (\n\u001b[1;32m    532\u001b[0m     gapic_v1\u001b[39m.\u001b[39mrouting_header\u001b[39m.\u001b[39mto_grpc_metadata(((\u001b[39m\"\u001b[39m\u001b[39mname\u001b[39m\u001b[39m\"\u001b[39m, request\u001b[39m.\u001b[39mname),)),\n\u001b[1;32m    533\u001b[0m )\n\u001b[1;32m    535\u001b[0m \u001b[39m# Send the request.\u001b[39;00m\n\u001b[0;32m--> 536\u001b[0m response \u001b[39m=\u001b[39m rpc(\n\u001b[1;32m    537\u001b[0m     request,\n\u001b[1;32m    538\u001b[0m     retry\u001b[39m=\u001b[39;49mretry,\n\u001b[1;32m    539\u001b[0m     timeout\u001b[39m=\u001b[39;49mtimeout,\n\u001b[1;32m    540\u001b[0m     metadata\u001b[39m=\u001b[39;49mmetadata,\n\u001b[1;32m    541\u001b[0m )\n\u001b[1;32m    543\u001b[0m \u001b[39m# Done; return the response.\u001b[39;00m\n\u001b[1;32m    544\u001b[0m \u001b[39mreturn\u001b[39;00m response\n",
      "File \u001b[0;32m/workspaces/gcp_icy_bridge/genai/notebooks/myenv/lib/python3.10/site-packages/google/api_core/gapic_v1/method.py:113\u001b[0m, in \u001b[0;36m_GapicCallable.__call__\u001b[0;34m(self, timeout, retry, *args, **kwargs)\u001b[0m\n\u001b[1;32m    110\u001b[0m     metadata\u001b[39m.\u001b[39mextend(\u001b[39mself\u001b[39m\u001b[39m.\u001b[39m_metadata)\n\u001b[1;32m    111\u001b[0m     kwargs[\u001b[39m\"\u001b[39m\u001b[39mmetadata\u001b[39m\u001b[39m\"\u001b[39m] \u001b[39m=\u001b[39m metadata\n\u001b[0;32m--> 113\u001b[0m \u001b[39mreturn\u001b[39;00m wrapped_func(\u001b[39m*\u001b[39;49margs, \u001b[39m*\u001b[39;49m\u001b[39m*\u001b[39;49mkwargs)\n",
      "File \u001b[0;32m/workspaces/gcp_icy_bridge/genai/notebooks/myenv/lib/python3.10/site-packages/google/api_core/retry.py:349\u001b[0m, in \u001b[0;36mRetry.__call__.<locals>.retry_wrapped_func\u001b[0;34m(*args, **kwargs)\u001b[0m\n\u001b[1;32m    345\u001b[0m target \u001b[39m=\u001b[39m functools\u001b[39m.\u001b[39mpartial(func, \u001b[39m*\u001b[39margs, \u001b[39m*\u001b[39m\u001b[39m*\u001b[39mkwargs)\n\u001b[1;32m    346\u001b[0m sleep_generator \u001b[39m=\u001b[39m exponential_sleep_generator(\n\u001b[1;32m    347\u001b[0m     \u001b[39mself\u001b[39m\u001b[39m.\u001b[39m_initial, \u001b[39mself\u001b[39m\u001b[39m.\u001b[39m_maximum, multiplier\u001b[39m=\u001b[39m\u001b[39mself\u001b[39m\u001b[39m.\u001b[39m_multiplier\n\u001b[1;32m    348\u001b[0m )\n\u001b[0;32m--> 349\u001b[0m \u001b[39mreturn\u001b[39;00m retry_target(\n\u001b[1;32m    350\u001b[0m     target,\n\u001b[1;32m    351\u001b[0m     \u001b[39mself\u001b[39;49m\u001b[39m.\u001b[39;49m_predicate,\n\u001b[1;32m    352\u001b[0m     sleep_generator,\n\u001b[1;32m    353\u001b[0m     \u001b[39mself\u001b[39;49m\u001b[39m.\u001b[39;49m_timeout,\n\u001b[1;32m    354\u001b[0m     on_error\u001b[39m=\u001b[39;49mon_error,\n\u001b[1;32m    355\u001b[0m )\n",
      "File \u001b[0;32m/workspaces/gcp_icy_bridge/genai/notebooks/myenv/lib/python3.10/site-packages/google/api_core/retry.py:207\u001b[0m, in \u001b[0;36mretry_target\u001b[0;34m(target, predicate, sleep_generator, timeout, on_error, **kwargs)\u001b[0m\n\u001b[1;32m    203\u001b[0m     next_attempt_time \u001b[39m=\u001b[39m datetime_helpers\u001b[39m.\u001b[39mutcnow() \u001b[39m+\u001b[39m datetime\u001b[39m.\u001b[39mtimedelta(\n\u001b[1;32m    204\u001b[0m         seconds\u001b[39m=\u001b[39msleep\n\u001b[1;32m    205\u001b[0m     )\n\u001b[1;32m    206\u001b[0m     \u001b[39mif\u001b[39;00m deadline \u001b[39m<\u001b[39m next_attempt_time:\n\u001b[0;32m--> 207\u001b[0m         \u001b[39mraise\u001b[39;00m exceptions\u001b[39m.\u001b[39mRetryError(\n\u001b[1;32m    208\u001b[0m             \u001b[39m\"\u001b[39m\u001b[39mDeadline of \u001b[39m\u001b[39m{:.1f}\u001b[39;00m\u001b[39ms exceeded while calling target function\u001b[39m\u001b[39m\"\u001b[39m\u001b[39m.\u001b[39mformat(\n\u001b[1;32m    209\u001b[0m                 timeout\n\u001b[1;32m    210\u001b[0m             ),\n\u001b[1;32m    211\u001b[0m             last_exc,\n\u001b[1;32m    212\u001b[0m         ) \u001b[39mfrom\u001b[39;00m \u001b[39mlast_exc\u001b[39;00m\n\u001b[1;32m    214\u001b[0m _LOGGER\u001b[39m.\u001b[39mdebug(\n\u001b[1;32m    215\u001b[0m     \u001b[39m\"\u001b[39m\u001b[39mRetrying due to \u001b[39m\u001b[39m{}\u001b[39;00m\u001b[39m, sleeping \u001b[39m\u001b[39m{:.1f}\u001b[39;00m\u001b[39ms ...\u001b[39m\u001b[39m\"\u001b[39m\u001b[39m.\u001b[39mformat(last_exc, sleep)\n\u001b[1;32m    216\u001b[0m )\n\u001b[1;32m    217\u001b[0m time\u001b[39m.\u001b[39msleep(sleep)\n",
      "\u001b[0;31mRetryError\u001b[0m: Deadline of 120.0s exceeded while calling target function, last exception: 503 Getting metadata from plugin failed with error: ('Unable to acquire impersonated credentials', '{\\n  \"error\": {\\n    \"code\": 403,\\n    \"message\": \"Permission \\'iam.serviceAccounts.getAccessToken\\' denied on resource (or it may not exist).\",\\n    \"status\": \"PERMISSION_DENIED\",\\n    \"details\": [\\n      {\\n        \"@type\": \"type.googleapis.com/google.rpc.ErrorInfo\",\\n        \"reason\": \"IAM_PERMISSION_DENIED\",\\n        \"domain\": \"iam.googleapis.com\",\\n        \"metadata\": {\\n          \"permission\": \"iam.serviceAccounts.getAccessToken\"\\n        }\\n      }\\n    ]\\n  }\\n}\\n')"
     ]
    }
   ],
   "source": [
    "# load the model\n",
    "generation_model = TextGenerationModel.from_pretrained(\"text-bison@001\")\n"
   ]
  }
 ],
 "metadata": {
  "kernelspec": {
   "display_name": "myenv",
   "language": "python",
   "name": "python3"
  },
  "language_info": {
   "codemirror_mode": {
    "name": "ipython",
    "version": 3
   },
   "file_extension": ".py",
   "mimetype": "text/x-python",
   "name": "python",
   "nbconvert_exporter": "python",
   "pygments_lexer": "ipython3",
   "version": "3.10.8"
  },
  "orig_nbformat": 4
 },
 "nbformat": 4,
 "nbformat_minor": 2
}
