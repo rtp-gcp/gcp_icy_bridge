{
 "cells": [
  {
   "cell_type": "markdown",
   "metadata": {},
   "source": [
    "# Example to use vertex AI\n",
    "This uses this [repo/file](https://github.com/GoogleCloudPlatform/generative-ai/blob/main/language/prompts/intro_prompt_design.ipynb) to test our service account.  The service account is built using `setupgcp.sh`.  The venv environment usage is described in the README.md to install the necessary libs.\n"
   ]
  },
  {
   "cell_type": "code",
   "execution_count": 1,
   "metadata": {},
   "outputs": [],
   "source": [
    "# Import the os package\n",
    "import os"
   ]
  },
  {
   "cell_type": "code",
   "execution_count": 2,
   "metadata": {},
   "outputs": [
    {
     "data": {
      "text/plain": [
       "True"
      ]
     },
     "execution_count": 2,
     "metadata": {},
     "output_type": "execute_result"
    }
   ],
   "source": [
    "# import the dotenv package\n",
    "from dotenv import load_dotenv\n",
    "# Get the current working directory\n",
    "cwd = os.getcwd()\n",
    "\n",
    "# Construct the .env file path\n",
    "env_path = os.path.join(cwd, '.env')\n",
    "\n",
    "# Load the .env file\n",
    "load_dotenv(dotenv_path=env_path)"
   ]
  },
  {
   "cell_type": "code",
   "execution_count": 3,
   "metadata": {},
   "outputs": [
    {
     "name": "stdout",
     "output_type": "stream",
     "text": [
      "jams-devpost\n"
     ]
    }
   ],
   "source": [
    "#import vertexai\n",
    "\n",
    "PROJECT_ID = os.environ['GCP_PROJ_ID']  # @param {type:\"string\"}\n",
    "# Notice the project name is uppercase. However, the project ID is lowercase\n",
    "print(PROJECT_ID)\n",
    "# staging_bucket='jams_bucket')\n",
    "#vertexai.init(project=PROJECT_ID, \n",
    "#              location=\"us-central1\")\n",
    "              "
   ]
  },
  {
   "cell_type": "code",
   "execution_count": 4,
   "metadata": {},
   "outputs": [],
   "source": [
    "import json\n",
    "    \n",
    "from google.cloud import storage\n",
    "from google.oauth2 import service_account\n",
    "    \n",
    "\n",
    "# Test to see that environment can find the app credentials.\n",
    "# DO NOT COMMIT TO GIT WITH THIS CELL RUN AS A PRINT    \n",
    "# DO NOT COMMIT TO GIT WITH THIS CELL RUN AS A PRINT    \n",
    "# DO NOT COMMIT TO GIT WITH THIS CELL RUN AS A PRINT    \n",
    "# DO NOT COMMIT TO GIT WITH THIS CELL RUN AS A PRINT    \n",
    "with open(os.environ['GOOGLE_APPLICATION_CREDENTIALS'], 'r') as source:\n",
    "    info = json.load(source)\n",
    "\n",
    "#with open(os.environ['GOOGLE_APPLICATION_CREDENTIALS'], 'r') as f:\n",
    "#    contents = f.read()\n",
    "#    info = json.load(f)\n",
    "#    print(contents)\n",
    "\n",
    "credentials = service_account.Credentials.from_service_account_info(info)\n",
    "    \n",
    "storage_client = storage.Client(project=PROJECT_ID, credentials=credentials)"
   ]
  },
  {
   "cell_type": "code",
   "execution_count": 5,
   "metadata": {},
   "outputs": [
    {
     "name": "stdout",
     "output_type": "stream",
     "text": [
      "jams-devpost\n"
     ]
    }
   ],
   "source": [
    "from google.cloud import aiplatform\n",
    "\n",
    "PROJECT_ID = os.environ['GCP_PROJ_ID']  # @param {type:\"string\"}\n",
    "# Notice the project name is uppercase. However, the project ID is lowercase\n",
    "print(PROJECT_ID)\n",
    "# staging_bucket='jams_bucket')\n",
    "aiplatform.init(project=PROJECT_ID, \n",
    "              location=\"us-central1\",\n",
    "              credentials=credentials)\n",
    "          "
   ]
  },
  {
   "cell_type": "code",
   "execution_count": 6,
   "metadata": {},
   "outputs": [
    {
     "name": "stdout",
     "output_type": "stream",
     "text": [
      "Creating TabularDataset\n",
      "Create TabularDataset backing LRO: projects/141442124690/locations/us-central1/datasets/5171408905221177344/operations/1870155410674024448\n",
      "TabularDataset created. Resource name: projects/141442124690/locations/us-central1/datasets/5171408905221177344\n",
      "To use this TabularDataset in another session:\n",
      "ds = aiplatform.TabularDataset('projects/141442124690/locations/us-central1/datasets/5171408905221177344')\n"
     ]
    }
   ],
   "source": [
    "my_dataset = aiplatform.TabularDataset.create(display_name=\"my-dataset\", gcs_source=['gs://jams_devpost_bk/foo.csv'])"
   ]
  },
  {
   "cell_type": "code",
   "execution_count": 7,
   "metadata": {},
   "outputs": [],
   "source": [
    "# test the gcp vertex AI\n",
    "from vertexai.language_models import TextGenerationModel\n"
   ]
  },
  {
   "cell_type": "code",
   "execution_count": 8,
   "metadata": {},
   "outputs": [],
   "source": [
    "# load the model\n",
    "generation_model = TextGenerationModel.from_pretrained(\"text-bison@001\")\n"
   ]
  },
  {
   "cell_type": "code",
   "execution_count": 10,
   "metadata": {},
   "outputs": [
    {
     "name": "stdout",
     "output_type": "stream",
     "text": [
      "Earth is the only planet known to have liquid water on its surface, which is essential for life. It is also the only planet that has a breathable atmosphere, which is made up of 78% nitrogen, 21% oxygen, and 1% other gases.\n"
     ]
    }
   ],
   "source": [
    "# test the query\n",
    "prompt = \"Generate a list of ways that makes Earth unique compared to other planets in two sentences.\"\n",
    "\n",
    "print(generation_model.predict(prompt=prompt, max_output_tokens=128).text)"
   ]
  },
  {
   "cell_type": "markdown",
   "metadata": {},
   "source": []
  },
  {
   "cell_type": "markdown",
   "metadata": {},
   "source": []
  }
 ],
 "metadata": {
  "kernelspec": {
   "display_name": "myenv",
   "language": "python",
   "name": "python3"
  },
  "language_info": {
   "codemirror_mode": {
    "name": "ipython",
    "version": 3
   },
   "file_extension": ".py",
   "mimetype": "text/x-python",
   "name": "python",
   "nbconvert_exporter": "python",
   "pygments_lexer": "ipython3",
   "version": "3.10.8"
  },
  "orig_nbformat": 4
 },
 "nbformat": 4,
 "nbformat_minor": 2
}
