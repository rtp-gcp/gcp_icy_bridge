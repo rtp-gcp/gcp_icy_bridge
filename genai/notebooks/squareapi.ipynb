{
 "cells": [
  {
   "cell_type": "code",
   "execution_count": 1,
   "metadata": {},
   "outputs": [],
   "source": [
    "# Import the os package\n",
    "import os"
   ]
  },
  {
   "cell_type": "code",
   "execution_count": 2,
   "metadata": {},
   "outputs": [
    {
     "data": {
      "text/plain": [
       "True"
      ]
     },
     "execution_count": 2,
     "metadata": {},
     "output_type": "execute_result"
    }
   ],
   "source": [
    "# import the dotenv package\n",
    "from dotenv import load_dotenv\n",
    "# Get the current working directory\n",
    "cwd = os.getcwd()\n",
    "\n",
    "# Construct the .env file path\n",
    "env_path = os.path.join(cwd, '.env')\n",
    "\n",
    "# Load the .env file\n",
    "load_dotenv(dotenv_path=env_path)"
   ]
  },
  {
   "cell_type": "code",
   "execution_count": 3,
   "metadata": {},
   "outputs": [],
   "source": [
    "\n",
    "\n",
    "# Import the google ai package\n",
    "#import openai\n",
    "\n",
    "# From the IPython.display package, import display and Markdown\n",
    "#from IPython.display import display, Markdown\n",
    "\n",
    "# Import square \n",
    "from square.client import Client"
   ]
  },
  {
   "cell_type": "code",
   "execution_count": 4,
   "metadata": {},
   "outputs": [],
   "source": [
    "# init the square API\n",
    "# using generic os environment this fails.\n",
    "# However, when using the dotenv package it works\n",
    "sq_client = Client(\n",
    "    access_token=os.environ['SQUARE_ACCESS_TOKEN'],\n",
    "    environment='sandbox'  \n",
    ")\n"
   ]
  },
  {
   "cell_type": "code",
   "execution_count": null,
   "metadata": {},
   "outputs": [],
   "source": []
  },
  {
   "cell_type": "code",
   "execution_count": 5,
   "metadata": {},
   "outputs": [
    {
     "name": "stdout",
     "output_type": "stream",
     "text": [
      "LJ8735SVX0PAN: Default Test Account, 1600 Pennsylvania Ave NW, Washington\n"
     ]
    }
   ],
   "source": [
    "# test the square API\n",
    "result = sq_client.locations.list_locations()\n",
    "\n",
    "if result.is_success():\n",
    "    for location in result.body['locations']:\n",
    "        print(f\"{location['id']}: \", end=\"\")\n",
    "        print(f\"{location['name']}, \", end=\"\")\n",
    "        print(f\"{location['address']['address_line_1']}, \", end=\"\")\n",
    "        print(f\"{location['address']['locality']}\")\n",
    "\n",
    "elif result.is_error():\n",
    "    for error in result.errors:\n",
    "        print(error['category'])\n",
    "        print(error['code'])\n",
    "        print(error['detail'])\n"
   ]
  },
  {
   "cell_type": "code",
   "execution_count": null,
   "metadata": {},
   "outputs": [],
   "source": []
  },
  {
   "cell_type": "markdown",
   "metadata": {},
   "source": [
    "# test inserting an object in storefront catalog"
   ]
  },
  {
   "cell_type": "code",
   "execution_count": 8,
   "metadata": {},
   "outputs": [
    {
     "name": "stdout",
     "output_type": "stream",
     "text": [
      "{'catalog_object': {'type': 'ITEM', 'id': 'VP2HUPG2M3J4VHWGXTRGCFHW', 'updated_at': '2023-09-23T13:45:59.455Z', 'created_at': '2023-09-23T13:45:59.455Z', 'version': 1695476759455, 'is_deleted': False, 'present_at_all_locations': True, 'item_data': {'name': 'Coffee', 'description': 'Coffee Drink', 'abbreviation': 'Co', 'is_taxable': True, 'variations': [{'type': 'ITEM_VARIATION', 'id': 'T24QETL7BWAGW6UPIR7Q2ULA', 'updated_at': '2023-09-23T13:45:59.455Z', 'created_at': '2023-09-23T13:45:59.455Z', 'version': 1695476759455, 'is_deleted': False, 'present_at_all_locations': True, 'item_variation_data': {'item_id': 'VP2HUPG2M3J4VHWGXTRGCFHW', 'name': 'Small', 'ordinal': 0, 'pricing_type': 'FIXED_PRICING', 'price_money': {'amount': 300, 'currency': 'USD'}, 'sellable': True, 'stockable': True}}, {'type': 'ITEM_VARIATION', 'id': 'HMRQ3CBI7XJ7VGAX2M4D7V5C', 'updated_at': '2023-09-23T13:45:59.455Z', 'created_at': '2023-09-23T13:45:59.455Z', 'version': 1695476759455, 'is_deleted': False, 'present_at_all_locations': True, 'item_variation_data': {'item_id': 'VP2HUPG2M3J4VHWGXTRGCFHW', 'name': 'Large', 'ordinal': 1, 'pricing_type': 'FIXED_PRICING', 'price_money': {'amount': 350, 'currency': 'USD'}, 'sellable': True, 'stockable': True}}], 'product_type': 'REGULAR', 'description_html': '<p>Coffee Drink</p>', 'description_plaintext': 'Coffee Drink', 'is_archived': False}}, 'id_mappings': [{'client_object_id': '#coffee', 'object_id': 'VP2HUPG2M3J4VHWGXTRGCFHW'}, {'client_object_id': '#small_coffee', 'object_id': 'T24QETL7BWAGW6UPIR7Q2ULA'}, {'client_object_id': '#large_coffee', 'object_id': 'HMRQ3CBI7XJ7VGAX2M4D7V5C'}]}\n"
     ]
    }
   ],
   "source": [
    "result = sq_client.catalog.upsert_catalog_object(\n",
    "  body = {\n",
    "    \"idempotency_key\": \"{UNIQUE_KEY}\",\n",
    "    \"object\": {\n",
    "      \"type\": \"ITEM\",\n",
    "      \"id\": \"#coffee\",\n",
    "      \"item_data\": {\n",
    "        \"name\": \"Coffee\",\n",
    "        \"description\": \"Coffee Drink\",\n",
    "        \"abbreviation\": \"Co\",\n",
    "        \"variations\": [\n",
    "          {\n",
    "            \"type\": \"ITEM_VARIATION\",\n",
    "            \"id\": \"#small_coffee\",\n",
    "            \"item_variation_data\": {\n",
    "              \"item_id\": \"#coffee\",\n",
    "              \"name\": \"Small\",\n",
    "              \"pricing_type\": \"FIXED_PRICING\",\n",
    "              \"price_money\": {\n",
    "                \"amount\": 300,\n",
    "                \"currency\": \"USD\"\n",
    "              }\n",
    "            }\n",
    "          },\n",
    "          {\n",
    "            \"type\": \"ITEM_VARIATION\",\n",
    "            \"id\": \"#large_coffee\",\n",
    "            \"item_variation_data\": {\n",
    "              \"item_id\": \"#coffee\",\n",
    "              \"name\": \"Large\",\n",
    "              \"pricing_type\": \"FIXED_PRICING\",\n",
    "              \"price_money\": {\n",
    "                \"amount\": 350,\n",
    "                \"currency\": \"USD\"\n",
    "              }\n",
    "            }\n",
    "          }\n",
    "        ]\n",
    "      }\n",
    "    }\n",
    "  }\n",
    ")\n",
    "\n",
    "if result.is_success():\n",
    "  print(result.body)\n",
    "elif result.is_error():\n",
    "  print(result.errors)"
   ]
  },
  {
   "cell_type": "code",
   "execution_count": null,
   "metadata": {},
   "outputs": [],
   "source": []
  },
  {
   "cell_type": "markdown",
   "metadata": {},
   "source": [
    "# verify the catalog has the item we added"
   ]
  },
  {
   "cell_type": "code",
   "execution_count": 9,
   "metadata": {},
   "outputs": [
    {
     "name": "stdout",
     "output_type": "stream",
     "text": [
      "{'objects': [{'type': 'ITEM', 'id': 'VP2HUPG2M3J4VHWGXTRGCFHW', 'updated_at': '2023-09-23T13:45:59.455Z', 'created_at': '2023-09-23T13:45:59.455Z', 'version': 1695476759455, 'is_deleted': False, 'present_at_all_locations': True, 'item_data': {'name': 'Coffee', 'description': 'Coffee Drink', 'abbreviation': 'Co', 'is_taxable': True, 'variations': [{'type': 'ITEM_VARIATION', 'id': 'T24QETL7BWAGW6UPIR7Q2ULA', 'updated_at': '2023-09-23T13:45:59.455Z', 'created_at': '2023-09-23T13:45:59.455Z', 'version': 1695476759455, 'is_deleted': False, 'present_at_all_locations': True, 'item_variation_data': {'item_id': 'VP2HUPG2M3J4VHWGXTRGCFHW', 'name': 'Small', 'ordinal': 0, 'pricing_type': 'FIXED_PRICING', 'price_money': {'amount': 300, 'currency': 'USD'}, 'sellable': True, 'stockable': True}}, {'type': 'ITEM_VARIATION', 'id': 'HMRQ3CBI7XJ7VGAX2M4D7V5C', 'updated_at': '2023-09-23T13:45:59.455Z', 'created_at': '2023-09-23T13:45:59.455Z', 'version': 1695476759455, 'is_deleted': False, 'present_at_all_locations': True, 'item_variation_data': {'item_id': 'VP2HUPG2M3J4VHWGXTRGCFHW', 'name': 'Large', 'ordinal': 1, 'pricing_type': 'FIXED_PRICING', 'price_money': {'amount': 350, 'currency': 'USD'}, 'sellable': True, 'stockable': True}}], 'product_type': 'REGULAR', 'description_html': '<p>Coffee Drink</p>', 'description_plaintext': 'Coffee Drink', 'is_archived': False}}]}\n"
     ]
    }
   ],
   "source": [
    "result = sq_client.catalog.list_catalog()\n",
    "\n",
    "if result.is_success():\n",
    "  print(result.body)\n",
    "elif result.is_error():\n",
    "  print(result.errors)"
   ]
  },
  {
   "cell_type": "code",
   "execution_count": null,
   "metadata": {},
   "outputs": [],
   "source": []
  }
 ],
 "metadata": {
  "kernelspec": {
   "display_name": "myenv",
   "language": "python",
   "name": "python3"
  },
  "language_info": {
   "codemirror_mode": {
    "name": "ipython",
    "version": 3
   },
   "file_extension": ".py",
   "mimetype": "text/x-python",
   "name": "python",
   "nbconvert_exporter": "python",
   "pygments_lexer": "ipython3",
   "version": "3.10.8"
  },
  "orig_nbformat": 4
 },
 "nbformat": 4,
 "nbformat_minor": 2
}
