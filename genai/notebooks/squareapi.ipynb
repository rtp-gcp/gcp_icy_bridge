{
 "cells": [
  {
   "cell_type": "code",
   "execution_count": 1,
   "metadata": {},
   "outputs": [],
   "source": [
    "# Import the os package\n",
    "import os"
   ]
  },
  {
   "cell_type": "code",
   "execution_count": 9,
   "metadata": {},
   "outputs": [
    {
     "data": {
      "text/plain": [
       "True"
      ]
     },
     "execution_count": 9,
     "metadata": {},
     "output_type": "execute_result"
    }
   ],
   "source": [
    "# import the dotenv package\n",
    "from dotenv import load_dotenv\n",
    "# Get the current working directory\n",
    "cwd = os.getcwd()\n",
    "\n",
    "# Construct the .env file path\n",
    "env_path = os.path.join(cwd, '.env')\n",
    "\n",
    "# Load the .env file\n",
    "load_dotenv(dotenv_path=env_path)"
   ]
  },
  {
   "cell_type": "code",
   "execution_count": 7,
   "metadata": {},
   "outputs": [],
   "source": [
    "\n",
    "\n",
    "# Import the google ai package\n",
    "#import openai\n",
    "\n",
    "# From the IPython.display package, import display and Markdown\n",
    "#from IPython.display import display, Markdown\n",
    "\n",
    "# Import square \n",
    "from square.client import Client"
   ]
  },
  {
   "cell_type": "code",
   "execution_count": 11,
   "metadata": {},
   "outputs": [],
   "source": [
    "# init the square API\n",
    "# using generic os environment this fails.\n",
    "# However, when using the dotenv package it works\n",
    "sq_client = Client(\n",
    "    access_token=os.environ['SQUARE_ACCESS_TOKEN'],\n",
    "    environment='sandbox'  \n",
    ")\n"
   ]
  },
  {
   "cell_type": "code",
   "execution_count": null,
   "metadata": {},
   "outputs": [],
   "source": []
  },
  {
   "cell_type": "code",
   "execution_count": 12,
   "metadata": {},
   "outputs": [
    {
     "name": "stdout",
     "output_type": "stream",
     "text": [
      "LJ8735SVX0PAN: Default Test Account, 1600 Pennsylvania Ave NW, Washington\n"
     ]
    }
   ],
   "source": [
    "# test the square API\n",
    "result = sq_client.locations.list_locations()\n",
    "\n",
    "if result.is_success():\n",
    "    for location in result.body['locations']:\n",
    "        print(f\"{location['id']}: \", end=\"\")\n",
    "        print(f\"{location['name']}, \", end=\"\")\n",
    "        print(f\"{location['address']['address_line_1']}, \", end=\"\")\n",
    "        print(f\"{location['address']['locality']}\")\n",
    "\n",
    "elif result.is_error():\n",
    "    for error in result.errors:\n",
    "        print(error['category'])\n",
    "        print(error['code'])\n",
    "        print(error['detail'])\n"
   ]
  }
 ],
 "metadata": {
  "kernelspec": {
   "display_name": "myenv",
   "language": "python",
   "name": "python3"
  },
  "language_info": {
   "codemirror_mode": {
    "name": "ipython",
    "version": 3
   },
   "file_extension": ".py",
   "mimetype": "text/x-python",
   "name": "python",
   "nbconvert_exporter": "python",
   "pygments_lexer": "ipython3",
   "version": "3.10.8"
  },
  "orig_nbformat": 4
 },
 "nbformat": 4,
 "nbformat_minor": 2
}
