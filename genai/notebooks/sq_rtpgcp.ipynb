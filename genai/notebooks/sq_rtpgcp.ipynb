{
 "cells": [
  {
   "cell_type": "code",
   "execution_count": 1,
   "metadata": {},
   "outputs": [],
   "source": [
    "# Import the os package, used to set env variables and check paths\n",
    "import os\n",
    "# import the dotenv package for client keys in .env file\n",
    "from dotenv import load_dotenv\n",
    "# for random UUID keys\n",
    "# https://docs.python.org/3/library/uuid.html\n",
    "import uuid\n",
    "# Import square \n",
    "from square.client import Client\n",
    "# for pretty print\n",
    "import pprint"
   ]
  },
  {
   "cell_type": "code",
   "execution_count": 2,
   "metadata": {},
   "outputs": [
    {
     "data": {
      "text/plain": [
       "True"
      ]
     },
     "execution_count": 2,
     "metadata": {},
     "output_type": "execute_result"
    }
   ],
   "source": [
    "# Get the current working directory\n",
    "cwd = os.getcwd()\n",
    "\n",
    "# Construct the .env file path\n",
    "env_path = os.path.join(cwd, '.env')\n",
    "\n",
    "# Load the .env file\n",
    "load_dotenv(dotenv_path=env_path)"
   ]
  },
  {
   "cell_type": "code",
   "execution_count": 3,
   "metadata": {},
   "outputs": [],
   "source": [
    "%%bash\n",
    "#echo \"SQUARE_ACCESS_TOKEN: ${SQUARE_ACCESS_TOKEN}\"\n",
    "#echo \"SQUARE_APP_ID: ${SQUARE_APP_ID}\"\n",
    "#git clone https://github.com/square/square-python-sdk.git\n",
    "#cd square-python-sdk\n",
    "#pip install .\n"
   ]
  },
  {
   "cell_type": "markdown",
   "metadata": {},
   "source": [
    "@hidden_cell"
   ]
  },
  {
   "cell_type": "code",
   "execution_count": 4,
   "metadata": {},
   "outputs": [],
   "source": [
    "# init the square API\n",
    "# using generic os environment this fails.\n",
    "# However, when using the dotenv package it works\n",
    "sq_client = Client(\n",
    "    access_token=os.environ['SQUARE_ACCESS_TOKEN'],\n",
    "    environment='production'  \n",
    ")\n"
   ]
  },
  {
   "cell_type": "markdown",
   "metadata": {},
   "source": [
    "# Create a new item and associate with a new image"
   ]
  },
  {
   "cell_type": "markdown",
   "metadata": {},
   "source": [
    "## step 1 create a catalog item and add to library"
   ]
  },
  {
   "cell_type": "code",
   "execution_count": 35,
   "metadata": {},
   "outputs": [
    {
     "name": "stdout",
     "output_type": "stream",
     "text": [
      "{'catalog_object': {'type': 'ITEM', 'id': 'SVOC3E6ATAISO4SJPPYOSC4N', 'updated_at': '2023-09-24T14:34:36.231Z', 'created_at': '2023-09-24T14:34:36.231Z', 'version': 1695566076231, 'is_deleted': False, 'present_at_all_locations': True, 'item_data': {'name': 'Nick Fury Doll', 'description': 'something about Nick Fury from vertex ai', 'abbreviation': 'DFDD', 'is_taxable': True, 'variations': [{'type': 'ITEM_VARIATION', 'id': 'DKS3MZBOE34DQE7FP6K57D5R', 'updated_at': '2023-09-24T14:34:36.231Z', 'created_at': '2023-09-24T14:34:36.231Z', 'version': 1695566076231, 'is_deleted': False, 'present_at_all_locations': True, 'item_variation_data': {'item_id': 'SVOC3E6ATAISO4SJPPYOSC4N', 'name': 'Small doll', 'ordinal': 0, 'pricing_type': 'FIXED_PRICING', 'price_money': {'amount': 300, 'currency': 'USD'}, 'sellable': True, 'stockable': True}}], 'product_type': 'REGULAR', 'description_html': '<p>something about Nick Fury from vertex ai</p>', 'description_plaintext': 'something about Nick Fury from vertex ai', 'is_archived': False}}, 'id_mappings': [{'client_object_id': '#nickfurydoll', 'object_id': 'SVOC3E6ATAISO4SJPPYOSC4N'}, {'client_object_id': '#somenickfuryvariation', 'object_id': 'DKS3MZBOE34DQE7FP6K57D5R'}]}\n"
     ]
    }
   ],
   "source": [
    "# create a key\n",
    "uniq_uuid = uuid.uuid4()\n",
    "#print(\"uniq_uuid: \", uniq_uuid)\n",
    "\n",
    "result = sq_client.catalog.upsert_catalog_object(\n",
    "  body = {\n",
    "    \"idempotency_key\": str(uniq_uuid),\n",
    "    \"object\": {\n",
    "      \"type\": \"ITEM\",\n",
    "      \"id\": \"#nickfurydoll\",\n",
    "      \"item_data\": {\n",
    "        \"name\": \"Nick Fury Doll\",\n",
    "        \"description\": \"something about Nick Fury from vertex ai\",\n",
    "        \"abbreviation\": \"DFDD\",\n",
    "        \"variations\": [\n",
    "          {\n",
    "            \"type\": \"ITEM_VARIATION\",\n",
    "            \"id\": \"#somenickfuryvariation\",\n",
    "            \"item_variation_data\": {\n",
    "              \"item_id\": \"#nickfurydoll\",\n",
    "              \"name\": \"Small doll\",\n",
    "              \"pricing_type\": \"FIXED_PRICING\",\n",
    "              \"price_money\": {\n",
    "                \"amount\": 300,\n",
    "                \"currency\": \"USD\"\n",
    "              }\n",
    "            }\n",
    "          },\n",
    "        ]\n",
    "      }\n",
    "    }\n",
    "  }\n",
    ")\n",
    "\n",
    "if result.is_success():\n",
    "  print(result.body)\n",
    "elif result.is_error():\n",
    "  print(result.errors)"
   ]
  },
  {
   "cell_type": "code",
   "execution_count": 42,
   "metadata": {},
   "outputs": [
    {
     "name": "stdout",
     "output_type": "stream",
     "text": [
      "SVOC3E6ATAISO4SJPPYOSC4N\n"
     ]
    }
   ],
   "source": [
    "# print and save the object id\n",
    "pp = pprint.PrettyPrinter(indent=4)\n",
    "#pp.pprint(result.body)\n",
    "# Save off the ids\n",
    "result_nick_fury = result\n",
    "nick_fury_cat_obj_id = result_nick_fury.body['catalog_object']['id']\n",
    "print(nick_fury_cat_obj_id)\n",
    "# type is 'ITEM'\n",
    "#print(nick_fury_cat_obj_id['type'])"
   ]
  },
  {
   "cell_type": "markdown",
   "metadata": {},
   "source": [
    "## Step 2 upload an image an associate with the catalog item\n"
   ]
  },
  {
   "cell_type": "code",
   "execution_count": 44,
   "metadata": {},
   "outputs": [
    {
     "name": "stdout",
     "output_type": "stream",
     "text": [
      "{'image': {'type': 'IMAGE', 'id': 'YZBW4KPTBQT2MRH6AJ3OTQWF', 'updated_at': '2023-09-24T14:41:17.472Z', 'created_at': '2023-09-24T14:41:17.472Z', 'version': 1695566477472, 'is_deleted': False, 'present_at_all_locations': True, 'image_data': {'name': 'NickFury Doll Image', 'url': 'https://items-images-production.s3.us-west-2.amazonaws.com/files/2e7be50da564218c0327c39300dfd2198445bd2d/original.jpeg', 'caption': 'image caption nick fury'}}}\n"
     ]
    }
   ],
   "source": [
    "# create a key\n",
    "uniq_uuid = uuid.uuid4()\n",
    "#print(\"uniq_uuid: \", uniq_uuid)\n",
    "\n",
    "file_to_upload_path = \"./sample_imgs/nickfury.jpeg\" # Modify this to point to your desired file.\n",
    "f_stream = open(file_to_upload_path, \"rb\")\n",
    "\n",
    "\n",
    "\n",
    "result = sq_client.catalog.create_catalog_image(\n",
    "  request = {\n",
    "    \"idempotency_key\": str(uniq_uuid),\n",
    "     \"object_id\": nick_fury_cat_obj_id,\n",
    "    \"image\": {\n",
    "      \"type\": \"IMAGE\",\n",
    "      \"id\": \"#image_id\",\n",
    "      \"image_data\": {\n",
    "        \"name\": \"NickFury Doll Image\",\n",
    "        \"caption\": \"image caption nick fury\"\n",
    "      }\n",
    "    }\n",
    "  },\n",
    "  image_file = f_stream\n",
    ")\n",
    "\n",
    "if result.is_success():\n",
    "  print(result.body)\n",
    "elif result.is_error():\n",
    "  print(result.errors)"
   ]
  },
  {
   "cell_type": "markdown",
   "metadata": {},
   "source": [
    "# verify the catalog has the item we added"
   ]
  },
  {
   "cell_type": "code",
   "execution_count": 46,
   "metadata": {},
   "outputs": [
    {
     "name": "stdout",
     "output_type": "stream",
     "text": [
      "{'objects': [{'type': 'CUSTOM_ATTRIBUTE_DEFINITION', 'id': 'TN6I6F7QXTEKDRT4M5F6JA7J', 'updated_at': '2023-09-17T16:01:13.582Z', 'created_at': '2023-09-17T16:01:13.582Z', 'version': 1694966473582, 'is_deleted': False, 'present_at_all_locations': True, 'custom_attribute_definition_data': {'type': 'BOOLEAN', 'name': 'Is Alcoholic', 'description': 'Enabling this toggle on an item indicates that it contains alcohol.', 'source_application': {'application_id': 'sq0idp-w46nJ_NCNDMSOywaCY0mwA', 'name': 'Square Online Store'}, 'allowed_object_types': ['ITEM'], 'seller_visibility': 'SELLER_VISIBILITY_HIDDEN', 'app_visibility': 'APP_VISIBILITY_HIDDEN', 'key': 'is_alcoholic'}}, {'type': 'CUSTOM_ATTRIBUTE_DEFINITION', 'id': 'KKJDEQ5ET5QY232B3XO4GRR2', 'updated_at': '2023-09-17T16:01:13.869Z', 'created_at': '2023-09-17T16:01:13.869Z', 'version': 1694966473869, 'is_deleted': False, 'present_at_all_locations': True, 'custom_attribute_definition_data': {'type': 'STRING', 'name': 'Ecom Storefront Classic Site ID', 'description': 'Ecommerce bridge target storefront classic site ID. Used to create site-item associations after copying items.', 'source_application': {'application_id': 'sq0idp-w46nJ_NCNDMSOywaCY0mwA', 'name': 'Square Online Store'}, 'allowed_object_types': ['ITEM'], 'seller_visibility': 'SELLER_VISIBILITY_HIDDEN', 'app_visibility': 'APP_VISIBILITY_HIDDEN', 'string_config': {'enforce_uniqueness': False}, 'key': 'ecom_target_classic_site_id'}}, {'type': 'ITEM', 'id': '54W3KGCVBKS35AUXRH2ZSMVS', 'updated_at': '2023-09-24T13:26:19.086Z', 'created_at': '2023-09-24T13:25:52.387Z', 'version': 1695561979086, 'is_deleted': False, 'present_at_all_locations': True, 'item_data': {'name': 'Coffee', 'description': 'Coffee Drink', 'abbreviation': 'Co', 'is_taxable': True, 'variations': [{'type': 'ITEM_VARIATION', 'id': '33TNMBFE7TJHYPMLOTKVCFK3', 'updated_at': '2023-09-24T13:25:52.387Z', 'created_at': '2023-09-24T13:25:52.387Z', 'version': 1695561952387, 'is_deleted': False, 'present_at_all_locations': True, 'item_variation_data': {'item_id': '54W3KGCVBKS35AUXRH2ZSMVS', 'name': 'Small', 'ordinal': 0, 'pricing_type': 'FIXED_PRICING', 'price_money': {'amount': 300, 'currency': 'USD'}, 'sellable': True, 'stockable': True}}, {'type': 'ITEM_VARIATION', 'id': 'JMUEIPNK3PLVRC6OEMDE4SNE', 'updated_at': '2023-09-24T13:25:52.387Z', 'created_at': '2023-09-24T13:25:52.387Z', 'version': 1695561952387, 'is_deleted': False, 'present_at_all_locations': True, 'item_variation_data': {'item_id': '54W3KGCVBKS35AUXRH2ZSMVS', 'name': 'Large', 'ordinal': 1, 'pricing_type': 'FIXED_PRICING', 'price_money': {'amount': 350, 'currency': 'USD'}, 'sellable': True, 'stockable': True}}], 'product_type': 'REGULAR', 'ecom_available': True, 'ecom_visibility': 'VISIBLE', 'description_html': '<p>Coffee Drink</p>', 'description_plaintext': 'Coffee Drink', 'is_archived': False}}, {'type': 'ITEM', 'id': 'OJ62QQ6Z5R32DZIFKXIHDZHM', 'updated_at': '2023-09-24T13:39:46.785Z', 'created_at': '2023-09-24T13:39:08.66Z', 'version': 1695562786785, 'is_deleted': False, 'present_at_all_locations': True, 'item_data': {'name': 'Coffee', 'description': 'Coffee Drink', 'abbreviation': 'Co', 'is_taxable': True, 'variations': [{'type': 'ITEM_VARIATION', 'id': 'E4JSBUJINL3SEWG3NAHYVMOC', 'updated_at': '2023-09-24T13:39:08.66Z', 'created_at': '2023-09-24T13:39:08.66Z', 'version': 1695562748660, 'is_deleted': False, 'present_at_all_locations': True, 'item_variation_data': {'item_id': 'OJ62QQ6Z5R32DZIFKXIHDZHM', 'name': 'Small', 'ordinal': 0, 'pricing_type': 'FIXED_PRICING', 'price_money': {'amount': 300, 'currency': 'USD'}, 'sellable': True, 'stockable': True}}, {'type': 'ITEM_VARIATION', 'id': 'FUBJXBFDFPI6YWUQQWT5PYSL', 'updated_at': '2023-09-24T13:39:08.66Z', 'created_at': '2023-09-24T13:39:08.66Z', 'version': 1695562748660, 'is_deleted': False, 'present_at_all_locations': True, 'item_variation_data': {'item_id': 'OJ62QQ6Z5R32DZIFKXIHDZHM', 'name': 'Large', 'ordinal': 1, 'pricing_type': 'FIXED_PRICING', 'price_money': {'amount': 350, 'currency': 'USD'}, 'sellable': True, 'stockable': True}}], 'product_type': 'REGULAR', 'ecom_available': True, 'ecom_visibility': 'VISIBLE', 'description_html': '<p>Coffee Drink</p>', 'description_plaintext': 'Coffee Drink', 'is_archived': False}}, {'type': 'ITEM', 'id': 'GKIDR7LLPLA7LT34D3QPBI4D', 'updated_at': '2023-09-24T14:28:16.319Z', 'created_at': '2023-09-24T14:01:49.277Z', 'version': 1695565696319, 'is_deleted': False, 'present_at_all_locations': True, 'item_data': {'name': 'Dr Doom Doll', 'description': 'something about dr doom from vertex ai', 'abbreviation': 'DRDD', 'is_taxable': True, 'variations': [{'type': 'ITEM_VARIATION', 'id': 'N5BSSSTNFTJDXCCQFMWHWYZU', 'updated_at': '2023-09-24T14:01:49.277Z', 'created_at': '2023-09-24T14:01:49.277Z', 'version': 1695564109277, 'is_deleted': False, 'present_at_all_locations': True, 'item_variation_data': {'item_id': 'GKIDR7LLPLA7LT34D3QPBI4D', 'name': 'Small', 'ordinal': 0, 'pricing_type': 'FIXED_PRICING', 'price_money': {'amount': 300, 'currency': 'USD'}, 'sellable': True, 'stockable': True}}], 'product_type': 'REGULAR', 'ecom_available': True, 'ecom_visibility': 'VISIBLE', 'image_ids': ['OW6GLIMXRCZZUXTZSEEUMSOB'], 'description_html': '<p>something about dr doom from vertex ai</p>', 'description_plaintext': 'something about dr doom from vertex ai', 'is_archived': False}}, {'type': 'ITEM', 'id': 'SVOC3E6ATAISO4SJPPYOSC4N', 'updated_at': '2023-09-24T14:45:57.888Z', 'created_at': '2023-09-24T14:34:36.231Z', 'version': 1695566757888, 'is_deleted': False, 'present_at_all_locations': True, 'item_data': {'name': 'Nick Fury Doll', 'description': 'something about Nick Fury from vertex ai', 'abbreviation': 'DFDD', 'is_taxable': True, 'variations': [{'type': 'ITEM_VARIATION', 'id': 'DKS3MZBOE34DQE7FP6K57D5R', 'updated_at': '2023-09-24T14:44:39.507Z', 'created_at': '2023-09-24T14:34:36.231Z', 'version': 1695566679507, 'is_deleted': False, 'present_at_all_locations': True, 'item_variation_data': {'item_id': 'SVOC3E6ATAISO4SJPPYOSC4N', 'name': 'Small doll', 'ordinal': 0, 'pricing_type': 'FIXED_PRICING', 'price_money': {'amount': 300, 'currency': 'USD'}, 'sellable': True, 'stockable': True, 'channels': ['CH_JUmVwhwpkvbQx4R8gulOlRgqxNIFwY9iO4pfYRlQuYC']}}], 'product_type': 'REGULAR', 'ecom_available': True, 'ecom_visibility': 'VISIBLE', 'image_ids': ['YZBW4KPTBQT2MRH6AJ3OTQWF'], 'pickup_fulfillment_preferences_id': 'fprefs_127sa8a0fxo5xdn0g12c6qbhg', 'delivery_fulfillment_preferences_id': 'fprefs_127sa8a0f9mnhjwsk7r7i39us', 'description_html': '<p>something about Nick Fury from vertex ai</p>', 'description_plaintext': 'something about Nick Fury from vertex ai', 'channels': ['CH_JUmVwhwpkvbQx4R8gulOlRgqxNIFwY9iO4pfYRlQuYC'], 'shipping_fulfillment_preferences_id': 'fprefs_127sa8a0g9p6c91olt4oxi6jo', 'dine_in_fulfillment_preferences_id': 'fprefs_127sa8a0fm0xwbtgo1xmde17o', 'is_archived': False}}]}\n"
     ]
    }
   ],
   "source": [
    "result = sq_client.catalog.list_catalog()\n",
    "\n",
    "if result.is_success():\n",
    "  print(result.body)\n",
    "elif result.is_error():\n",
    "  print(result.errors)\n",
    "\n"
   ]
  },
  {
   "cell_type": "code",
   "execution_count": null,
   "metadata": {},
   "outputs": [],
   "source": []
  }
 ],
 "metadata": {
  "kernelspec": {
   "display_name": "myenv",
   "language": "python",
   "name": "python3"
  },
  "language_info": {
   "codemirror_mode": {
    "name": "ipython",
    "version": 3
   },
   "file_extension": ".py",
   "mimetype": "text/x-python",
   "name": "python",
   "nbconvert_exporter": "python",
   "pygments_lexer": "ipython3",
   "version": "3.10.8"
  },
  "orig_nbformat": 4
 },
 "nbformat": 4,
 "nbformat_minor": 2
}
