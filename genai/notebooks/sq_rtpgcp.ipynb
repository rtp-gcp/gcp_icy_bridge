{
 "cells": [
  {
   "cell_type": "code",
   "execution_count": 1,
   "metadata": {},
   "outputs": [],
   "source": [
    "# Import the os package\n",
    "import os"
   ]
  },
  {
   "cell_type": "code",
   "execution_count": 2,
   "metadata": {},
   "outputs": [
    {
     "data": {
      "text/plain": [
       "True"
      ]
     },
     "execution_count": 2,
     "metadata": {},
     "output_type": "execute_result"
    }
   ],
   "source": [
    "# import the dotenv package\n",
    "from dotenv import load_dotenv\n",
    "# Get the current working directory\n",
    "cwd = os.getcwd()\n",
    "\n",
    "# Construct the .env file path\n",
    "env_path = os.path.join(cwd, '.env')\n",
    "\n",
    "# Load the .env file\n",
    "load_dotenv(dotenv_path=env_path)"
   ]
  },
  {
   "cell_type": "code",
   "execution_count": 3,
   "metadata": {},
   "outputs": [],
   "source": [
    "%%bash\n",
    "#echo \"SQUARE_ACCESS_TOKEN: ${SQUARE_ACCESS_TOKEN}\"\n",
    "#echo \"SQUARE_APP_ID: ${SQUARE_APP_ID}\"\n",
    "#git clone https://github.com/square/square-python-sdk.git\n",
    "#cd square-python-sdk\n",
    "#pip install ."
   ]
  },
  {
   "cell_type": "markdown",
   "metadata": {},
   "source": [
    "@hidden_cell"
   ]
  },
  {
   "cell_type": "code",
   "execution_count": 4,
   "metadata": {},
   "outputs": [],
   "source": [
    "# Import square \n",
    "from square.client import Client"
   ]
  },
  {
   "cell_type": "code",
   "execution_count": 5,
   "metadata": {},
   "outputs": [],
   "source": [
    "# init the square API\n",
    "# using generic os environment this fails.\n",
    "# However, when using the dotenv package it works\n",
    "sq_client = Client(\n",
    "    access_token=os.environ['SQUARE_ACCESS_TOKEN'],\n",
    "    environment='production'  \n",
    ")\n"
   ]
  },
  {
   "cell_type": "markdown",
   "metadata": {},
   "source": [
    "# test inserting an object in storefront catalog\n",
    "\n",
    "This will add a coffee item to the library."
   ]
  },
  {
   "cell_type": "code",
   "execution_count": 6,
   "metadata": {},
   "outputs": [
    {
     "name": "stdout",
     "output_type": "stream",
     "text": [
      "{'catalog_object': {'type': 'ITEM', 'id': '2K7F5OT3KVATGBSQRAFNEPZ5', 'updated_at': '2023-09-23T14:00:58.766Z', 'created_at': '2023-09-23T14:00:58.766Z', 'version': 1695477658766, 'is_deleted': False, 'present_at_all_locations': True, 'item_data': {'name': 'Coffee', 'description': 'Coffee Drink', 'abbreviation': 'Co', 'is_taxable': True, 'variations': [{'type': 'ITEM_VARIATION', 'id': 'LJECFR2EH3ZFG6J3SV5K434L', 'updated_at': '2023-09-23T14:00:58.766Z', 'created_at': '2023-09-23T14:00:58.766Z', 'version': 1695477658766, 'is_deleted': False, 'present_at_all_locations': True, 'item_variation_data': {'item_id': '2K7F5OT3KVATGBSQRAFNEPZ5', 'name': 'Small', 'ordinal': 0, 'pricing_type': 'FIXED_PRICING', 'price_money': {'amount': 300, 'currency': 'USD'}, 'sellable': True, 'stockable': True}}, {'type': 'ITEM_VARIATION', 'id': 'PHYBY7IHOR77DPNMLJI4552F', 'updated_at': '2023-09-23T14:00:58.766Z', 'created_at': '2023-09-23T14:00:58.766Z', 'version': 1695477658766, 'is_deleted': False, 'present_at_all_locations': True, 'item_variation_data': {'item_id': '2K7F5OT3KVATGBSQRAFNEPZ5', 'name': 'Large', 'ordinal': 1, 'pricing_type': 'FIXED_PRICING', 'price_money': {'amount': 350, 'currency': 'USD'}, 'sellable': True, 'stockable': True}}], 'product_type': 'REGULAR', 'description_html': '<p>Coffee Drink</p>', 'description_plaintext': 'Coffee Drink', 'is_archived': False}}, 'id_mappings': [{'client_object_id': '#coffee', 'object_id': '2K7F5OT3KVATGBSQRAFNEPZ5'}, {'client_object_id': '#small_coffee', 'object_id': 'LJECFR2EH3ZFG6J3SV5K434L'}, {'client_object_id': '#large_coffee', 'object_id': 'PHYBY7IHOR77DPNMLJI4552F'}]}\n"
     ]
    }
   ],
   "source": [
    "result = sq_client.catalog.upsert_catalog_object(\n",
    "  body = {\n",
    "    \"idempotency_key\": \"{UNIQUE_KEY}\",\n",
    "    \"object\": {\n",
    "      \"type\": \"ITEM\",\n",
    "      \"id\": \"#coffee\",\n",
    "      \"item_data\": {\n",
    "        \"name\": \"Coffee\",\n",
    "        \"description\": \"Coffee Drink\",\n",
    "        \"abbreviation\": \"Co\",\n",
    "        \"variations\": [\n",
    "          {\n",
    "            \"type\": \"ITEM_VARIATION\",\n",
    "            \"id\": \"#small_coffee\",\n",
    "            \"item_variation_data\": {\n",
    "              \"item_id\": \"#coffee\",\n",
    "              \"name\": \"Small\",\n",
    "              \"pricing_type\": \"FIXED_PRICING\",\n",
    "              \"price_money\": {\n",
    "                \"amount\": 300,\n",
    "                \"currency\": \"USD\"\n",
    "              }\n",
    "            }\n",
    "          },\n",
    "          {\n",
    "            \"type\": \"ITEM_VARIATION\",\n",
    "            \"id\": \"#large_coffee\",\n",
    "            \"item_variation_data\": {\n",
    "              \"item_id\": \"#coffee\",\n",
    "              \"name\": \"Large\",\n",
    "              \"pricing_type\": \"FIXED_PRICING\",\n",
    "              \"price_money\": {\n",
    "                \"amount\": 350,\n",
    "                \"currency\": \"USD\"\n",
    "              }\n",
    "            }\n",
    "          }\n",
    "        ]\n",
    "      }\n",
    "    }\n",
    "  }\n",
    ")\n",
    "\n",
    "if result.is_success():\n",
    "  print(result.body)\n",
    "elif result.is_error():\n",
    "  print(result.errors)"
   ]
  },
  {
   "cell_type": "code",
   "execution_count": null,
   "metadata": {},
   "outputs": [],
   "source": []
  },
  {
   "cell_type": "markdown",
   "metadata": {},
   "source": [
    "# verify the catalog has the item we added"
   ]
  },
  {
   "cell_type": "code",
   "execution_count": 7,
   "metadata": {},
   "outputs": [
    {
     "name": "stdout",
     "output_type": "stream",
     "text": [
      "{'objects': [{'type': 'CUSTOM_ATTRIBUTE_DEFINITION', 'id': 'TN6I6F7QXTEKDRT4M5F6JA7J', 'updated_at': '2023-09-17T16:01:13.582Z', 'created_at': '2023-09-17T16:01:13.582Z', 'version': 1694966473582, 'is_deleted': False, 'present_at_all_locations': True, 'custom_attribute_definition_data': {'type': 'BOOLEAN', 'name': 'Is Alcoholic', 'description': 'Enabling this toggle on an item indicates that it contains alcohol.', 'source_application': {'application_id': 'sq0idp-w46nJ_NCNDMSOywaCY0mwA', 'name': 'Square Online Store'}, 'allowed_object_types': ['ITEM'], 'seller_visibility': 'SELLER_VISIBILITY_HIDDEN', 'app_visibility': 'APP_VISIBILITY_HIDDEN', 'key': 'is_alcoholic'}}, {'type': 'CUSTOM_ATTRIBUTE_DEFINITION', 'id': 'KKJDEQ5ET5QY232B3XO4GRR2', 'updated_at': '2023-09-17T16:01:13.869Z', 'created_at': '2023-09-17T16:01:13.869Z', 'version': 1694966473869, 'is_deleted': False, 'present_at_all_locations': True, 'custom_attribute_definition_data': {'type': 'STRING', 'name': 'Ecom Storefront Classic Site ID', 'description': 'Ecommerce bridge target storefront classic site ID. Used to create site-item associations after copying items.', 'source_application': {'application_id': 'sq0idp-w46nJ_NCNDMSOywaCY0mwA', 'name': 'Square Online Store'}, 'allowed_object_types': ['ITEM'], 'seller_visibility': 'SELLER_VISIBILITY_HIDDEN', 'app_visibility': 'APP_VISIBILITY_HIDDEN', 'string_config': {'enforce_uniqueness': False}, 'key': 'ecom_target_classic_site_id'}}, {'type': 'ITEM', 'id': '2K7F5OT3KVATGBSQRAFNEPZ5', 'updated_at': '2023-09-23T14:20:40.966Z', 'created_at': '2023-09-23T14:00:58.766Z', 'version': 1695478840966, 'is_deleted': False, 'present_at_all_locations': True, 'item_data': {'name': 'Coffee', 'description': 'Coffee Drink', 'abbreviation': 'Co', 'is_taxable': True, 'variations': [{'type': 'ITEM_VARIATION', 'id': 'LJECFR2EH3ZFG6J3SV5K434L', 'updated_at': '2023-09-23T14:19:53.47Z', 'created_at': '2023-09-23T14:00:58.766Z', 'version': 1695478793470, 'is_deleted': False, 'present_at_all_locations': True, 'item_variation_data': {'item_id': '2K7F5OT3KVATGBSQRAFNEPZ5', 'name': 'Small', 'ordinal': 0, 'pricing_type': 'FIXED_PRICING', 'price_money': {'amount': 300, 'currency': 'USD'}, 'sellable': True, 'stockable': True, 'channels': ['CH_JUmVwhwpkvbQx4R8gulOlRgqxNIFwY9iO4pfYRlQuYC']}}, {'type': 'ITEM_VARIATION', 'id': 'PHYBY7IHOR77DPNMLJI4552F', 'updated_at': '2023-09-23T14:19:53.47Z', 'created_at': '2023-09-23T14:00:58.766Z', 'version': 1695478793470, 'is_deleted': False, 'present_at_all_locations': True, 'item_variation_data': {'item_id': '2K7F5OT3KVATGBSQRAFNEPZ5', 'name': 'Large', 'ordinal': 1, 'pricing_type': 'FIXED_PRICING', 'price_money': {'amount': 350, 'currency': 'USD'}, 'sellable': True, 'stockable': True, 'channels': ['CH_JUmVwhwpkvbQx4R8gulOlRgqxNIFwY9iO4pfYRlQuYC']}}], 'product_type': 'REGULAR', 'ecom_available': True, 'ecom_visibility': 'VISIBLE', 'image_ids': ['CWGQ2UZJTN7MQ2QZMCRHKUK6'], 'pickup_fulfillment_preferences_id': 'fprefs_127s90mfghi362lmw632wye2v', 'delivery_fulfillment_preferences_id': 'fprefs_127s90mffs6graalaqmh132dj', 'description_html': '<p>Coffee Drink</p>', 'description_plaintext': 'Coffee Drink', 'channels': ['CH_JUmVwhwpkvbQx4R8gulOlRgqxNIFwY9iO4pfYRlQuYC'], 'shipping_fulfillment_preferences_id': 'fprefs_127s90mfgurab0hdnc0ntew93', 'dine_in_fulfillment_preferences_id': 'fprefs_127s90mfg4vjdgadjl5owg69z', 'is_archived': False}}]}\n"
     ]
    }
   ],
   "source": [
    "result = sq_client.catalog.list_catalog()\n",
    "\n",
    "if result.is_success():\n",
    "  print(result.body)\n",
    "elif result.is_error():\n",
    "  print(result.errors)"
   ]
  },
  {
   "cell_type": "code",
   "execution_count": null,
   "metadata": {},
   "outputs": [],
   "source": []
  },
  {
   "cell_type": "markdown",
   "metadata": {},
   "source": [
    "# upload an image\n",
    "\n",
    "1. Create an unattached catalog image obj"
   ]
  },
  {
   "cell_type": "code",
   "execution_count": 11,
   "metadata": {},
   "outputs": [
    {
     "name": "stdout",
     "output_type": "stream",
     "text": [
      "[{'category': 'INVALID_REQUEST_ERROR', 'code': 'IDEMPOTENCY_KEY_REUSED', 'detail': 'The idempotency key can only be retried with the same request data.', 'field': 'idempotency_key'}]\n"
     ]
    }
   ],
   "source": [
    "file_to_upload_path = \"./sample_imgs/drdoom.jpeg\" # Modify this to point to your desired file.\n",
    "f_stream = open(file_to_upload_path, \"rb\")\n",
    "\n",
    "\n",
    "result = sq_client.catalog.create_catalog_image(\n",
    "  request = {\n",
    "    \"idempotency_key\": \"{UNIQUE_KEY}\",\n",
    "    \"image\": {\n",
    "      \"type\": \"IMAGE\",\n",
    "      \"id\": \"#image_id\",\n",
    "      \"image_data\": {\n",
    "        \"name\": \"Image name\",\n",
    "        \"caption\": \"Image caption\"\n",
    "      }\n",
    "    }\n",
    "  },\n",
    "  image_file = f_stream\n",
    ")\n",
    "\n",
    "if result.is_success():\n",
    "  print(result.body)\n",
    "elif result.is_error():\n",
    "  print(result.errors)\n",
    "\n",
    "\n",
    "\n"
   ]
  },
  {
   "cell_type": "code",
   "execution_count": null,
   "metadata": {},
   "outputs": [],
   "source": []
  }
 ],
 "metadata": {
  "kernelspec": {
   "display_name": "myenv",
   "language": "python",
   "name": "python3"
  },
  "language_info": {
   "codemirror_mode": {
    "name": "ipython",
    "version": 3
   },
   "file_extension": ".py",
   "mimetype": "text/x-python",
   "name": "python",
   "nbconvert_exporter": "python",
   "pygments_lexer": "ipython3",
   "version": "3.10.8"
  },
  "orig_nbformat": 4
 },
 "nbformat": 4,
 "nbformat_minor": 2
}
