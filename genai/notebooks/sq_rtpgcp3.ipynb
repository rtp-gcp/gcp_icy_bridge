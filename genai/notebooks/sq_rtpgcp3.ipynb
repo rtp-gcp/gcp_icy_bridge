{
 "cells": [
  {
   "cell_type": "code",
   "execution_count": 2,
   "metadata": {},
   "outputs": [],
   "source": [
    "# Import the os package, used to set env variables and check paths\n",
    "import os\n",
    "# import the dotenv package for client keys in .env file\n",
    "from dotenv import load_dotenv\n",
    "# for random UUID keys\n",
    "# https://docs.python.org/3/library/uuid.html\n",
    "import uuid\n",
    "# Import square \n",
    "from square.client import Client\n",
    "# for pretty print\n",
    "import pprint\n",
    "# for datetime stamp\n",
    "import datetime\n",
    "# for JSON\n",
    "import json"
   ]
  },
  {
   "cell_type": "code",
   "execution_count": 3,
   "metadata": {},
   "outputs": [
    {
     "data": {
      "text/plain": [
       "True"
      ]
     },
     "execution_count": 3,
     "metadata": {},
     "output_type": "execute_result"
    }
   ],
   "source": [
    "# Get the current working directory\n",
    "cwd = os.getcwd()\n",
    "\n",
    "# Construct the .env file path\n",
    "env_path = os.path.join(cwd, '.env')\n",
    "\n",
    "# Load the .env file\n",
    "load_dotenv(dotenv_path=env_path)"
   ]
  },
  {
   "cell_type": "code",
   "execution_count": 4,
   "metadata": {},
   "outputs": [
    {
     "name": "stdout",
     "output_type": "stream",
     "text": [
      "jams-devpost\n"
     ]
    }
   ],
   "source": [
    "PROJECT_ID = os.environ['GCP_PROJ_ID']  # @param {type:\"string\"}\n",
    "# Notice the project name is uppercase. However, the project ID is lowercase\n",
    "print(PROJECT_ID)"
   ]
  },
  {
   "cell_type": "code",
   "execution_count": 5,
   "metadata": {},
   "outputs": [],
   "source": [
    "from google.cloud import storage\n",
    "from google.oauth2 import service_account\n",
    "    \n",
    "\n",
    "# Test to see that environment can find the app credentials.\n",
    "# DO NOT COMMIT TO GIT WITH THIS CELL RUN AS A PRINT    \n",
    "# DO NOT COMMIT TO GIT WITH THIS CELL RUN AS A PRINT    \n",
    "# DO NOT COMMIT TO GIT WITH THIS CELL RUN AS A PRINT    \n",
    "# DO NOT COMMIT TO GIT WITH THIS CELL RUN AS A PRINT    \n",
    "with open(os.environ['GOOGLE_APPLICATION_CREDENTIALS'], 'r') as source:\n",
    "    info = json.load(source)\n",
    "\n",
    "#with open(os.environ['GOOGLE_APPLICATION_CREDENTIALS'], 'r') as f:\n",
    "#    contents = f.read()\n",
    "#    info = json.load(f)\n",
    "#    print(contents)\n",
    "\n",
    "credentials = service_account.Credentials.from_service_account_info(info)\n",
    "    \n",
    "storage_client = storage.Client(project=PROJECT_ID, credentials=credentials)"
   ]
  },
  {
   "cell_type": "code",
   "execution_count": 6,
   "metadata": {},
   "outputs": [
    {
     "name": "stdout",
     "output_type": "stream",
     "text": [
      "jams-devpost\n"
     ]
    }
   ],
   "source": [
    "from google.cloud import aiplatform\n",
    "\n",
    "PROJECT_ID = os.environ['GCP_PROJ_ID']  # @param {type:\"string\"}\n",
    "# Notice the project name is uppercase. However, the project ID is lowercase\n",
    "print(PROJECT_ID)\n",
    "# staging_bucket='jams_bucket')\n",
    "aiplatform.init(project=PROJECT_ID, \n",
    "              location=\"us-central1\",\n",
    "              credentials=credentials)\n",
    "          "
   ]
  },
  {
   "cell_type": "code",
   "execution_count": 7,
   "metadata": {},
   "outputs": [],
   "source": [
    "# test the gcp vertex AI\n",
    "from vertexai.language_models import TextGenerationModel"
   ]
  },
  {
   "cell_type": "code",
   "execution_count": 8,
   "metadata": {},
   "outputs": [],
   "source": [
    "# load the model\n",
    "generation_model = TextGenerationModel.from_pretrained(\"text-bison@001\")"
   ]
  },
  {
   "cell_type": "code",
   "execution_count": 9,
   "metadata": {},
   "outputs": [
    {
     "name": "stdout",
     "output_type": "stream",
     "text": [
      "is a Marvel action figure that is 6 inches tall and has 16 points of articulation.\n"
     ]
    }
   ],
   "source": [
    "# Generate descriptive text for the ad for Dr. Doom\n",
    "prompt = \"Generate one sentence describing the marvel action figure Dr. Doom\"\n",
    "\n",
    "dr_doom_descr = generation_model.predict(prompt=prompt, max_output_tokens=180).text\n",
    "print(dr_doom_descr)"
   ]
  },
  {
   "cell_type": "code",
   "execution_count": 10,
   "metadata": {},
   "outputs": [
    {
     "name": "stdout",
     "output_type": "stream",
     "text": [
      "Nick Fury is a cigar-chomping, eye-patch-wearing, no-nonsense spy.\n"
     ]
    }
   ],
   "source": [
    "# Generate descriptive text for the ad for Nick Fury\n",
    "prompt = \"Generate in 10 words or less a blurb describing the marvel action figure Nick Fury from the 1980s comic book\"\n",
    "\n",
    "nick_fury_descr = generation_model.predict(prompt=prompt, max_output_tokens=180).text\n",
    "print(nick_fury_descr)"
   ]
  },
  {
   "cell_type": "code",
   "execution_count": 100,
   "metadata": {},
   "outputs": [],
   "source": [
    "# init the square API\n",
    "# using generic os environment this fails.\n",
    "# However, when using the dotenv package it works\n",
    "sq_client = Client(\n",
    "    access_token=os.environ['SQUARE_ACCESS_TOKEN'],\n",
    "    environment='production'  \n",
    ")\n",
    "pp = pprint.PrettyPrinter(indent=4)\n"
   ]
  },
  {
   "cell_type": "markdown",
   "metadata": {},
   "source": [
    "# Create a new catalog item and associate with a new image\n",
    "\n",
    "In terms of the Square API\n",
    "\n",
    "* A catalog item example would be *t-shirt*\n",
    "* A catalog item variation would be *size large t-shirt\""
   ]
  },
  {
   "cell_type": "markdown",
   "metadata": {},
   "source": [
    "## step 1 create a catalog item and add to library\n",
    "\n",
    "Everytime this is called, it creates a new one in the library.\n",
    "\n",
    "Use `delete_catalog_object()` to delete them based upon obj_id"
   ]
  },
  {
   "cell_type": "code",
   "execution_count": 101,
   "metadata": {},
   "outputs": [
    {
     "name": "stdout",
     "output_type": "stream",
     "text": [
      "{'catalog_object': {'type': 'ITEM', 'id': '6TRVMNPU4WHUSJIM7PGOCPEW', 'updated_at': '2023-10-01T19:06:55.461Z', 'created_at': '2023-10-01T19:06:55.461Z', 'version': 1696187215461, 'is_deleted': False, 'present_at_all_locations': True, 'item_data': {'name': 'Action Figure', 'description': '6 inch action figure', 'abbreviation': 'ACFIGURE', 'is_taxable': True, 'variations': [{'type': 'ITEM_VARIATION', 'id': 'JDZFUMAN323BTBR663YQLNES', 'updated_at': '2023-10-01T19:06:55.461Z', 'created_at': '2023-10-01T19:06:55.461Z', 'version': 1696187215461, 'is_deleted': False, 'present_at_all_locations': True, 'item_variation_data': {'item_id': '6TRVMNPU4WHUSJIM7PGOCPEW', 'name': 'Dr Doom Action Figure is a Marvel action figure that is 6 inches tall and has 16 points of articulation.', 'ordinal': 0, 'pricing_type': 'FIXED_PRICING', 'price_money': {'amount': 375, 'currency': 'USD'}, 'sellable': True, 'stockable': True}}], 'product_type': 'REGULAR', 'description_html': '<p>6 inch action figure</p>', 'description_plaintext': '6 inch action figure', 'is_archived': False}}, 'id_mappings': [{'client_object_id': '#thisvaries1', 'object_id': '6TRVMNPU4WHUSJIM7PGOCPEW'}, {'client_object_id': '#thisvaries2', 'object_id': 'JDZFUMAN323BTBR663YQLNES'}]}\n"
     ]
    }
   ],
   "source": [
    "# create a key\n",
    "uniq_uuid = uuid.uuid4()\n",
    "# convert to string\n",
    "idempotency_key = str(uniq_uuid)\n",
    "#print(\"uniq_uuid: \", uniq_uuid)\n",
    "#print(\"idempotency_key: \", idempotency_key)\n",
    "\n",
    "# Specify the Catalog Item\n",
    "# NOTE: The first catalog item requires one instance of a variation\n",
    "item_name=\"Action Figure\"\n",
    "item_abbreviation = \"ACFIGURE\"\n",
    "item_description = \"6 inch action figure\"\n",
    "# item variation data includes\n",
    "# description and price in us cents\n",
    "item_variation_name = \"Dr Doom Action Figure \" + dr_doom_descr\n",
    "item_variation_amount = 375\n",
    "\n",
    "\n",
    "\n",
    "\n",
    "result = sq_client.catalog.upsert_catalog_object(\n",
    "  body = {\n",
    "    \"idempotency_key\": idempotency_key,\n",
    "    \"object\": {\n",
    "      \"type\": \"ITEM\",\n",
    "      \"id\": \"#thisvaries1\",\n",
    "      \"item_data\": {\n",
    "        \"name\": item_name,\n",
    "        \"description\": item_description,\n",
    "        \"abbreviation\": item_abbreviation,\n",
    "        \"variations\": [\n",
    "          {\n",
    "            \"type\": \"ITEM_VARIATION\",\n",
    "            \"id\": \"#thisvaries2\",\n",
    "            \"item_variation_data\": {\n",
    "              \"item_id\": \"#thisvaries1\",\n",
    "              \"name\": item_variation_name,\n",
    "              \"pricing_type\": \"FIXED_PRICING\",\n",
    "              \"price_money\": {\n",
    "                \"amount\": item_variation_amount,\n",
    "                \"currency\": \"USD\"\n",
    "              }\n",
    "            }\n",
    "          },\n",
    "        ]\n",
    "      }\n",
    "    }\n",
    "  }\n",
    ")\n",
    "\n",
    "if result.is_success():\n",
    "  print(result.body)\n",
    "elif result.is_error():\n",
    "  print(result.errors)"
   ]
  },
  {
   "cell_type": "code",
   "execution_count": 102,
   "metadata": {},
   "outputs": [
    {
     "name": "stdout",
     "output_type": "stream",
     "text": [
      "{   'catalog_object': {   'created_at': '2023-10-01T19:06:55.461Z',\n",
      "                          'id': '6TRVMNPU4WHUSJIM7PGOCPEW',\n",
      "                          'is_deleted': False,\n",
      "                          'item_data': {   'abbreviation': 'ACFIGURE',\n",
      "                                           'description': '6 inch action '\n",
      "                                                          'figure',\n",
      "                                           'description_html': '<p>6 inch '\n",
      "                                                               'action '\n",
      "                                                               'figure</p>',\n",
      "                                           'description_plaintext': '6 inch '\n",
      "                                                                    'action '\n",
      "                                                                    'figure',\n",
      "                                           'is_archived': False,\n",
      "                                           'is_taxable': True,\n",
      "                                           'name': 'Action Figure',\n",
      "                                           'product_type': 'REGULAR',\n",
      "                                           'variations': [   {   'created_at': '2023-10-01T19:06:55.461Z',\n",
      "                                                                 'id': 'JDZFUMAN323BTBR663YQLNES',\n",
      "                                                                 'is_deleted': False,\n",
      "                                                                 'item_variation_data': {   'item_id': '6TRVMNPU4WHUSJIM7PGOCPEW',\n",
      "                                                                                            'name': 'Dr '\n",
      "                                                                                                    'Doom '\n",
      "                                                                                                    'Action '\n",
      "                                                                                                    'Figure '\n",
      "                                                                                                    'is '\n",
      "                                                                                                    'a '\n",
      "                                                                                                    'Marvel '\n",
      "                                                                                                    'action '\n",
      "                                                                                                    'figure '\n",
      "                                                                                                    'that '\n",
      "                                                                                                    'is '\n",
      "                                                                                                    '6 '\n",
      "                                                                                                    'inches '\n",
      "                                                                                                    'tall '\n",
      "                                                                                                    'and '\n",
      "                                                                                                    'has '\n",
      "                                                                                                    '16 '\n",
      "                                                                                                    'points '\n",
      "                                                                                                    'of '\n",
      "                                                                                                    'articulation.',\n",
      "                                                                                            'ordinal': 0,\n",
      "                                                                                            'price_money': {   'amount': 375,\n",
      "                                                                                                               'currency': 'USD'},\n",
      "                                                                                            'pricing_type': 'FIXED_PRICING',\n",
      "                                                                                            'sellable': True,\n",
      "                                                                                            'stockable': True},\n",
      "                                                                 'present_at_all_locations': True,\n",
      "                                                                 'type': 'ITEM_VARIATION',\n",
      "                                                                 'updated_at': '2023-10-01T19:06:55.461Z',\n",
      "                                                                 'version': 1696187215461}]},\n",
      "                          'present_at_all_locations': True,\n",
      "                          'type': 'ITEM',\n",
      "                          'updated_at': '2023-10-01T19:06:55.461Z',\n",
      "                          'version': 1696187215461},\n",
      "    'id_mappings': [   {   'client_object_id': '#thisvaries1',\n",
      "                           'object_id': '6TRVMNPU4WHUSJIM7PGOCPEW'},\n",
      "                       {   'client_object_id': '#thisvaries2',\n",
      "                           'object_id': 'JDZFUMAN323BTBR663YQLNES'}]}\n"
     ]
    }
   ],
   "source": [
    "# print and save the object id\n",
    "pp.pprint(result.body)\n",
    "\n",
    "# Save the id\n",
    "#cat_obj_item_id = result.body['catalog_object']['id']\n",
    "#print(cat_obj_item_id)"
   ]
  },
  {
   "cell_type": "code",
   "execution_count": 103,
   "metadata": {},
   "outputs": [
    {
     "name": "stdout",
     "output_type": "stream",
     "text": [
      "cat_obj_item_id :  6TRVMNPU4WHUSJIM7PGOCPEW\n",
      "cat_obj_item_variation_id:  JDZFUMAN323BTBR663YQLNES\n"
     ]
    }
   ],
   "source": [
    "# print and save the object id\n",
    "#pp.pprint(result.body)\n",
    "\n",
    "#\n",
    "# Save the id's for catalog and variation id\n",
    "#\n",
    "# Note this is the catalog item id.\n",
    "# Later we want to add a picture for the item variation id.\n",
    "cat_obj_item_id = result.body['catalog_object']['id']\n",
    "#print(cat_obj_item_id)\n",
    "\n",
    "cat_obj_item_variations = result.body['catalog_object']['item_data']['variations']\n",
    "#pp.pprint(cat_obj_item_variations)\n",
    "\n",
    "\n",
    "for x in  cat_obj_item_variations:\n",
    "    #pp.pprint(x)\n",
    "    #pp.pprint(x['item_variation_data']['item_id'])\n",
    "    if item_variation_name == x['item_variation_data']['name']:\n",
    "        #pp.pprint(x)\n",
    "        cat_obj_item_variation_id = x['id']\n",
    "        #pp.pprint(cat_obj_item_variation_id)\n",
    "\n",
    "print(\"cat_obj_item_id : \", cat_obj_item_id )\n",
    "print(\"cat_obj_item_variation_id: \", cat_obj_item_variation_id)\n",
    "# Save off this variation id so we can use to update inventory\n",
    "dr_doom_variation_id=cat_obj_item_variation_id\n",
    "\n",
    "\n",
    "# save for later\n",
    "#item_ids = [e[\"item_variations\"][\"item_id\"] for e in cat_obj_item_id]\n"
   ]
  },
  {
   "cell_type": "markdown",
   "metadata": {},
   "source": [
    "## Step 2 upload an image an associate with the catalog item\n",
    "\n",
    "Add an image to the catablog item variation.  In the case of a *large T-Shirt*, this would be an image of a Large T-Shirt."
   ]
  },
  {
   "cell_type": "code",
   "execution_count": 104,
   "metadata": {},
   "outputs": [
    {
     "name": "stdout",
     "output_type": "stream",
     "text": [
      "{'image': {'type': 'IMAGE', 'id': 'RQI77ZMUETRDFCO4NDXKPJ45', 'updated_at': '2023-10-01T19:08:21.367Z', 'created_at': '2023-10-01T19:08:21.367Z', 'version': 1696187301367, 'is_deleted': False, 'present_at_all_locations': True, 'image_data': {'name': 'Dr Doom Doll Image', 'url': 'https://items-images-production.s3.us-west-2.amazonaws.com/files/0a980973e5af640e65bc451ff2f4c565a2819d9e/original.jpeg', 'caption': 'Dr Doom Doll'}}}\n"
     ]
    }
   ],
   "source": [
    "# create a key\n",
    "uniq_uuid = uuid.uuid4()\n",
    "# convert to string\n",
    "idempotency_key = str(uniq_uuid)\n",
    "#print(\"uniq_uuid: \", uniq_uuid)\n",
    "#print(\"idempotency_key: \", idempotency_key)\n",
    "\n",
    "\n",
    "# DR DOOM\n",
    "file_to_upload_path = \"./sample_imgs/drdoom.jpeg\" # Modify this to point to your desired file.\n",
    "image_name = \"Dr Doom Doll Image\"\n",
    "image_caption = \"Dr Doom Doll\"\n",
    "\n",
    "f_stream = open(file_to_upload_path, \"rb\")\n",
    "\n",
    "\n",
    "\n",
    "result = sq_client.catalog.create_catalog_image(\n",
    "  request = {\n",
    "    \"idempotency_key\": idempotency_key,\n",
    "     \"object_id\": cat_obj_item_variation_id,\n",
    "    \"image\": {\n",
    "      \"type\": \"IMAGE\",\n",
    "      \"id\": \"#image_id\",\n",
    "      \"image_data\": {\n",
    "        \"name\": image_name,\n",
    "        \"caption\": image_caption\n",
    "      }\n",
    "    }\n",
    "  },\n",
    "  image_file = f_stream\n",
    ")\n",
    "\n",
    "if result.is_success():\n",
    "  print(result.body)\n",
    "elif result.is_error():\n",
    "  print(result.errors)\n"
   ]
  },
  {
   "cell_type": "markdown",
   "metadata": {},
   "source": [
    "# Create another variation for the same catalog item\n"
   ]
  },
  {
   "cell_type": "code",
   "execution_count": 105,
   "metadata": {},
   "outputs": [
    {
     "name": "stdout",
     "output_type": "stream",
     "text": [
      "{'catalog_object': {'type': 'ITEM_VARIATION', 'id': '55E3MQD2DCZXVX44XW6HCEMV', 'updated_at': '2023-10-01T19:08:32.572Z', 'created_at': '2023-10-01T19:08:32.572Z', 'version': 1696187312572, 'is_deleted': False, 'present_at_all_locations': True, 'item_variation_data': {'item_id': '6TRVMNPU4WHUSJIM7PGOCPEW', 'name': 'Nick Fury Action Figure Nick Fury is a cigar-chomping, eye-patch-wearing, no-nonsense spy.', 'pricing_type': 'FIXED_PRICING', 'price_money': {'amount': 350, 'currency': 'USD'}, 'sellable': True, 'stockable': True}}, 'id_mappings': [{'client_object_id': '#new', 'object_id': '55E3MQD2DCZXVX44XW6HCEMV'}]}\n"
     ]
    }
   ],
   "source": [
    "# create a key\n",
    "uniq_uuid = uuid.uuid4()\n",
    "# convert to string\n",
    "idempotency_key = str(uniq_uuid)\n",
    "#print(\"uniq_uuid: \", uniq_uuid)\n",
    "#print(\"idempotency_key: \", idempotency_key)\n",
    "\n",
    "# Specify the Catalog Item\n",
    "# NOTE: The first catalog item requires one instance of a variation\n",
    "#item_name=\"Action Figure\"\n",
    "#item_abbreviation = \"ACFIGURE\"\n",
    "#item_description = \"something we want vertex ai to generate\"\n",
    "# item variation data includes\n",
    "# description and price in us cents\n",
    "item_variation_name = \"Nick Fury Action Figure \" + nick_fury_descr\n",
    "item_variation_amount = 350\n",
    "\n",
    "\n",
    "\n",
    "\n",
    "result = sq_client.catalog.upsert_catalog_object(\n",
    "  body = {\n",
    "    \"idempotency_key\": idempotency_key,\n",
    "    \"object\": {\n",
    "      \"type\": \"ITEM_VARIATION\",\n",
    "      \"id\": \"#new\",\n",
    "      \"item_variation_data\": {\n",
    "        \"item_id\": cat_obj_item_id,\n",
    "        \"name\": item_variation_name,\n",
    "        \"pricing_type\": \"FIXED_PRICING\",\n",
    "        \"price_money\": {\n",
    "          \"amount\": item_variation_amount,\n",
    "          \"currency\": \"USD\"\n",
    "        }\n",
    "      }\n",
    "    }\n",
    "  }\n",
    ")\n",
    "\n",
    "if result.is_success():\n",
    "  print(result.body)\n",
    "elif result.is_error():\n",
    "  print(result.errors)\n",
    "\n",
    "\n",
    "\n",
    "\n",
    "\n"
   ]
  },
  {
   "cell_type": "code",
   "execution_count": 106,
   "metadata": {},
   "outputs": [
    {
     "name": "stdout",
     "output_type": "stream",
     "text": [
      "{   'catalog_object': {   'created_at': '2023-10-01T19:08:32.572Z',\n",
      "                          'id': '55E3MQD2DCZXVX44XW6HCEMV',\n",
      "                          'is_deleted': False,\n",
      "                          'item_variation_data': {   'item_id': '6TRVMNPU4WHUSJIM7PGOCPEW',\n",
      "                                                     'name': 'Nick Fury Action '\n",
      "                                                             'Figure Nick Fury '\n",
      "                                                             'is a '\n",
      "                                                             'cigar-chomping, '\n",
      "                                                             'eye-patch-wearing, '\n",
      "                                                             'no-nonsense spy.',\n",
      "                                                     'price_money': {   'amount': 350,\n",
      "                                                                        'currency': 'USD'},\n",
      "                                                     'pricing_type': 'FIXED_PRICING',\n",
      "                                                     'sellable': True,\n",
      "                                                     'stockable': True},\n",
      "                          'present_at_all_locations': True,\n",
      "                          'type': 'ITEM_VARIATION',\n",
      "                          'updated_at': '2023-10-01T19:08:32.572Z',\n",
      "                          'version': 1696187312572},\n",
      "    'id_mappings': [   {   'client_object_id': '#new',\n",
      "                           'object_id': '55E3MQD2DCZXVX44XW6HCEMV'}]}\n",
      "55E3MQD2DCZXVX44XW6HCEMV\n"
     ]
    }
   ],
   "source": [
    "# print and save the object id\n",
    "pp.pprint(result.body)\n",
    "\n",
    "#\n",
    "# Save the id's for catalog and variation id\n",
    "#\n",
    "# Note this is the catalog item id.\n",
    "# Later we want to add a picture for the item variation id.\n",
    "# NOTE: I was expecting to have to search through the variations\n",
    "# to find the variation id, when you have two items, but it appears you get just the last item\n",
    "# so we don't have to search.  We know where it is.\n",
    "cat_obj_item_variation_id = result.body['catalog_object']['id']\n",
    "\n",
    "print(cat_obj_item_variation_id)\n",
    "\n",
    "# Save off this variation id so we can use to update inventory\n",
    "nick_fury_variation_id=cat_obj_item_variation_id\n",
    "\n"
   ]
  },
  {
   "cell_type": "markdown",
   "metadata": {},
   "source": [
    "# Add an image for the variation"
   ]
  },
  {
   "cell_type": "code",
   "execution_count": 107,
   "metadata": {},
   "outputs": [
    {
     "name": "stdout",
     "output_type": "stream",
     "text": [
      "idempotency_key:  515db70b-acee-4fbe-a7fe-b862cd534a07\n",
      "{'image': {'type': 'IMAGE', 'id': 'DKBWMTYIE4JN5YRY72SDQUQJ', 'updated_at': '2023-10-01T19:08:54.396Z', 'created_at': '2023-10-01T19:08:54.396Z', 'version': 1696187334396, 'is_deleted': False, 'present_at_all_locations': True, 'image_data': {'name': 'Nick Fury Doll Image', 'url': 'https://items-images-production.s3.us-west-2.amazonaws.com/files/2e7be50da564218c0327c39300dfd2198445bd2d/original.jpeg', 'caption': 'Nick Fury Doll'}}}\n"
     ]
    }
   ],
   "source": [
    "# create a key\n",
    "uniq_uuid = uuid.uuid4()\n",
    "# convert to string\n",
    "idempotency_key = str(uniq_uuid)\n",
    "#print(\"uniq_uuid: \", uniq_uuid)\n",
    "print(\"idempotency_key: \", idempotency_key)\n",
    "\n",
    "\n",
    "# Nick Fury\n",
    "file_to_upload_path = \"./sample_imgs/nickfury.jpeg\" # Modify this to point to your desired file.\n",
    "image_name = \"Nick Fury Doll Image\"\n",
    "image_caption = \"Nick Fury Doll\"\n",
    "\n",
    "f_stream = open(file_to_upload_path, \"rb\")\n",
    "\n",
    "result = sq_client.catalog.create_catalog_image(\n",
    "   request = {\n",
    "     \"idempotency_key\": idempotency_key,\n",
    "      \"object_id\": cat_obj_item_variation_id,\n",
    "     \"image\": {\n",
    "       \"type\": \"IMAGE\",\n",
    "       \"id\": \"#image_id\",\n",
    "       \"image_data\": {\n",
    "         \"name\": image_name,\n",
    "         \"caption\": image_caption\n",
    "       }\n",
    "     }\n",
    "   },\n",
    "   image_file = f_stream\n",
    " )\n",
    "\n",
    "if result.is_success():\n",
    "   print(result.body)\n",
    "elif result.is_error():\n",
    "   print(result.errors)\n"
   ]
  },
  {
   "cell_type": "code",
   "execution_count": null,
   "metadata": {},
   "outputs": [],
   "source": []
  },
  {
   "cell_type": "code",
   "execution_count": null,
   "metadata": {},
   "outputs": [],
   "source": []
  },
  {
   "cell_type": "code",
   "execution_count": null,
   "metadata": {},
   "outputs": [],
   "source": []
  },
  {
   "cell_type": "code",
   "execution_count": null,
   "metadata": {},
   "outputs": [],
   "source": []
  },
  {
   "cell_type": "code",
   "execution_count": null,
   "metadata": {},
   "outputs": [],
   "source": []
  },
  {
   "cell_type": "markdown",
   "metadata": {},
   "source": [
    "# update the inventory count (This is a required api usage for the hackathon)\n",
    "\n",
    "This will update the current count.  It is not an adjustment.\n",
    "\n",
    "Example: if you currently have 10 items, you use this call to specify 15 items, afterwards inventory is 15 items.\n",
    "There is another call which is \"inventory adjustment\" that will increase/decrease the inventory account \n",
    "by the specified amount.  For this reason, simply use the api to specify a count."
   ]
  },
  {
   "cell_type": "code",
   "execution_count": 108,
   "metadata": {},
   "outputs": [
    {
     "name": "stdout",
     "output_type": "stream",
     "text": [
      "action figure cat id:  6TRVMNPU4WHUSJIM7PGOCPEW\n",
      "dr doom var id:  JDZFUMAN323BTBR663YQLNES\n",
      "nick fury var id:  55E3MQD2DCZXVX44XW6HCEMV\n"
     ]
    }
   ],
   "source": [
    "# Save off this variation id so we can use to update inventory\n",
    "\n",
    "# print the id's of interest\n",
    "print(\"action figure cat id: \", cat_obj_item_id)\n",
    "print(\"dr doom var id: \", dr_doom_variation_id)\n",
    "print(\"nick fury var id: \", nick_fury_variation_id)\n"
   ]
  },
  {
   "cell_type": "markdown",
   "metadata": {},
   "source": [
    "# update inventory for Dr Doom Variation "
   ]
  },
  {
   "cell_type": "code",
   "execution_count": 109,
   "metadata": {},
   "outputs": [
    {
     "name": "stdout",
     "output_type": "stream",
     "text": [
      "results:\n",
      "<ApiResponse {\"counts\":[{\"catalog_object_id\":\"JDZFUMAN323BTBR663YQLNES\",\"catalog_object_type\":\"ITEM_VARIATION\",\"state\":\"IN_STOCK\",\"location_id\":\"LZBNSDTSHAMM8\",\"quantity\":\"10\",\"calculated_at\":\"2023-10-01T19:10:10.595Z\"}]}>\n",
      "success\n",
      "{'counts': [{'catalog_object_id': 'JDZFUMAN323BTBR663YQLNES', 'catalog_object_type': 'ITEM_VARIATION', 'state': 'IN_STOCK', 'location_id': 'LZBNSDTSHAMM8', 'quantity': '10', 'calculated_at': '2023-10-01T19:10:10.595Z'}]}\n"
     ]
    }
   ],
   "source": [
    "# create a key\n",
    "uniq_uuid = uuid.uuid4()\n",
    "#print(\"uniq_uuid: \", uniq_uuid)\n",
    "\n",
    "# constants between inventory updates\n",
    "online_store_loc_id = \"LZBNSDTSHAMM8\"\n",
    "quantity_update_number = \"10\"  # assume we want to specify a particular count, not adj by this amount.\n",
    "\n",
    "# get current timestamp as ISO8601 yyyy-mm-ddThr:min:sec.sssZ\n",
    "current_time = datetime.datetime.now().isoformat(timespec='seconds')\n",
    "current_time = current_time + 'Z'\n",
    "time_of_received_inventory = current_time\n",
    "\n",
    "\n",
    "# Dr doom Inventory\n",
    "variation_id = dr_doom_variation_id\n",
    "\n",
    "result = sq_client.inventory.batch_change_inventory(\n",
    "  body = {\n",
    "    \"idempotency_key\": str(uniq_uuid),\n",
    "    \"changes\": [\n",
    "      {\n",
    "        \"type\": \"PHYSICAL_COUNT\",\n",
    "        \"physical_count\": {\n",
    "          \"catalog_object_id\": variation_id,\n",
    "          \"state\": \"IN_STOCK\",\n",
    "          \"location_id\": online_store_loc_id,\n",
    "          \"quantity\": quantity_update_number,\n",
    "          \"occurred_at\": time_of_received_inventory\n",
    "        }\n",
    "      }\n",
    "    ]\n",
    "  }\n",
    ")\n",
    "\n",
    "# If the existing count is 15, and the update is to have\n",
    "# 15, then the results will be {}.\n",
    "#\n",
    "# If the existing count is 10 and the update is 15,\n",
    "# then the results will have some json\n",
    "\n",
    "print(\"results:\")\n",
    "print(result)\n",
    "if result.is_success():\n",
    "  print(\"success\")\n",
    "  print(result.body)\n",
    "elif result.is_error():\n",
    "  print(\"failure\")\n",
    "  print(result.errors)"
   ]
  },
  {
   "cell_type": "markdown",
   "metadata": {},
   "source": [
    "# update nick fury variation inventory count"
   ]
  },
  {
   "cell_type": "code",
   "execution_count": 110,
   "metadata": {},
   "outputs": [
    {
     "name": "stdout",
     "output_type": "stream",
     "text": [
      "results:\n",
      "<ApiResponse {\"counts\":[{\"catalog_object_id\":\"55E3MQD2DCZXVX44XW6HCEMV\",\"catalog_object_type\":\"ITEM_VARIATION\",\"state\":\"IN_STOCK\",\"location_id\":\"LZBNSDTSHAMM8\",\"quantity\":\"5\",\"calculated_at\":\"2023-10-01T19:10:14.359Z\"}]}>\n",
      "success\n",
      "{'counts': [{'catalog_object_id': '55E3MQD2DCZXVX44XW6HCEMV', 'catalog_object_type': 'ITEM_VARIATION', 'state': 'IN_STOCK', 'location_id': 'LZBNSDTSHAMM8', 'quantity': '5', 'calculated_at': '2023-10-01T19:10:14.359Z'}]}\n"
     ]
    }
   ],
   "source": [
    "# create a key\n",
    "uniq_uuid = uuid.uuid4()\n",
    "#print(\"uniq_uuid: \", uniq_uuid)\n",
    "\n",
    "# constants between inventory updates\n",
    "online_store_loc_id = \"LZBNSDTSHAMM8\"\n",
    "quantity_update_number = \"5\"  # assume we want to specify a particular count, not adj by this amount.\n",
    "\n",
    "# get current timestamp as ISO8601 yyyy-mm-ddThr:min:sec.sssZ\n",
    "current_time = datetime.datetime.now().isoformat(timespec='seconds')\n",
    "current_time = current_time + 'Z'\n",
    "time_of_received_inventory = current_time\n",
    "\n",
    "\n",
    "# Nick Fury Inventory\n",
    "variation_id = nick_fury_variation_id\n",
    "\n",
    "result = sq_client.inventory.batch_change_inventory(\n",
    "  body = {\n",
    "    \"idempotency_key\": str(uniq_uuid),\n",
    "    \"changes\": [\n",
    "      {\n",
    "        \"type\": \"PHYSICAL_COUNT\",\n",
    "        \"physical_count\": {\n",
    "          \"catalog_object_id\": variation_id,\n",
    "          \"state\": \"IN_STOCK\",\n",
    "          \"location_id\": online_store_loc_id,\n",
    "          \"quantity\": quantity_update_number,\n",
    "          \"occurred_at\": time_of_received_inventory\n",
    "        }\n",
    "      }\n",
    "    ]\n",
    "  }\n",
    ")\n",
    "\n",
    "# If the existing count is 15, and the update is to have\n",
    "# 15, then the results will be {}.\n",
    "#\n",
    "# If the existing count is 10 and the update is 15,\n",
    "# then the results will have some json\n",
    "\n",
    "print(\"results:\")\n",
    "print(result)\n",
    "if result.is_success():\n",
    "  print(\"success\")\n",
    "  print(result.body)\n",
    "elif result.is_error():\n",
    "  print(\"failure\")\n",
    "  print(result.errors)"
   ]
  },
  {
   "cell_type": "markdown",
   "metadata": {},
   "source": [
    "# Get info about a particular item"
   ]
  },
  {
   "cell_type": "code",
   "execution_count": 90,
   "metadata": {},
   "outputs": [
    {
     "name": "stdout",
     "output_type": "stream",
     "text": [
      "{'object': {'type': 'ITEM', 'id': 'N66OBPI7PJY6DKHPIU4LWBGA', 'updated_at': '2023-10-01T18:58:11.725Z', 'created_at': '2023-10-01T18:57:50.069Z', 'version': 1696186691725, 'is_deleted': False, 'present_at_all_locations': True, 'item_data': {'name': 'Action Figure', 'description': '6 inch action figure', 'abbreviation': 'ACFIGURE', 'is_taxable': True, 'variations': [{'type': 'ITEM_VARIATION', 'id': 'OH2NI7SEWGALMSTERIO2TJZ4', 'updated_at': '2023-10-01T18:58:10.675Z', 'created_at': '2023-10-01T18:57:50.069Z', 'version': 1696186690675, 'is_deleted': False, 'present_at_all_locations': True, 'item_variation_data': {'item_id': 'N66OBPI7PJY6DKHPIU4LWBGA', 'name': 'Dr Doom Action Figure is a Marvel action figure that is 6 inches tall and has 16 points of articulation.', 'ordinal': 0, 'pricing_type': 'FIXED_PRICING', 'price_money': {'amount': 375, 'currency': 'USD'}, 'location_overrides': [{'location_id': 'LZBNSDTSHAMM8', 'track_inventory': True}], 'sellable': True, 'stockable': True, 'image_ids': ['C2UJMCREZXBJVHNJHQSMA4ZE']}}, {'type': 'ITEM_VARIATION', 'id': 'RYNNARBQQLVXINZBRFLSQ2GK', 'updated_at': '2023-10-01T18:58:11.725Z', 'created_at': '2023-10-01T18:57:58.329Z', 'version': 1696186691725, 'is_deleted': False, 'present_at_all_locations': True, 'item_variation_data': {'item_id': 'N66OBPI7PJY6DKHPIU4LWBGA', 'name': 'Nick Fury Action Figure Nick Fury is a cigar-chomping, eye-patch-wearing, no-nonsense spy.', 'pricing_type': 'FIXED_PRICING', 'price_money': {'amount': 350, 'currency': 'USD'}, 'location_overrides': [{'location_id': 'LZBNSDTSHAMM8', 'track_inventory': True}], 'sellable': True, 'stockable': True, 'image_ids': ['T7DGDFJXE7MWS2CGCOVJ444C']}}], 'product_type': 'REGULAR', 'description_html': '<p>6 inch action figure</p>', 'description_plaintext': '6 inch action figure', 'is_archived': False}}}\n"
     ]
    }
   ],
   "source": [
    "# catalog item \n",
    "object_id = cat_obj_item_id\n",
    "\n",
    "# nick fury variation item\n",
    "#object_id = nick_fury_variation_id\n",
    "\n",
    "# dr doom variation item\n",
    "#object_id = dr_doom_variation_id\n",
    "\n",
    "\n",
    "result = sq_client.catalog.retrieve_catalog_object(\n",
    "  object_id = object_id\n",
    ")\n",
    "\n",
    "if result.is_success():\n",
    "  print(result.body)\n",
    "elif result.is_error():\n",
    "  print(result.errors)"
   ]
  },
  {
   "cell_type": "code",
   "execution_count": 29,
   "metadata": {},
   "outputs": [
    {
     "name": "stdout",
     "output_type": "stream",
     "text": [
      "{   'object': {   'created_at': '2023-10-01T17:25:03.923Z',\n",
      "                  'id': '7DYIBAXRC6DA4FA2MBLHY5SZ',\n",
      "                  'is_deleted': False,\n",
      "                  'item_data': {   'abbreviation': 'ACFIGURE',\n",
      "                                   'delivery_fulfillment_preferences_id': 'fprefs_127siquj0a3oo1afthgaishjx',\n",
      "                                   'description': 'something we want vertex ai '\n",
      "                                                  'to generate',\n",
      "                                   'description_html': '<p>something we want '\n",
      "                                                       'vertex ai to '\n",
      "                                                       'generate</p>',\n",
      "                                   'description_plaintext': 'something we want '\n",
      "                                                            'vertex ai to '\n",
      "                                                            'generate',\n",
      "                                   'ecom_available': True,\n",
      "                                   'ecom_image_uris': [   'https://rtp-gcp-usergroup.square.site/uploads/1/4/7/0/147028449/s933423469753632432_p45_i1_w970.jpeg',\n",
      "                                                          'https://rtp-gcp-usergroup.square.site/uploads/1/4/7/0/147028449/s933423469753632432_p45_i2_w1200.jpeg'],\n",
      "                                   'ecom_uri': 'https://rtp-gcp-usergroup.square.site/product/action-figure/45',\n",
      "                                   'ecom_visibility': 'VISIBLE',\n",
      "                                   'is_archived': False,\n",
      "                                   'is_taxable': True,\n",
      "                                   'name': 'Action Figure',\n",
      "                                   'pickup_fulfillment_preferences_id': 'fprefs_127siquj0qbpae8xj3oqct80t',\n",
      "                                   'product_type': 'REGULAR',\n",
      "                                   'skip_modifier_screen': False,\n",
      "                                   'variations': [   {   'created_at': '2023-10-01T17:25:03.923Z',\n",
      "                                                         'id': 'KOJD5EZ26EAQK33XPU4IJDAY',\n",
      "                                                         'is_deleted': False,\n",
      "                                                         'item_variation_data': {   'image_ids': [   'H65Y34PV6MBTF44ERTOIKSUB'],\n",
      "                                                                                    'item_id': '7DYIBAXRC6DA4FA2MBLHY5SZ',\n",
      "                                                                                    'location_overrides': [   {   'location_id': 'LZBNSDTSHAMM8',\n",
      "                                                                                                                  'track_inventory': True}],\n",
      "                                                                                    'name': 'Dr '\n",
      "                                                                                            'Doom '\n",
      "                                                                                            'Action '\n",
      "                                                                                            'Figure',\n",
      "                                                                                    'ordinal': 0,\n",
      "                                                                                    'price_money': {   'amount': 375,\n",
      "                                                                                                       'currency': 'USD'},\n",
      "                                                                                    'pricing_type': 'FIXED_PRICING',\n",
      "                                                                                    'sellable': True,\n",
      "                                                                                    'stockable': True},\n",
      "                                                         'present_at_all_locations': True,\n",
      "                                                         'type': 'ITEM_VARIATION',\n",
      "                                                         'updated_at': '2023-10-01T18:13:43.066Z',\n",
      "                                                         'version': 1696184023066},\n",
      "                                                     {   'created_at': '2023-10-01T17:25:09.725Z',\n",
      "                                                         'id': 'V3GVB5MRJERYWH6FOYLSMHPP',\n",
      "                                                         'is_deleted': False,\n",
      "                                                         'item_variation_data': {   'image_ids': [   'Z2IHXLPF65PEGZIAZQCHGNSK'],\n",
      "                                                                                    'item_id': '7DYIBAXRC6DA4FA2MBLHY5SZ',\n",
      "                                                                                    'location_overrides': [   {   'location_id': 'LZBNSDTSHAMM8',\n",
      "                                                                                                                  'track_inventory': True}],\n",
      "                                                                                    'name': 'Nick '\n",
      "                                                                                            'Fury '\n",
      "                                                                                            'Action '\n",
      "                                                                                            'Figure',\n",
      "                                                                                    'ordinal': 1,\n",
      "                                                                                    'price_money': {   'amount': 350,\n",
      "                                                                                                       'currency': 'USD'},\n",
      "                                                                                    'pricing_type': 'FIXED_PRICING',\n",
      "                                                                                    'sellable': True,\n",
      "                                                                                    'stockable': True},\n",
      "                                                         'present_at_all_locations': True,\n",
      "                                                         'type': 'ITEM_VARIATION',\n",
      "                                                         'updated_at': '2023-10-01T18:13:43.066Z',\n",
      "                                                         'version': 1696184023066}],\n",
      "                                   'visibility': 'PRIVATE'},\n",
      "                  'present_at_all_locations': True,\n",
      "                  'type': 'ITEM',\n",
      "                  'updated_at': '2023-10-01T18:13:43.066Z',\n",
      "                  'version': 1696184023066}}\n"
     ]
    }
   ],
   "source": [
    "pp.pprint(result.body)"
   ]
  },
  {
   "cell_type": "code",
   "execution_count": null,
   "metadata": {},
   "outputs": [],
   "source": []
  },
  {
   "cell_type": "code",
   "execution_count": null,
   "metadata": {},
   "outputs": [],
   "source": []
  },
  {
   "cell_type": "markdown",
   "metadata": {},
   "source": [
    "# add visibility to the items so they appear in the online \n",
    "\n",
    "This does not appear to be doable via API.  To do manually:\n",
    "\n",
    "0. Vist the online [site](https://rtp-gcp-usergroup.square.site/s/shop) and it should not list any items for sale.\n",
    "1. Open `Square Dashboard`\n",
    "2. Select `Item Library``\n",
    "3. Click the text title for the action figure.  eg. the item category item.\n",
    "4. The `Edit Item`  will appear.\n",
    "5. Scroll down to `Square Online settings`\n",
    "6. Click the slider next to rtp gcp user group\n",
    "7. Vist the online [site](https://rtp-gcp-usergroup.square.site/s/shop) and it should be listed online. \n",
    "\n",
    "\n",
    "Here is the [Sites API](https://developer.squareup.com/docs/sites-api/use-the-api), it does not look like it has an API to do this.  Instead it appears to be for listing the sites and not updating items visibility.\n",
    "\n",
    "Perhaps you can use the upsert API to do this, but I can't figure it out.  It seems you have to update everything all over again.  I just want to change the visibility...."
   ]
  },
  {
   "cell_type": "code",
   "execution_count": null,
   "metadata": {},
   "outputs": [],
   "source": []
  },
  {
   "cell_type": "markdown",
   "metadata": {},
   "source": [
    "# modify category for items\n",
    "ie. modify these items to be \"Marvel Comics\".  Create some items using \"lord of the rings.\", Modify these items to be of type \"lord of the rings\".\n",
    "\n",
    "I gave up trying to change the category or the online visibility via the API."
   ]
  },
  {
   "cell_type": "code",
   "execution_count": null,
   "metadata": {},
   "outputs": [],
   "source": [
    "\n"
   ]
  },
  {
   "cell_type": "code",
   "execution_count": null,
   "metadata": {},
   "outputs": [],
   "source": []
  },
  {
   "cell_type": "code",
   "execution_count": null,
   "metadata": {},
   "outputs": [],
   "source": []
  },
  {
   "cell_type": "markdown",
   "metadata": {},
   "source": [
    "## Delete a catalog object item\n",
    "\n",
    "`DONT RUN UNLESS YOU WANT TO RECREATE THE ITEM`"
   ]
  },
  {
   "cell_type": "code",
   "execution_count": 19,
   "metadata": {},
   "outputs": [
    {
     "name": "stdout",
     "output_type": "stream",
     "text": [
      "{'deleted_object_ids': ['45KACZNXRA7PM32CAGXGRZA4', 'S5IJI4PUFA5VTB2Y6NDZ6HQV'], 'deleted_at': '2023-09-30T13:12:08.572Z'}\n"
     ]
    }
   ],
   "source": [
    "delete_id = \"S5IJI4PUFA5VTB2Y6NDZ6HQV\"\n",
    "result = sq_client.catalog.delete_catalog_object(\n",
    "  object_id = delete_id\n",
    ")\n",
    "\n",
    "if result.is_success():\n",
    "  print(result.body)\n",
    "elif result.is_error():\n",
    "  print(result.errors)"
   ]
  },
  {
   "cell_type": "code",
   "execution_count": null,
   "metadata": {},
   "outputs": [],
   "source": []
  }
 ],
 "metadata": {
  "kernelspec": {
   "display_name": "myenv",
   "language": "python",
   "name": "python3"
  },
  "language_info": {
   "codemirror_mode": {
    "name": "ipython",
    "version": 3
   },
   "file_extension": ".py",
   "mimetype": "text/x-python",
   "name": "python",
   "nbconvert_exporter": "python",
   "pygments_lexer": "ipython3",
   "version": "3.10.8"
  },
  "orig_nbformat": 4
 },
 "nbformat": 4,
 "nbformat_minor": 2
}
